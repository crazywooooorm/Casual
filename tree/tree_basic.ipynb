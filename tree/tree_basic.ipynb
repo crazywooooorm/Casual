{
 "cells": [
  {
   "cell_type": "markdown",
   "metadata": {},
   "source": [
    "# Binary Tree Basics"
   ]
  },
  {
   "cell_type": "markdown",
   "metadata": {},
   "source": [
    "## Traverse A Tree"
   ]
  },
  {
   "cell_type": "markdown",
   "metadata": {},
   "source": [
    "Pre-order Traversal: root -> left -> right\n",
    "\n",
    "In-order Traversal: left -> root -> right\n",
    "\n",
    "Post-order Traversal: left -> right -> root, usually used in deleting nodes or representing math expressions"
   ]
  },
  {
   "cell_type": "code",
   "execution_count": 9,
   "metadata": {},
   "outputs": [],
   "source": [
    "# Definition for a binary tree node.\n",
    "class TreeNode:\n",
    "    def __init__(self, x):\n",
    "        self.val = x\n",
    "        self.left = None\n",
    "        self.right = None"
   ]
  },
  {
   "cell_type": "code",
   "execution_count": 10,
   "metadata": {},
   "outputs": [
    {
     "name": "stdout",
     "output_type": "stream",
     "text": [
      "[1, 2, 3]\n"
     ]
    }
   ],
   "source": [
    "# pre-order traversal, other traversal is just changing the order within 'if'\n",
    "class Solution:\n",
    "    def preorderTraversal(self, root):\n",
    "        res = []\n",
    "        if root:\n",
    "            res.append(root.val)\n",
    "            res = res + self.preorderTraversal(root.left)\n",
    "            res = res + self.preorderTraversal(root.right)\n",
    "        return res\n",
    "\n",
    "# run\n",
    "root = TreeNode(1)\n",
    "root.right = TreeNode(2)\n",
    "root.right.left = TreeNode(3)\n",
    "print(Solution().preorderTraversal(root))"
   ]
  },
  {
   "cell_type": "code",
   "execution_count": 12,
   "metadata": {},
   "outputs": [
    {
     "name": "stdout",
     "output_type": "stream",
     "text": [
      "[[1], [4, 2], [3]]\n"
     ]
    }
   ],
   "source": [
    "# level-order traversal\n",
    "# return the roots of each level\n",
    "class Solution:\n",
    "    def levelOrder(self, root):\n",
    "        res, level = [], [root]\n",
    "        while root and level:\n",
    "            res.append([root.val for root in level])            \n",
    "            level = [leaf for n in level for leaf in (n.left, n.right) if leaf]\n",
    "        return res\n",
    "\n",
    "# run \n",
    "root = TreeNode(1)\n",
    "root.left = TreeNode(4)\n",
    "root.right = TreeNode(2)\n",
    "root.right.left = TreeNode(3)\n",
    "print(Solution().levelOrder(root))"
   ]
  },
  {
   "cell_type": "markdown",
   "metadata": {},
   "source": [
    "## Solve Problem Recursively"
   ]
  },
  {
   "cell_type": "code",
   "execution_count": 14,
   "metadata": {},
   "outputs": [
    {
     "name": "stdout",
     "output_type": "stream",
     "text": [
      "3\n"
     ]
    }
   ],
   "source": [
    "# Top-Down solution to calculate the depth of tree\n",
    "class Solution:\n",
    "    def maxDepth(self, root):\n",
    "        dep = 0\n",
    "        if root:\n",
    "            dep = max(self.maxDepth(root.left), self.maxDepth(root.right)) + 1\n",
    "        return dep\n",
    "\n",
    "# run \n",
    "print(Solution().maxDepth(root))"
   ]
  },
  {
   "cell_type": "code",
   "execution_count": 33,
   "metadata": {},
   "outputs": [
    {
     "name": "stdout",
     "output_type": "stream",
     "text": [
      "True\n"
     ]
    }
   ],
   "source": [
    "# Top-Down solution to check if the tree is symmetric\n",
    "'''\n",
    "In this case, the target of recursion is not a node but the two leaves of a node. \n",
    "Make the left and right leaves as two inputs of the recursion function is the key of this problem.\n",
    "'''\n",
    "class Solution:\n",
    "    def isSymmetric(self, root):\n",
    "        def checkSymmetric(l, r):\n",
    "            ans = True\n",
    "            if (l is None) & (r is None):\n",
    "                return True\n",
    "            elif (l is None) | (r is None):\n",
    "                return False\n",
    "            elif l.val != r.val:\n",
    "                return False\n",
    "            else:\n",
    "                return (ans & checkSymmetric(l.left, r.right) & checkSymmetric(l.right, r.left))\n",
    "        \n",
    "        if root is None:\n",
    "            return True\n",
    "        elif (root.left is None) & (root.right is None):\n",
    "            return True\n",
    "        elif (root.left is None) | (root.right is None):\n",
    "            return False\n",
    "        else:\n",
    "            return checkSymmetric(root.left, root.right)\n",
    "\n",
    "# run\n",
    "root = TreeNode(1)\n",
    "root.left = TreeNode(2)\n",
    "root.right = TreeNode(2)\n",
    "root.right.left = TreeNode(3)\n",
    "root.left.right = TreeNode(3)\n",
    "print(Solution().isSymmetric(root))"
   ]
  },
  {
   "cell_type": "code",
   "execution_count": 35,
   "metadata": {},
   "outputs": [
    {
     "name": "stdout",
     "output_type": "stream",
     "text": [
      "True\n"
     ]
    }
   ],
   "source": [
    "# Top-Down solution to check if the one path of root -> leaf sums up to 'sum'.\n",
    "class Solution:\n",
    "    def hasPathSum(self, root, sum):\n",
    "        if root:\n",
    "            if root.val == sum:\n",
    "                if (root.left is None) & (root.right is None):\n",
    "                    return True\n",
    "                if (root.left is None) | (root.right is None):\n",
    "                    return False\n",
    "                else:\n",
    "                    return self.hasPathSum(root.left, sum-root.val) | self.hasPathSum(root.right, sum-root.val)\n",
    "            else:\n",
    "                if (root.left is None) & (root.right is None):\n",
    "                    return False\n",
    "                elif (root.left is not None) & (root.right is None):\n",
    "                    return self.hasPathSum(root.left, sum-root.val) \n",
    "                elif (root.left is None) & (root.right is not None):\n",
    "                    return self.hasPathSum(root.right, sum-root.val)\n",
    "                else:\n",
    "                    return self.hasPathSum(root.left, sum-root.val) | self.hasPathSum(root.right, sum-root.val)\n",
    "        else:\n",
    "            return False\n",
    "        \n",
    "# run\n",
    "root = TreeNode(1)\n",
    "root.left = TreeNode(2)\n",
    "root.left.left = TreeNode(4)\n",
    "root.left.right = TreeNode(7)\n",
    "print(Solution().hasPathSum(root, 10))"
   ]
  },
  {
   "cell_type": "code",
   "execution_count": 42,
   "metadata": {},
   "outputs": [
    {
     "data": {
      "text/plain": [
       "<__main__.TreeNode at 0x11050bb00>"
      ]
     },
     "execution_count": 42,
     "metadata": {},
     "output_type": "execute_result"
    }
   ],
   "source": [
    "# Use queue to do a level-order Serialization and Deserialization\n",
    "class Codec:\n",
    "\n",
    "    def serialize(self, root):\n",
    "        \"\"\"Encodes a tree to a single string.\n",
    "        \n",
    "        :type root: TreeNode\n",
    "        :rtype: str\n",
    "        \"\"\"\n",
    "        if not root:\n",
    "            return []\n",
    "        \n",
    "        res = [root.val]\n",
    "        q = collections.deque([root])\n",
    "        \n",
    "        while q:\n",
    "            cur = q.popleft()\n",
    "            if cur.left:\n",
    "                q.append(cur.left)\n",
    "            if cur.right:\n",
    "                q.append(cur.right)\n",
    "            res.append(cur.left.val if cur.left else 'null')\n",
    "            res.append(cur.right.val if cur.right else 'null')\n",
    "        while res[-1] == 'null':\n",
    "            res.pop()\n",
    "        \n",
    "        return '[' + ','.join(map(str, res)) + ']'\n",
    "        \n",
    "\n",
    "    def deserialize(self, data):\n",
    "        \"\"\"Decodes your encoded data to tree.\n",
    "        \n",
    "        :type data: str\n",
    "        :rtype: TreeNode\n",
    "        \"\"\"\n",
    "        if data == []:\n",
    "            return None\n",
    "        nodes = collections.deque([[TreeNode(o), None][o == 'null'] for o in data[1:-1].split(',')])\n",
    "        q = collections.deque([nodes.popleft()]) if nodes else None\n",
    "        root = q[0] if q else None\n",
    "        \n",
    "        while q:\n",
    "            parent = q.popleft()\n",
    "            left = nodes.popleft() if nodes else None\n",
    "            right = nodes.popleft() if nodes else None\n",
    "            parent.left, parent.right = left, right\n",
    "            if left:\n",
    "                q.append(left)\n",
    "            if right:\n",
    "                q.append(right)\n",
    "        return root\n",
    "\n",
    "# run\n",
    "import collections\n",
    "codec = Codec()\n",
    "codec.deserialize(codec.serialize(root))"
   ]
  },
  {
   "cell_type": "code",
   "execution_count": 47,
   "metadata": {},
   "outputs": [],
   "source": [
    "# Recursively find the lowest common ancestor of a binary tree\n",
    "class Solution:\n",
    "    def lowestCommonAncestor(self, root, p, q):\n",
    "        def recurFind(current):\n",
    "            if not current:\n",
    "                return False\n",
    "            \n",
    "            left = recurFind(current.left)\n",
    "            right = recurFind(current.right)\n",
    "            \n",
    "            mid = (current in [p, q])\n",
    "            \n",
    "            if left + right + mid >= 2:\n",
    "                self.ans = current\n",
    "            \n",
    "            return left or right or mid\n",
    "        \n",
    "        recurFind(root)\n",
    "        return self.ans\n"
   ]
  },
  {
   "cell_type": "markdown",
   "metadata": {},
   "source": [
    "# Queue and Stack"
   ]
  },
  {
   "cell_type": "code",
   "execution_count": null,
   "metadata": {},
   "outputs": [],
   "source": [
    "## Cirular queue\n",
    "class MyCircularQueue:\n",
    "\n",
    "    def __init__(self, k: int):\n",
    "        \"\"\"\n",
    "        Initialize your data structure here. Set the size of the queue to be k.\n",
    "        \"\"\"\n",
    "        self.len = k\n",
    "        self.q = [None] * self.len\n",
    "        self.head = -1\n",
    "        self.tail = -1\n",
    "        \n",
    "\n",
    "    def enQueue(self, value: int) -> bool:\n",
    "        \"\"\"\n",
    "        Insert an element into the circular queue. Return true if the operation is successful.\n",
    "        \"\"\"\n",
    "        if self.head == self.tail == -1:\n",
    "            self.head = self.tail = 0\n",
    "            self.q[self.tail] = value\n",
    "            return True\n",
    "        elif None in self.q:\n",
    "            self.tail += 1\n",
    "            if (self.tail >= self.len) and (None in self.q):\n",
    "                self.tail = self.tail - self.len\n",
    "            self.q[self.tail] = value            \n",
    "            return True\n",
    "        else:\n",
    "            return False\n",
    "        \n",
    "\n",
    "    def deQueue(self) -> bool:\n",
    "        \"\"\"\n",
    "        Delete an element from the circular queue. Return true if the operation is successful.\n",
    "        \"\"\"\n",
    "        if self.q == [None]*self.len:\n",
    "            return False\n",
    "        else:\n",
    "            self.q[self.head] = None\n",
    "            self.head += 1\n",
    "            if self.head >= self.len:\n",
    "                self.head = self.head - self.len\n",
    "            return True\n",
    "        \n",
    "\n",
    "    def Front(self) -> int:\n",
    "        \"\"\"\n",
    "        Get the front item from the queue.\n",
    "        \"\"\"\n",
    "        if self.q == [None]*self.len:\n",
    "            return -1\n",
    "        else:\n",
    "            return self.q[self.head]\n",
    "\n",
    "    def Rear(self) -> int:\n",
    "        \"\"\"\n",
    "        Get the last item from the queue.\n",
    "        \"\"\"\n",
    "        if self.q == [None]*self.len:\n",
    "            return -1\n",
    "        else:\n",
    "            return self.q[self.tail]\n",
    "\n",
    "    def isEmpty(self) -> bool:\n",
    "        \"\"\"\n",
    "        Checks whether the circular queue is empty or not.\n",
    "        \"\"\"\n",
    "        if self.q == [None] * self.len:\n",
    "            return True\n",
    "        else:\n",
    "            return False\n",
    "\n",
    "    def isFull(self) -> bool:\n",
    "        \"\"\"\n",
    "        Checks whether the circular queue is full or not.\n",
    "        \"\"\"\n",
    "        if None in self.q:\n",
    "            return False\n",
    "        else:\n",
    "            return True\n"
   ]
  }
 ],
 "metadata": {
  "kernelspec": {
   "display_name": "Python 3",
   "language": "python",
   "name": "python3"
  },
  "language_info": {
   "codemirror_mode": {
    "name": "ipython",
    "version": 3
   },
   "file_extension": ".py",
   "mimetype": "text/x-python",
   "name": "python",
   "nbconvert_exporter": "python",
   "pygments_lexer": "ipython3",
   "version": "3.6.8"
  }
 },
 "nbformat": 4,
 "nbformat_minor": 2
}
