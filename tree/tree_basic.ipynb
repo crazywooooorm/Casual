{
 "cells": [
  {
   "cell_type": "markdown",
   "metadata": {},
   "source": [
    "# Binary Tree Basics"
   ]
  },
  {
   "cell_type": "markdown",
   "metadata": {},
   "source": [
    "## Traverse A Tree"
   ]
  },
  {
   "cell_type": "markdown",
   "metadata": {},
   "source": [
    "Pre-order Traversal: root -> left -> right\n",
    "\n",
    "In-order Traversal: left -> root -> right\n",
    "\n",
    "Post-order Traversal: left -> right -> root, usually used in deleting nodes or representing math expressions"
   ]
  },
  {
   "cell_type": "code",
   "execution_count": 9,
   "metadata": {},
   "outputs": [],
   "source": [
    "# Definition for a binary tree node.\n",
    "class TreeNode:\n",
    "    def __init__(self, x):\n",
    "        self.val = x\n",
    "        self.left = None\n",
    "        self.right = None"
   ]
  },
  {
   "cell_type": "code",
   "execution_count": 10,
   "metadata": {},
   "outputs": [
    {
     "name": "stdout",
     "output_type": "stream",
     "text": [
      "[1, 2, 3]\n"
     ]
    }
   ],
   "source": [
    "# pre-order traversal, other traversal is just changing the order within 'if'\n",
    "class Solution:\n",
    "    def preorderTraversal(self, root):\n",
    "        res = []\n",
    "        if root:\n",
    "            res.append(root.val)\n",
    "            res = res + self.preorderTraversal(root.left)\n",
    "            res = res + self.preorderTraversal(root.right)\n",
    "        return res\n",
    "\n",
    "# run\n",
    "root = TreeNode(1)\n",
    "root.right = TreeNode(2)\n",
    "root.right.left = TreeNode(3)\n",
    "print(Solution().preorderTraversal(root))"
   ]
  },
  {
   "cell_type": "code",
   "execution_count": 12,
   "metadata": {},
   "outputs": [
    {
     "name": "stdout",
     "output_type": "stream",
     "text": [
      "[[1], [4, 2], [3]]\n"
     ]
    }
   ],
   "source": [
    "# level-order traversal\n",
    "# return the roots of each level\n",
    "class Solution:\n",
    "    def levelOrder(self, root):\n",
    "        res, level = [], [root]\n",
    "        while root and level:\n",
    "            res.append([root.val for root in level])            \n",
    "            level = [leaf for n in level for leaf in (n.left, n.right) if leaf]\n",
    "        return res\n",
    "\n",
    "# run \n",
    "root = TreeNode(1)\n",
    "root.left = TreeNode(4)\n",
    "root.right = TreeNode(2)\n",
    "root.right.left = TreeNode(3)\n",
    "print(Solution().levelOrder(root))"
   ]
  },
  {
   "cell_type": "markdown",
   "metadata": {},
   "source": [
    "## Solve Problem Recursively"
   ]
  },
  {
   "cell_type": "code",
   "execution_count": null,
   "metadata": {},
   "outputs": [],
   "source": []
  }
 ],
 "metadata": {
  "kernelspec": {
   "display_name": "Python 3",
   "language": "python",
   "name": "python3"
  },
  "language_info": {
   "codemirror_mode": {
    "name": "ipython",
    "version": 3
   },
   "file_extension": ".py",
   "mimetype": "text/x-python",
   "name": "python",
   "nbconvert_exporter": "python",
   "pygments_lexer": "ipython3",
   "version": "3.6.8"
  }
 },
 "nbformat": 4,
 "nbformat_minor": 2
}
