{
 "cells": [
  {
   "cell_type": "markdown",
   "metadata": {},
   "source": [
    "# Warm up"
   ]
  },
  {
   "cell_type": "code",
   "execution_count": 1,
   "metadata": {},
   "outputs": [
    {
     "data": {
      "text/plain": [
       "28657"
      ]
     },
     "execution_count": 1,
     "metadata": {},
     "output_type": "execute_result"
    }
   ],
   "source": [
    "\"\"\"\n",
    "Generate Fibonacci numbers \n",
    "Args:\n",
    "    n: The nth in Fibonacci series\n",
    "Returns:\n",
    "    The nth Fibonacci number\n",
    "\"\"\"\n",
    "def Fibonacci(n):\n",
    "    if n < 1 or not isinstance(n, int):\n",
    "        raise TypeError(\"n should be a non-zero integer.\")\n",
    "    \n",
    "    if n in [1, 2]:\n",
    "        return 1\n",
    "    \n",
    "    a = 1\n",
    "    b = 1\n",
    "    i = 2\n",
    "    while i < n:\n",
    "        a, b = b, a + b\n",
    "        i += 1\n",
    "    return b\n",
    "\n",
    "Fibonacci(23)"
   ]
  },
  {
   "cell_type": "code",
   "execution_count": 27,
   "metadata": {},
   "outputs": [
    {
     "data": {
      "text/plain": [
       "7"
      ]
     },
     "execution_count": 27,
     "metadata": {},
     "output_type": "execute_result"
    }
   ],
   "source": [
    "\"\"\"\n",
    "Generate the last digit of Fibonacci numbers \n",
    "Args:\n",
    "    n: The nth in Fibonacci series\n",
    "Returns:\n",
    "    The last digit of the nth Fibonacci number\n",
    "\"\"\"\n",
    "def FibDigit(n):\n",
    "    if n < 1 or not isinstance(n, int):\n",
    "        raise TypeError(\"n should be a non-zero integer.\")\n",
    "    \n",
    "    if n in [1, 2]:\n",
    "        return 1\n",
    "    \n",
    "    a = 1\n",
    "    b = 1\n",
    "    i = 2\n",
    "    while i < n:\n",
    "        a, b = b%10, (a + b)%10\n",
    "        i += 1\n",
    "    return b\n",
    "\n",
    "FibDigit(23)"
   ]
  },
  {
   "cell_type": "code",
   "execution_count": 29,
   "metadata": {},
   "outputs": [
    {
     "name": "stdout",
     "output_type": "stream",
     "text": [
      "0.8331112524943975 milliseconds\n",
      "0.29094125398584403 milliseconds\n"
     ]
    }
   ],
   "source": [
    "import timeit\n",
    "t1 = timeit.Timer(\"Fibonacci(23333)\", \"from __main__ import Fibonacci\")\n",
    "print(t1.timeit(number = 100), \"milliseconds\")\n",
    "t1 = timeit.Timer(\"FibDigit(23333)\", \"from __main__ import FibDigit\")\n",
    "print(t1.timeit(number = 100), \"milliseconds\")"
   ]
  },
  {
   "cell_type": "code",
   "execution_count": 73,
   "metadata": {},
   "outputs": [
    {
     "data": {
      "text/plain": [
       "56"
      ]
     },
     "execution_count": 73,
     "metadata": {},
     "output_type": "execute_result"
    }
   ],
   "source": [
    "import math\n",
    "import numpy as np\n",
    "from collections import Counter\n",
    "\n",
    "\"\"\"\n",
    "Generate all the prime factors of a number\n",
    "Args:\n",
    "    n: The target number to be factorized\n",
    "Returns:\n",
    "    A list of all the prime factors of the target number\n",
    "\"\"\"\n",
    "def factorize(n):\n",
    "    if n <= 1 or not isinstance(n, int):\n",
    "        raise TypeError(\"n should be an integer bigger than 1.\")\n",
    "        \n",
    "    if n == 2:\n",
    "        return[2]\n",
    "        \n",
    "    prime_list = []\n",
    "    while n % 2 == 0:\n",
    "        prime_list.append(2)\n",
    "        n = n / 2\n",
    "    \n",
    "    for i in range(3, int(math.sqrt(n)) + 1, 2):\n",
    "        if n % i == 0:\n",
    "            prime_list.append(i)\n",
    "            n = n / i\n",
    "    prime_list.append(int(n))\n",
    "    return prime_list\n",
    "\n",
    "\n",
    "\"\"\"\n",
    "Get greatest common divisor of two integers\n",
    "Args:\n",
    "    n1: First number\n",
    "    n2: Second number\n",
    "Returns:\n",
    "    GCD of the two number\n",
    "\"\"\"\n",
    "def GCD1(n1, n2):\n",
    "    prime_list1 = factorize(n1)\n",
    "    prime_list2 = factorize(n2)\n",
    "    inter_list = list((Counter(prime_list1) & Counter(prime_list2)).elements())\n",
    "    \n",
    "    if len(inter_list) == 0:\n",
    "        return 1\n",
    "    else:\n",
    "        return np.product(inter_list)\n",
    "\n",
    "GCD1(56, 112)"
   ]
  },
  {
   "cell_type": "code",
   "execution_count": 79,
   "metadata": {},
   "outputs": [
    {
     "data": {
      "text/plain": [
       "56"
      ]
     },
     "execution_count": 79,
     "metadata": {},
     "output_type": "execute_result"
    }
   ],
   "source": [
    "\"\"\"\n",
    "Get greatest common divisor of two integers\n",
    "Args:\n",
    "    n1: First number\n",
    "    n2: Second number\n",
    "Returns:\n",
    "    GCD of the two number\n",
    "\"\"\"\n",
    "def GCD2(n1, n2):\n",
    "    if n1 <= n2:\n",
    "        numerator = n2\n",
    "        denominator = n1\n",
    "    else:\n",
    "        numerator = n1\n",
    "        denominator = n2\n",
    "    \n",
    "    while denominator > 0:\n",
    "        denominator, numerator = numerator%denominator, denominator\n",
    "    \n",
    "    return numerator\n",
    "\n",
    "GCD2(56, 112)"
   ]
  },
  {
   "cell_type": "code",
   "execution_count": 15,
   "metadata": {},
   "outputs": [
    {
     "data": {
      "text/plain": [
       "3"
      ]
     },
     "execution_count": 15,
     "metadata": {},
     "output_type": "execute_result"
    }
   ],
   "source": [
    "# Proof\n",
    "\"\"\" \n",
    "x % m = a, y % m = b, \n",
    "(x + y) % m = (a + b) % m, \n",
    "so when (a, b) is fixed, (x + y) % m is fixed.\n",
    "\"\"\"\n",
    "\n",
    "# Implement\n",
    "\"\"\"\n",
    "For any number in Fibonacci series, find the remainder of any specific number.\n",
    "Args:\n",
    "    m: The target denominator.\n",
    "    n: The nth number in Fibonacci series.\n",
    "Returns:\n",
    "    The remainder of Fib(n) divided by m.\n",
    "\"\"\"\n",
    "def FibRemainder(m, n):\n",
    "    a = 1\n",
    "    b = 1\n",
    "    i = 2\n",
    "    while True:\n",
    "        a, b = b, (a + b) % m\n",
    "        i += 1\n",
    "        if (a, b) == (1, 1):\n",
    "            break\n",
    "    period_len = i\n",
    "    \n",
    "    return Fibonacci(n % period_len) % m\n",
    "\n",
    "FibRemainder(5, 7)"
   ]
  },
  {
   "cell_type": "code",
   "execution_count": 8,
   "metadata": {},
   "outputs": [
    {
     "data": {
      "text/plain": [
       "3"
      ]
     },
     "execution_count": 8,
     "metadata": {},
     "output_type": "execute_result"
    }
   ],
   "source": [
    "# Proof\n",
    "\"\"\"\n",
    "We have An = An-1 + An-2\n",
    "Therefore, \n",
    "When n > 2,\n",
    "Sn = Sum(An) \n",
    "    = A1 + A2 + ... + An \n",
    "    = A1 + A2 + (A1 + A2) + (A2 + A3) + ... + (An-2 + An-1)\n",
    "    = A2 + (A1 + A2 + ... + An-2) + (A1 + A2 + An-1)\n",
    "    = A2 + Sum(An-2) + Sum(An-1)\n",
    "    = Sn-2 + Sn-1 + 1\n",
    "So, Sn is actually a Fibonacci-like series\n",
    "S1 = 1, S2 = 2\n",
    "\"\"\"\n",
    "\n",
    "# Implement\n",
    "\"\"\"\n",
    "For any number in Fibonacci series, find the last digit of its accumulated sum.\n",
    "Args:\n",
    "    n: The nth number in Fibonacci series.\n",
    "Returns:\n",
    "    The accumulated sum in Fibonacci series until the nth number.\n",
    "\"\"\"\n",
    "def FibSumDigit(n):\n",
    "    if n == 1:\n",
    "        return 1\n",
    "    if n == 2:\n",
    "        return 2\n",
    "    a = 1\n",
    "    b = 2\n",
    "    for i in range(2, n):\n",
    "        a, b = b, (a + b + 1) % 10\n",
    "    return b\n",
    "\n",
    "FibSumDigit(10)"
   ]
  },
  {
   "cell_type": "code",
   "execution_count": 14,
   "metadata": {},
   "outputs": [
    {
     "data": {
      "text/plain": [
       "2"
      ]
     },
     "execution_count": 14,
     "metadata": {},
     "output_type": "execute_result"
    }
   ],
   "source": [
    "\"\"\"\n",
    "For the nth and mth number in Fibonacci series, get the last digit of the sum from nth to mth number.\n",
    "Args:\n",
    "    m: Starting number, the mth number in Fibonacci series\n",
    "    n: Ending number, the nth number in Fibonacci series\n",
    "Returns:\n",
    "    Last digit of the sum from mth to nth number in Fibonacci series.\n",
    "\"\"\"\n",
    "def FibPartialSumDigit(m, n):\n",
    "    if m == 1:\n",
    "        return FibSumDigit(n)\n",
    "    else:\n",
    "        return (FibSumDigit(n) + 10 - FibSumDigit(m - 1))%10\n",
    "\n",
    "FibPartialSumDigit(1, 5)"
   ]
  }
 ],
 "metadata": {
  "kernelspec": {
   "display_name": "Python 3",
   "language": "python",
   "name": "python3"
  },
  "language_info": {
   "codemirror_mode": {
    "name": "ipython",
    "version": 3
   },
   "file_extension": ".py",
   "mimetype": "text/x-python",
   "name": "python",
   "nbconvert_exporter": "python",
   "pygments_lexer": "ipython3",
   "version": "3.6.5"
  }
 },
 "nbformat": 4,
 "nbformat_minor": 2
}
