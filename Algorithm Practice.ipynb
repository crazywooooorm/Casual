{
 "cells": [
  {
   "cell_type": "markdown",
   "metadata": {},
   "source": [
    "# Warm up"
   ]
  },
  {
   "cell_type": "code",
   "execution_count": 26,
   "metadata": {},
   "outputs": [
    {
     "data": {
      "text/plain": [
       "28657"
      ]
     },
     "execution_count": 26,
     "metadata": {},
     "output_type": "execute_result"
    }
   ],
   "source": [
    "\"\"\"\n",
    "Generate Fibonacci numbers \n",
    "Args:\n",
    "    n: The nth in Fibonacci series\n",
    "Returns:\n",
    "    The nth Fibonacci number\n",
    "\"\"\"\n",
    "def Fibonacci(n):\n",
    "    if n < 1 or not isinstance(n, int):\n",
    "        raise TypeError(\"n should be a non-zero integer.\")\n",
    "    \n",
    "    if n in [1, 2]:\n",
    "        return 1\n",
    "    \n",
    "    a = 1\n",
    "    b = 1\n",
    "    i = 2\n",
    "    while i < n:\n",
    "        a, b = b, a + b\n",
    "        i += 1\n",
    "    return b\n",
    "\n",
    "Fibonacci(23)"
   ]
  },
  {
   "cell_type": "code",
   "execution_count": 27,
   "metadata": {},
   "outputs": [
    {
     "data": {
      "text/plain": [
       "7"
      ]
     },
     "execution_count": 27,
     "metadata": {},
     "output_type": "execute_result"
    }
   ],
   "source": [
    "\"\"\"\n",
    "Generate the last digit of Fibonacci numbers \n",
    "Args:\n",
    "    n: The nth in Fibonacci series\n",
    "Returns:\n",
    "    The last digit of the nth Fibonacci number\n",
    "\"\"\"\n",
    "def FibDigit(n):\n",
    "    if n < 1 or not isinstance(n, int):\n",
    "        raise TypeError(\"n should be a non-zero integer.\")\n",
    "    \n",
    "    if n in [1, 2]:\n",
    "        return 1\n",
    "    \n",
    "    a = 1\n",
    "    b = 1\n",
    "    i = 2\n",
    "    while i < n:\n",
    "        a, b = b%10, (a + b)%10\n",
    "        i += 1\n",
    "    return b\n",
    "\n",
    "FibDigit(23)"
   ]
  },
  {
   "cell_type": "code",
   "execution_count": 29,
   "metadata": {},
   "outputs": [
    {
     "name": "stdout",
     "output_type": "stream",
     "text": [
      "0.8331112524943975 milliseconds\n",
      "0.29094125398584403 milliseconds\n"
     ]
    }
   ],
   "source": [
    "import timeit\n",
    "t1 = timeit.Timer(\"Fibonacci(23333)\", \"from __main__ import Fibonacci\")\n",
    "print(t1.timeit(number = 100), \"milliseconds\")\n",
    "t1 = timeit.Timer(\"FibDigit(23333)\", \"from __main__ import FibDigit\")\n",
    "print(t1.timeit(number = 100), \"milliseconds\")"
   ]
  },
  {
   "cell_type": "code",
   "execution_count": null,
   "metadata": {},
   "outputs": [],
   "source": []
  }
 ],
 "metadata": {
  "kernelspec": {
   "display_name": "Python 3",
   "language": "python",
   "name": "python3"
  },
  "language_info": {
   "codemirror_mode": {
    "name": "ipython",
    "version": 3
   },
   "file_extension": ".py",
   "mimetype": "text/x-python",
   "name": "python",
   "nbconvert_exporter": "python",
   "pygments_lexer": "ipython3",
   "version": "3.6.5"
  }
 },
 "nbformat": 4,
 "nbformat_minor": 2
}
