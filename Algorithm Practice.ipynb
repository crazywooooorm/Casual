{
 "cells": [
  {
   "cell_type": "markdown",
   "metadata": {},
   "source": [
    "# Warm up"
   ]
  },
  {
   "cell_type": "code",
   "execution_count": 1,
   "metadata": {},
   "outputs": [
    {
     "data": {
      "text/plain": [
       "28657"
      ]
     },
     "execution_count": 1,
     "metadata": {},
     "output_type": "execute_result"
    }
   ],
   "source": [
    "\"\"\"\n",
    "Generate Fibonacci numbers \n",
    "Args:\n",
    "    n: The nth in Fibonacci series\n",
    "Returns:\n",
    "    The nth Fibonacci number\n",
    "\"\"\"\n",
    "def Fibonacci(n):\n",
    "    if n < 1 or not isinstance(n, int):\n",
    "        raise TypeError(\"n should be a non-zero integer.\")\n",
    "    \n",
    "    if n in [1, 2]:\n",
    "        return 1\n",
    "    \n",
    "    a = 1\n",
    "    b = 1\n",
    "    i = 2\n",
    "    while i < n:\n",
    "        a, b = b, a + b\n",
    "        i += 1\n",
    "    return b\n",
    "\n",
    "Fibonacci(23)"
   ]
  },
  {
   "cell_type": "code",
   "execution_count": 2,
   "metadata": {},
   "outputs": [
    {
     "data": {
      "text/plain": [
       "7"
      ]
     },
     "execution_count": 2,
     "metadata": {},
     "output_type": "execute_result"
    }
   ],
   "source": [
    "\"\"\"\n",
    "Generate the last digit of Fibonacci numbers \n",
    "Args:\n",
    "    n: The nth in Fibonacci series\n",
    "Returns:\n",
    "    The last digit of the nth Fibonacci number\n",
    "\"\"\"\n",
    "def FibDigit(n):\n",
    "    if n < 1 or not isinstance(n, int):\n",
    "        raise TypeError(\"n should be a non-zero integer.\")\n",
    "    \n",
    "    if n in [1, 2]:\n",
    "        return 1\n",
    "    \n",
    "    a = 1\n",
    "    b = 1\n",
    "    i = 2\n",
    "    while i < n:\n",
    "        a, b = b%10, (a + b)%10\n",
    "        i += 1\n",
    "    return b\n",
    "\n",
    "FibDigit(23)"
   ]
  },
  {
   "cell_type": "code",
   "execution_count": 3,
   "metadata": {},
   "outputs": [
    {
     "name": "stdout",
     "output_type": "stream",
     "text": [
      "0.8036085461791586 milliseconds\n",
      "0.2773335951231577 milliseconds\n"
     ]
    }
   ],
   "source": [
    "import timeit\n",
    "t1 = timeit.Timer(\"Fibonacci(23333)\", \"from __main__ import Fibonacci\")\n",
    "print(t1.timeit(number = 100), \"milliseconds\")\n",
    "t1 = timeit.Timer(\"FibDigit(23333)\", \"from __main__ import FibDigit\")\n",
    "print(t1.timeit(number = 100), \"milliseconds\")"
   ]
  },
  {
   "cell_type": "code",
   "execution_count": 4,
   "metadata": {},
   "outputs": [
    {
     "data": {
      "text/plain": [
       "56"
      ]
     },
     "execution_count": 4,
     "metadata": {},
     "output_type": "execute_result"
    }
   ],
   "source": [
    "import math\n",
    "import numpy as np\n",
    "from collections import Counter\n",
    "\n",
    "\"\"\"\n",
    "Generate all the prime factors of a number\n",
    "Args:\n",
    "    n: The target number to be factorized\n",
    "Returns:\n",
    "    A list of all the prime factors of the target number\n",
    "\"\"\"\n",
    "def factorize(n):\n",
    "    if n <= 1 or not isinstance(n, int):\n",
    "        raise TypeError(\"n should be an integer bigger than 1.\")\n",
    "        \n",
    "    if n == 2:\n",
    "        return[2]\n",
    "        \n",
    "    prime_list = []\n",
    "    while n % 2 == 0:\n",
    "        prime_list.append(2)\n",
    "        n = n / 2\n",
    "    \n",
    "    for i in range(3, int(math.sqrt(n)) + 1, 2):\n",
    "        if n % i == 0:\n",
    "            prime_list.append(i)\n",
    "            n = n / i\n",
    "    prime_list.append(int(n))\n",
    "    return prime_list\n",
    "\n",
    "\n",
    "\"\"\"\n",
    "Get greatest common divisor of two integers\n",
    "Args:\n",
    "    n1: First number\n",
    "    n2: Second number\n",
    "Returns:\n",
    "    GCD of the two number\n",
    "\"\"\"\n",
    "def GCD1(n1, n2):\n",
    "    prime_list1 = factorize(n1)\n",
    "    prime_list2 = factorize(n2)\n",
    "    inter_list = list((Counter(prime_list1) & Counter(prime_list2)).elements())\n",
    "    \n",
    "    if len(inter_list) == 0:\n",
    "        return 1\n",
    "    else:\n",
    "        return np.product(inter_list)\n",
    "\n",
    "GCD1(56, 112)"
   ]
  },
  {
   "cell_type": "code",
   "execution_count": 5,
   "metadata": {},
   "outputs": [
    {
     "data": {
      "text/plain": [
       "56"
      ]
     },
     "execution_count": 5,
     "metadata": {},
     "output_type": "execute_result"
    }
   ],
   "source": [
    "\"\"\"\n",
    "Get greatest common divisor of two integers\n",
    "Args:\n",
    "    n1: First number\n",
    "    n2: Second number\n",
    "Returns:\n",
    "    GCD of the two number\n",
    "\"\"\"\n",
    "def GCD2(n1, n2):\n",
    "    if n1 <= n2:\n",
    "        numerator = n2\n",
    "        denominator = n1\n",
    "    else:\n",
    "        numerator = n1\n",
    "        denominator = n2\n",
    "    \n",
    "    while denominator > 0:\n",
    "        denominator, numerator = numerator%denominator, denominator\n",
    "    \n",
    "    return numerator\n",
    "\n",
    "GCD2(56, 112)"
   ]
  },
  {
   "cell_type": "code",
   "execution_count": 6,
   "metadata": {},
   "outputs": [
    {
     "data": {
      "text/plain": [
       "3"
      ]
     },
     "execution_count": 6,
     "metadata": {},
     "output_type": "execute_result"
    }
   ],
   "source": [
    "# Proof\n",
    "\"\"\" \n",
    "x % m = a, y % m = b, \n",
    "(x + y) % m = (a + b) % m, \n",
    "so when (a, b) is fixed, (x + y) % m is fixed.\n",
    "\"\"\"\n",
    "\n",
    "# Implement\n",
    "\"\"\"\n",
    "For any number in Fibonacci series, find the remainder of any specific number.\n",
    "Args:\n",
    "    m: The target denominator.\n",
    "    n: The nth number in Fibonacci series.\n",
    "Returns:\n",
    "    The remainder of Fib(n) divided by m.\n",
    "\"\"\"\n",
    "def FibRemainder(m, n):\n",
    "    a = 1\n",
    "    b = 1\n",
    "    i = 2\n",
    "    while True:\n",
    "        a, b = b, (a + b) % m\n",
    "        i += 1\n",
    "        if (a, b) == (1, 1):\n",
    "            break\n",
    "    period_len = i\n",
    "    \n",
    "    return Fibonacci(n % period_len) % m\n",
    "\n",
    "FibRemainder(5, 7)"
   ]
  },
  {
   "cell_type": "code",
   "execution_count": 7,
   "metadata": {},
   "outputs": [
    {
     "data": {
      "text/plain": [
       "3"
      ]
     },
     "execution_count": 7,
     "metadata": {},
     "output_type": "execute_result"
    }
   ],
   "source": [
    "# Proof\n",
    "\"\"\"\n",
    "We have An = An-1 + An-2\n",
    "Therefore, \n",
    "When n > 2,\n",
    "Sn = Sum(An) \n",
    "    = A1 + A2 + ... + An \n",
    "    = A1 + A2 + (A1 + A2) + (A2 + A3) + ... + (An-2 + An-1)\n",
    "    = A2 + (A1 + A2 + ... + An-2) + (A1 + A2 + An-1)\n",
    "    = A2 + Sum(An-2) + Sum(An-1)\n",
    "    = Sn-2 + Sn-1 + 1\n",
    "So, Sn is actually a Fibonacci-like series\n",
    "S1 = 1, S2 = 2\n",
    "\"\"\"\n",
    "\n",
    "# Implement\n",
    "\"\"\"\n",
    "For any number in Fibonacci series, find the last digit of its accumulated sum.\n",
    "Args:\n",
    "    n: The nth number in Fibonacci series.\n",
    "Returns:\n",
    "    The accumulated sum in Fibonacci series until the nth number.\n",
    "\"\"\"\n",
    "def FibSumDigit(n):\n",
    "    if n == 1:\n",
    "        return 1\n",
    "    if n == 2:\n",
    "        return 2\n",
    "    a = 1\n",
    "    b = 2\n",
    "    for i in range(2, n):\n",
    "        a, b = b, (a + b + 1) % 10\n",
    "    return b\n",
    "\n",
    "FibSumDigit(10)"
   ]
  },
  {
   "cell_type": "code",
   "execution_count": 8,
   "metadata": {},
   "outputs": [
    {
     "data": {
      "text/plain": [
       "2"
      ]
     },
     "execution_count": 8,
     "metadata": {},
     "output_type": "execute_result"
    }
   ],
   "source": [
    "\"\"\"\n",
    "For the nth and mth number in Fibonacci series, get the last digit of the sum from nth to mth number.\n",
    "Args:\n",
    "    m: Starting number, the mth number in Fibonacci series\n",
    "    n: Ending number, the nth number in Fibonacci series\n",
    "Returns:\n",
    "    Last digit of the sum from mth to nth number in Fibonacci series.\n",
    "\"\"\"\n",
    "def FibPartialSumDigit(m, n):\n",
    "    if m == 1:\n",
    "        return FibSumDigit(n)\n",
    "    else:\n",
    "        return (FibSumDigit(n) + 10 - FibSumDigit(m - 1))%10\n",
    "\n",
    "FibPartialSumDigit(1, 5)"
   ]
  },
  {
   "cell_type": "markdown",
   "metadata": {},
   "source": [
    "# Greedy Algorithms"
   ]
  },
  {
   "cell_type": "code",
   "execution_count": 9,
   "metadata": {},
   "outputs": [
    {
     "data": {
      "text/plain": [
       "6"
      ]
     },
     "execution_count": 9,
     "metadata": {},
     "output_type": "execute_result"
    }
   ],
   "source": [
    "\"\"\"\n",
    "Find the minumum number of coins needed to change any value with coins 1, 5 and 10\n",
    "Args:\n",
    "    n: Value needs to be changed\n",
    "Returns:\n",
    "    Minumum number of coins needed\n",
    "\"\"\"\n",
    "def change(n):\n",
    "    rest = n\n",
    "    count = 0\n",
    "    while rest > 0:\n",
    "        for i in [10, 5, 1]:\n",
    "            if i <= rest:\n",
    "                rest -= i\n",
    "                count += 1\n",
    "                break\n",
    "            else:\n",
    "                pass\n",
    "    return count\n",
    "\n",
    "change(24)"
   ]
  },
  {
   "cell_type": "code",
   "execution_count": 10,
   "metadata": {
    "scrolled": true
   },
   "outputs": [
    {
     "data": {
      "text/plain": [
       "166.66666666666666"
      ]
     },
     "execution_count": 10,
     "metadata": {},
     "output_type": "execute_result"
    }
   ],
   "source": [
    "\"\"\"\n",
    "Find the combination(fractional) of objects with best value with the constrains on the weight and number of objects\n",
    "Args:\n",
    "    constrain: The first element is the number of objects, the second is the total weight of the objects\n",
    "    *args: List of a object, the first element is the value, the second is the weight\n",
    "Returns:\n",
    "    Best value be reached\n",
    "\"\"\"\n",
    "def FracKnapsack(constrain, *args):\n",
    "    obj_list = sorted([*args], key = lambda x: x[0]/x[1], reverse = True)\n",
    "    num = 0\n",
    "    weight = 0\n",
    "    value = 0\n",
    "    while (num < constrain[0]) & (num < len(obj_list)) & (weight < constrain[1]):\n",
    "        if obj_list[num][1] <= (constrain[1] - weight):\n",
    "            value += obj_list[num][0]\n",
    "            weight += obj_list[num][1]\n",
    "            num += 1\n",
    "        else:\n",
    "            value += obj_list[num][0] * (constrain[1] - weight) / obj_list[num][1]\n",
    "            num += (constrain[0] - weight) / obj_list[num][1]\n",
    "            weight = constrain[1]\n",
    "    return value\n",
    "\n",
    "FracKnapsack([1,10], [500, 30])"
   ]
  },
  {
   "cell_type": "code",
   "execution_count": 11,
   "metadata": {},
   "outputs": [
    {
     "data": {
      "text/plain": [
       "23"
      ]
     },
     "execution_count": 11,
     "metadata": {},
     "output_type": "execute_result"
    }
   ],
   "source": [
    "import numpy as np\n",
    "\n",
    "\"\"\"\n",
    "Find the biggest benefit from allocating the click times and click profits\n",
    "Args:\n",
    "    profit: Profit of each click\n",
    "    time: click times per day\n",
    "Returns:\n",
    "    Maximum profit of the allocation\n",
    "\"\"\"\n",
    "def click(profit, time):\n",
    "    return np.dot(np.sort(profit), np.sort(time))\n",
    " \n",
    "click([1,3,-5], [-2, 4, 1])"
   ]
  },
  {
   "cell_type": "code",
   "execution_count": null,
   "metadata": {},
   "outputs": [],
   "source": [
    "\"\"\"\n",
    "Print the minimum points to cover all the segments\n",
    "Args:\n",
    "    segs: List of all the segments on the line\n",
    "Returns:\n",
    "    The minimum points position to cover all the segments\n",
    "\"\"\"\n",
    "def PointsCover(segs):\n",
    "    sort_segs = sorted(segs, key = lambda x: x[1])\n",
    "    points = []\n",
    "    max_point = sort_segs[0][0] - 1\n",
    "    for i in sort_segs:\n",
    "        if max_point < i[0]:\n",
    "            points.append(i[1])\n",
    "            max_point = points[-1]\n",
    "        else:\n",
    "            pass\n",
    "    return points\n",
    "\n",
    "PointsCover([[4, 7], [1, 3], [2, 5], [5, 6]])"
   ]
  },
  {
   "cell_type": "code",
   "execution_count": 12,
   "metadata": {},
   "outputs": [
    {
     "data": {
      "text/plain": [
       "[1, 2, 3, 4, 9]"
      ]
     },
     "execution_count": 12,
     "metadata": {},
     "output_type": "execute_result"
    }
   ],
   "source": [
    "\"\"\"\n",
    "Print the distinct positive integers which sum up to specific big number\n",
    "Args:\n",
    "    n: Number to be splitted\n",
    "Returns:\n",
    "    List of numbers to sum up to the input number\n",
    "\"\"\"\n",
    "def Split(n):\n",
    "    num_list = []\n",
    "    i = 0\n",
    "    while sum(num_list) < n:\n",
    "        i += 1\n",
    "        rest = n - sum(num_list) - i\n",
    "        if rest <= i:\n",
    "            i += rest\n",
    "        else:\n",
    "            pass\n",
    "        \n",
    "        num_list.append(i)\n",
    "    return num_list\n",
    "\n",
    "Split(19)"
   ]
  },
  {
   "cell_type": "markdown",
   "metadata": {},
   "source": [
    "# Divide & Conquer"
   ]
  },
  {
   "cell_type": "code",
   "execution_count": 7,
   "metadata": {},
   "outputs": [
    {
     "data": {
      "text/plain": [
       "[2, 0, -1, 0, -1]"
      ]
     },
     "execution_count": 7,
     "metadata": {},
     "output_type": "execute_result"
    }
   ],
   "source": [
    "# Binary Search Example\n",
    "\"\"\"\n",
    "Get the position of target numbers in a sorted list\n",
    "Args:\n",
    "    check_list: Sorted list to be searched\n",
    "    targets: List of numbers need to be checked\n",
    "Returns:\n",
    "    Positions of the target numbers in check list. -1 means not found\n",
    "\"\"\"\n",
    "def BinaryCheck(check_list, targets):\n",
    "    return_list = []\n",
    "    for i in targets:\n",
    "        start = 0\n",
    "        end = len(check_list) - 1\n",
    "        found = False\n",
    "        while start <= end:\n",
    "            mid = (start + end) // 2\n",
    "            if check_list[mid] == i:\n",
    "                return_list.append(mid)\n",
    "                found = True\n",
    "                break\n",
    "            elif check_list[mid] < i:\n",
    "                start = mid + 1\n",
    "            else:\n",
    "                end = mid - 1\n",
    "        if not found:\n",
    "            return_list.append(-1)\n",
    "    return(return_list)\n",
    "\n",
    "BinaryCheck([1, 5, 8, 12, 13], \n",
    "            [8, 1, 23, 1, 11])"
   ]
  },
  {
   "cell_type": "code",
   "execution_count": 28,
   "metadata": {
    "scrolled": true
   },
   "outputs": [
    {
     "data": {
      "text/plain": [
       "2"
      ]
     },
     "execution_count": 28,
     "metadata": {},
     "output_type": "execute_result"
    }
   ],
   "source": [
    "# Proof\n",
    "\"\"\"\n",
    "Proof for Efficiency of Divide & Conquer\n",
    "Divide the list into two parts, if both parts have a majority, we need to \n",
    "count the number of repetitions of those two majorities in the whole list,\n",
    "which is O(n).\n",
    "Therefore, we have \n",
    "T(n) = 2(T(n/2)) + O(n)\n",
    "     = 2(2T(n/4) + O(n/2)) + O(n)\n",
    "     = 4T(n/4) + O(2n)\n",
    "     = (2^k) * T(n/(2^k)) + O(k*n)\n",
    "Since we have n = 2^k\n",
    "Therefore,\n",
    "T(n) = n*T(1) + O(nlog2(n))\n",
    "     = O(nlog(n))\n",
    "\"\"\"\n",
    "\n",
    "# Implement\n",
    "\"\"\"\n",
    "Find the majority element (more than half) in a list.\n",
    "Args:\n",
    "    target_list: The list to be checked\n",
    "    left: The starting point to check, default is 0\n",
    "    right: The ending point to check, default is len(target_list)-1\n",
    "Returns:\n",
    "    The majority element of the list, if no majority exists, return -1\n",
    "\"\"\"\n",
    "def MajorCheck(target_list, left = None, right = None):\n",
    "    if left == None:\n",
    "        left = 0\n",
    "    if right == None:\n",
    "        right = len(target_list) - 1\n",
    "    \n",
    "    if right == left:\n",
    "        return target_list[left]\n",
    "    if right == left + 1:\n",
    "        if target_list[left] == target_list[right]:\n",
    "            return target_list[left]\n",
    "        else:\n",
    "            return -1\n",
    "        \n",
    "    left_major = MajorCheck(target_list, left = left, right = (left + right)//2)\n",
    "    right_major = MajorCheck(target_list, left = (left + right)//2 + 1, right = right)\n",
    "    \n",
    "    left_count = 0\n",
    "    right_count = 0\n",
    "    for i in range(left, right + 1):\n",
    "        if target_list[i] == left_major:\n",
    "            left_count += 1\n",
    "        if left_count > (right - left + 1)//2:\n",
    "            return left_major\n",
    "        \n",
    "    for j in range(left, right + 1):\n",
    "        if target_list[j] == right_major:\n",
    "            right_count += 1\n",
    "        if right_count > (right - left + 1)//2:\n",
    "            return right_major\n",
    "    \n",
    "    return -1\n",
    "        \n",
    "MajorCheck([2,3,9,2,2])"
   ]
  },
  {
   "cell_type": "code",
   "execution_count": 11,
   "metadata": {},
   "outputs": [
    {
     "data": {
      "text/plain": [
       "[2, 2, 2, 3, 9]"
      ]
     },
     "execution_count": 11,
     "metadata": {},
     "output_type": "execute_result"
    }
   ],
   "source": [
    "\"\"\"\n",
    "The 3 partitions method.\n",
    "Args:\n",
    "    sub_list: The list to be partitioned\n",
    "    left: Left point for partition\n",
    "    right: Right point for partition\n",
    "Returns:\n",
    "    The partition points for less than pivot, equal to pivot, and greater than pivot\n",
    "\"\"\"\n",
    "def partition3(sub_list, left, right):\n",
    "    i = left\n",
    "    lpoint = left\n",
    "    rpoint = right\n",
    "    pivot = sub_list[left]\n",
    "    while i <= rpoint:\n",
    "        if sub_list[i] < pivot:\n",
    "            sub_list[i], sub_list[lpoint] = sub_list[lpoint], sub_list[i]\n",
    "            i += 1\n",
    "            lpoint += 1\n",
    "        elif sub_list[i] == pivot:\n",
    "            i += 1\n",
    "        else:\n",
    "            sub_list[i], sub_list[rpoint] = sub_list[rpoint], sub_list[i]\n",
    "            i += 1\n",
    "            rpoint -= 1\n",
    "    return lpoint, rpoint\n",
    "\n",
    "\"\"\"\n",
    "Implement a quick sort algorithm with 3 partitions method.\n",
    "Compare to the quick sort with 2 partitions, this method is quicker\n",
    "for list with many same elements, but it needs more swaps.\n",
    "Args:\n",
    "    target_list: The target list to be sorted\n",
    "Returns:\n",
    "    The sorted list\n",
    "\"\"\"\n",
    "def QuickSort(target_list, left = 0, right = None):\n",
    "    if right == None:\n",
    "        right = len(target_list) - 1\n",
    "    if left < right:\n",
    "        lpoint, rpoint = partition3(target_list, left, right)\n",
    "        QuickSort(target_list, left, lpoint - 1)\n",
    "        QuickSort(target_list, rpoint + 1, right)\n",
    "    return target_list\n",
    "\n",
    "QuickSort([2,3,9,2,2])"
   ]
  },
  {
   "cell_type": "code",
   "execution_count": 20,
   "metadata": {},
   "outputs": [
    {
     "data": {
      "text/plain": [
       "([2, 2, 3, 9, 9], 2)"
      ]
     },
     "execution_count": 20,
     "metadata": {},
     "output_type": "execute_result"
    }
   ],
   "source": [
    "\"\"\"\n",
    "Merge the two sorted lists and return the number of inversions.\n",
    "Args:\n",
    "    left: The left sub list to be merged\n",
    "    right: The right sub list to be merged\n",
    "Returns:\n",
    "    The merged list and the number of inversions\n",
    "\"\"\"\n",
    "def MergeLists(left, right):\n",
    "    i = 0\n",
    "    j = 0\n",
    "    k = 0\n",
    "    count = 0\n",
    "    return_list = [None] * (len(left) + len(right))\n",
    "    while (i < len(left)) and (j < len(right)):\n",
    "        if left[i] <= right[j]:\n",
    "            return_list[k] = left[i]\n",
    "            i += 1\n",
    "            k += 1\n",
    "        else:\n",
    "            return_list[k] = right[j]\n",
    "            j += 1\n",
    "            k += 1\n",
    "            count += (len(left) - i)\n",
    "    \n",
    "    while i < len(left):\n",
    "        return_list[k] = left[i]\n",
    "        i += 1\n",
    "        k += 1\n",
    "    \n",
    "    while j < len(right):\n",
    "        return_list[k] = right[j]\n",
    "        j += 1\n",
    "        k += 1\n",
    "    \n",
    "    return return_list, count \n",
    "\n",
    "\"\"\"\n",
    "Sort the list and count the number of inversions in the list.\n",
    "Args:\n",
    "    target_list: The list to be checked\n",
    "Returns:\n",
    "    The sorted list and the number of inversions\n",
    "\"\"\"\n",
    "def CountInverse(target_list):\n",
    "    count = 0\n",
    "    mid = (len(target_list)//2)\n",
    "    if mid >= 1:\n",
    "        left, left_count = CountInverse(target_list[:mid])\n",
    "        right, right_count = CountInverse(target_list[mid:])\n",
    "        target_list, count = MergeLists(left, right)\n",
    "        count = count + left_count + right_count\n",
    "    return target_list, count\n",
    "\n",
    "CountInverse([2,3,9,2,9])"
   ]
  },
  {
   "cell_type": "code",
   "execution_count": 33,
   "metadata": {},
   "outputs": [
    {
     "data": {
      "text/plain": [
       "[2, 0]"
      ]
     },
     "execution_count": 33,
     "metadata": {},
     "output_type": "execute_result"
    }
   ],
   "source": [
    "\"\"\"\n",
    "Calculate the number of segments each point belongs to.\n",
    "Args:\n",
    "    starts: The starting points of each segment\n",
    "    ends: The ending points of each segment\n",
    "    points: The points need to be checked\n",
    "Returns:\n",
    "    The number of segments of each point\n",
    "\"\"\"\n",
    "def CountSeg(starts, ends, points):\n",
    "    output_list = [0] * len(points)\n",
    "    \n",
    "    starts_list = [[i, \"l\"] for i in starts]\n",
    "    points_list = [[i, \"p\"] for i in points]\n",
    "    ends_list = [[i, \"r\"] for i in ends]\n",
    "    total = starts_list + points_list + ends_list\n",
    "    # Notice the order of keys depend on whether the borders are included or not\n",
    "    sorted_total = sorted(total, key = lambda x: (x[0], x[1]))\n",
    "    \n",
    "    seg_count = 0\n",
    "    for i in sorted_total:\n",
    "        if i[1] == \"l\":\n",
    "            seg_count += 1\n",
    "        elif i[1] == \"r\":\n",
    "            seg_count -= 1\n",
    "        else:\n",
    "            output_list[points.index(i[0])] = seg_count\n",
    "    return output_list\n",
    "\n",
    "CountSeg([0,-3,7], [5,2,10], [1,6])"
   ]
  },
  {
   "cell_type": "code",
   "execution_count": 3,
   "metadata": {},
   "outputs": [
    {
     "data": {
      "text/plain": [
       "1.4142135623730951"
      ]
     },
     "execution_count": 3,
     "metadata": {},
     "output_type": "execute_result"
    }
   ],
   "source": [
    "import math\n",
    "import numpy as np\n",
    "\n",
    "\"\"\"\n",
    "Calculate the distance between two points.\n",
    "Args:\n",
    "    point1: The position of the first point\n",
    "    point2: The position of the second point\n",
    "Returns:\n",
    "    Distance between two points\n",
    "\"\"\"\n",
    "def distance(point1, point2):\n",
    "    return math.sqrt((point2[0] - point1[0])**2 + (point2[1] - point1[1])**2)\n",
    "\n",
    "\"\"\"\n",
    "Find the shortest distance among a bunch of sorted points.\n",
    "Args:\n",
    "    sorted_list: A list of points, sorted by x and y of the points\n",
    "    start: The start index of the sorted_list\n",
    "    end: The end index of the sorted_list\n",
    "Returns:\n",
    "    The shortest distance \n",
    "\"\"\"\n",
    "def FindClosest(sorted_list, start = 0, end = None):\n",
    "    if end == None:\n",
    "        end = len(sorted_list)-1\n",
    "        \n",
    "    if end == start:\n",
    "        return np.nan\n",
    "    elif end == start+1:\n",
    "        return distance(sorted_list[start], sorted_list[end])\n",
    "    \n",
    "    mid = (start + end)//2\n",
    "    \n",
    "    left_d = FindClosest(sorted_list, start = start, end = mid)\n",
    "    right_d = FindClosest(sorted_list, start = mid+1, end = end)\n",
    "    \n",
    "    min_d = np.nanmin([left_d, right_d])\n",
    "    mid_line = sorted_list[mid][0]\n",
    "    check_list = []\n",
    "    for i in range(start, end+1):\n",
    "        if (sorted_list[i][0] >= (mid_line - min_d)) and (sorted_list[i][0]) <= (mid_line + min_d):\n",
    "            check_list.append(sorted_list[i])\n",
    "    \n",
    "    sorted_check_list = sorted(check_list, key = lambda x: x[1])\n",
    "    \n",
    "    local_min_d = min_d\n",
    "    for j in range(len(sorted_check_list)):\n",
    "        left_limit = max(0, j-4)\n",
    "        right_limit = min(len(sorted_check_list)-1, j+4)\n",
    "        for k in range(left_limit, right_limit+1):\n",
    "            if j == k:\n",
    "                continue\n",
    "            temp_d = distance(sorted_check_list[j], sorted_check_list[k])\n",
    "            local_min_d = min(local_min_d, temp_d)\n",
    "    \n",
    "    return local_min_d\n",
    "\n",
    "\n",
    "\"\"\"\n",
    "Calculate the shortest distance among a bunch of points.\n",
    "Args:\n",
    "    *args: Target points\n",
    "Returns:\n",
    "    The shortest distance\n",
    "\"\"\"\n",
    "def Closest(*args):\n",
    "    sorted_list = sorted([*args], key = lambda x: (x[0], x[1]))\n",
    "    smallest_d = FindClosest(sorted_list)\n",
    "    return smallest_d\n",
    "\n",
    "\n",
    "Closest([4,4], [-2,-2], [-3,-4], [-1,3], [2,3], [-4, 0], [1,1], [-1,-1], [3,-1], [-4,2], [-2,4])"
   ]
  },
  {
   "cell_type": "markdown",
   "metadata": {},
   "source": [
    "# Dynamic Programming"
   ]
  },
  {
   "cell_type": "code",
   "execution_count": 62,
   "metadata": {
    "scrolled": true
   },
   "outputs": [
    {
     "data": {
      "text/plain": [
       "(4, [1, 3, 9, 10, 11])"
      ]
     },
     "execution_count": 62,
     "metadata": {},
     "output_type": "execute_result"
    }
   ],
   "source": [
    "import numpy as np\n",
    "\n",
    "\"\"\"\n",
    "Given a primitive calculator that can perform the following three operations \\\n",
    "with the current number x: multiply x by 2, multiply x by 3, or add 1 to x. \\\n",
    "Your goal is given a positive integer n, find the minimum number of operations \\\n",
    "needed to obtain the number n starting from the number 1.\n",
    "Args:\n",
    "    target: The number needs to be splitted\n",
    "Returns:\n",
    "    The minimum number of operations and the calculation process.\n",
    "\"\"\"\n",
    "def PrimSplit(target):\n",
    "    if target <= 0:\n",
    "        raise ValueError(\"Input must be positive integers.\")\n",
    "    elif target == 1:\n",
    "        return 0, [1]\n",
    "    \n",
    "    if target%3 == 0:\n",
    "        operation3 = PrimSplit(target//3)\n",
    "    else:\n",
    "        operation3 = (np.nan, None)\n",
    "        \n",
    "    if target%2 == 0:\n",
    "        operation2 = PrimSplit(target//2)\n",
    "    else:\n",
    "        operation2 = (np.nan, None)\n",
    "    \n",
    "    operation1 = PrimSplit(target-1)\n",
    "    \n",
    "    min_operation = np.nanmin([operation1[0], operation2[0], operation3[0]])\n",
    "    if operation3[0] == min_operation:\n",
    "        operation_num = operation3[0]+1 \n",
    "        operation_process = operation3[1]\n",
    "    elif operation2[0] == min_operation:\n",
    "        operation_num = operation2[0]+1 \n",
    "        operation_process = operation2[1]        \n",
    "    else:\n",
    "        operation_num = operation1[0]+1 \n",
    "        operation_process = operation1[1]\n",
    "        \n",
    "    operation_process.append(target)\n",
    "    return operation_num, operation_process\n",
    "\n",
    "PrimSplit(11)"
   ]
  }
 ],
 "metadata": {
  "kernelspec": {
   "display_name": "Python 3",
   "language": "python",
   "name": "python3"
  },
  "language_info": {
   "codemirror_mode": {
    "name": "ipython",
    "version": 3
   },
   "file_extension": ".py",
   "mimetype": "text/x-python",
   "name": "python",
   "nbconvert_exporter": "python",
   "pygments_lexer": "ipython3",
   "version": "3.6.5"
  }
 },
 "nbformat": 4,
 "nbformat_minor": 2
}
