{
 "cells": [
  {
   "cell_type": "markdown",
   "metadata": {},
   "source": [
    "# Warm up"
   ]
  },
  {
   "cell_type": "code",
   "execution_count": 26,
   "metadata": {},
   "outputs": [
    {
     "data": {
      "text/plain": [
       "28657"
      ]
     },
     "execution_count": 26,
     "metadata": {},
     "output_type": "execute_result"
    }
   ],
   "source": [
    "\"\"\"\n",
    "Generate Fibonacci numbers \n",
    "Args:\n",
    "    n: The nth in Fibonacci series\n",
    "Returns:\n",
    "    The nth Fibonacci number\n",
    "\"\"\"\n",
    "def Fibonacci(n):\n",
    "    if n < 1 or not isinstance(n, int):\n",
    "        raise TypeError(\"n should be a non-zero integer.\")\n",
    "    \n",
    "    if n in [1, 2]:\n",
    "        return 1\n",
    "    \n",
    "    a = 1\n",
    "    b = 1\n",
    "    i = 2\n",
    "    while i < n:\n",
    "        a, b = b, a + b\n",
    "        i += 1\n",
    "    return b\n",
    "\n",
    "Fibonacci(23)"
   ]
  },
  {
   "cell_type": "code",
   "execution_count": 27,
   "metadata": {},
   "outputs": [
    {
     "data": {
      "text/plain": [
       "7"
      ]
     },
     "execution_count": 27,
     "metadata": {},
     "output_type": "execute_result"
    }
   ],
   "source": [
    "\"\"\"\n",
    "Generate the last digit of Fibonacci numbers \n",
    "Args:\n",
    "    n: The nth in Fibonacci series\n",
    "Returns:\n",
    "    The last digit of the nth Fibonacci number\n",
    "\"\"\"\n",
    "def FibDigit(n):\n",
    "    if n < 1 or not isinstance(n, int):\n",
    "        raise TypeError(\"n should be a non-zero integer.\")\n",
    "    \n",
    "    if n in [1, 2]:\n",
    "        return 1\n",
    "    \n",
    "    a = 1\n",
    "    b = 1\n",
    "    i = 2\n",
    "    while i < n:\n",
    "        a, b = b%10, (a + b)%10\n",
    "        i += 1\n",
    "    return b\n",
    "\n",
    "FibDigit(23)"
   ]
  },
  {
   "cell_type": "code",
   "execution_count": 29,
   "metadata": {},
   "outputs": [
    {
     "name": "stdout",
     "output_type": "stream",
     "text": [
      "0.8331112524943975 milliseconds\n",
      "0.29094125398584403 milliseconds\n"
     ]
    }
   ],
   "source": [
    "import timeit\n",
    "t1 = timeit.Timer(\"Fibonacci(23333)\", \"from __main__ import Fibonacci\")\n",
    "print(t1.timeit(number = 100), \"milliseconds\")\n",
    "t1 = timeit.Timer(\"FibDigit(23333)\", \"from __main__ import FibDigit\")\n",
    "print(t1.timeit(number = 100), \"milliseconds\")"
   ]
  },
  {
   "cell_type": "code",
   "execution_count": 73,
   "metadata": {},
   "outputs": [
    {
     "data": {
      "text/plain": [
       "56"
      ]
     },
     "execution_count": 73,
     "metadata": {},
     "output_type": "execute_result"
    }
   ],
   "source": [
    "import math\n",
    "import numpy as np\n",
    "from collections import Counter\n",
    "\n",
    "\"\"\"\n",
    "Generate all the prime factors of a number\n",
    "Args:\n",
    "    n: The target number to be factorized\n",
    "Returns:\n",
    "    A list of all the prime factors of the target number\n",
    "\"\"\"\n",
    "def factorize(n):\n",
    "    if n <= 1 or not isinstance(n, int):\n",
    "        raise TypeError(\"n should be an integer bigger than 1.\")\n",
    "        \n",
    "    if n == 2:\n",
    "        return[2]\n",
    "        \n",
    "    prime_list = []\n",
    "    while n % 2 == 0:\n",
    "        prime_list.append(2)\n",
    "        n = n / 2\n",
    "    \n",
    "    for i in range(3, int(math.sqrt(n)) + 1, 2):\n",
    "        if n % i == 0:\n",
    "            prime_list.append(i)\n",
    "            n = n / i\n",
    "    prime_list.append(int(n))\n",
    "    return prime_list\n",
    "\n",
    "\n",
    "\"\"\"\n",
    "Get greatest common divisor of two integers\n",
    "Args:\n",
    "    n1: First number\n",
    "    n2: Second number\n",
    "Returns:\n",
    "    GCD of the two number\n",
    "\"\"\"\n",
    "def GCD1(n1, n2):\n",
    "    prime_list1 = factorize(n1)\n",
    "    prime_list2 = factorize(n2)\n",
    "    inter_list = list((Counter(prime_list1) & Counter(prime_list2)).elements())\n",
    "    \n",
    "    if len(inter_list) == 0:\n",
    "        return 1\n",
    "    else:\n",
    "        return np.product(inter_list)\n",
    "\n",
    "GCD1(56, 112)"
   ]
  },
  {
   "cell_type": "code",
   "execution_count": 79,
   "metadata": {},
   "outputs": [
    {
     "data": {
      "text/plain": [
       "56"
      ]
     },
     "execution_count": 79,
     "metadata": {},
     "output_type": "execute_result"
    }
   ],
   "source": [
    "\"\"\"\n",
    "Get greatest common divisor of two integers\n",
    "Args:\n",
    "    n1: First number\n",
    "    n2: Second number\n",
    "Returns:\n",
    "    GCD of the two number\n",
    "\"\"\"\n",
    "def GCD2(n1, n2):\n",
    "    if n1 <= n2:\n",
    "        numerator = n2\n",
    "        denominator = n1\n",
    "    else:\n",
    "        numerator = n1\n",
    "        denominator = n2\n",
    "    \n",
    "    while denominator > 0:\n",
    "        denominator, numerator = numerator%denominator, denominator\n",
    "    \n",
    "    return numerator\n",
    "\n",
    "GCD2(56, 112)"
   ]
  }
 ],
 "metadata": {
  "kernelspec": {
   "display_name": "Python 3",
   "language": "python",
   "name": "python3"
  },
  "language_info": {
   "codemirror_mode": {
    "name": "ipython",
    "version": 3
   },
   "file_extension": ".py",
   "mimetype": "text/x-python",
   "name": "python",
   "nbconvert_exporter": "python",
   "pygments_lexer": "ipython3",
   "version": "3.6.5"
  }
 },
 "nbformat": 4,
 "nbformat_minor": 2
}
