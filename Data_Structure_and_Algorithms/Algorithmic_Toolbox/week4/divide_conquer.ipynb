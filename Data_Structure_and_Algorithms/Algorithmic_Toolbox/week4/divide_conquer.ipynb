{
 "cells": [
  {
   "cell_type": "markdown",
   "metadata": {},
   "source": [
    "# Divide & Conquer"
   ]
  },
  {
   "cell_type": "code",
   "execution_count": 1,
   "metadata": {},
   "outputs": [
    {
     "data": {
      "text/plain": [
       "[2, 0, -1, 0, -1]"
      ]
     },
     "execution_count": 1,
     "metadata": {},
     "output_type": "execute_result"
    }
   ],
   "source": [
    "# Binary Search Example\n",
    "\"\"\"\n",
    "Get the position of target numbers in a sorted list\n",
    "Args:\n",
    "    check_list: Sorted list to be searched\n",
    "    targets: List of numbers need to be checked\n",
    "Returns:\n",
    "    Positions of the target numbers in check list. -1 means not found\n",
    "\"\"\"\n",
    "def BinaryCheck(check_list, targets):\n",
    "    return_list = []\n",
    "    for i in targets:\n",
    "        start = 0\n",
    "        end = len(check_list) - 1\n",
    "        found = False\n",
    "        while start <= end:\n",
    "            mid = (start + end) // 2\n",
    "            if check_list[mid] == i:\n",
    "                return_list.append(mid)\n",
    "                found = True\n",
    "                break\n",
    "            elif check_list[mid] < i:\n",
    "                start = mid + 1\n",
    "            else:\n",
    "                end = mid - 1\n",
    "        if not found:\n",
    "            return_list.append(-1)\n",
    "    return(return_list)\n",
    "\n",
    "BinaryCheck([1, 5, 8, 12, 13], \n",
    "            [8, 1, 23, 1, 11])"
   ]
  },
  {
   "cell_type": "code",
   "execution_count": 2,
   "metadata": {
    "scrolled": true
   },
   "outputs": [
    {
     "data": {
      "text/plain": [
       "2"
      ]
     },
     "execution_count": 2,
     "metadata": {},
     "output_type": "execute_result"
    }
   ],
   "source": [
    "# Proof\n",
    "\"\"\"\n",
    "Proof for Efficiency of Divide & Conquer\n",
    "Divide the list into two parts, if both parts have a majority, we need to \n",
    "count the number of repetitions of those two majorities in the whole list,\n",
    "which is O(n).\n",
    "Therefore, we have \n",
    "T(n) = 2(T(n/2)) + O(n)\n",
    "     = 2(2T(n/4) + O(n/2)) + O(n)\n",
    "     = 4T(n/4) + O(2n)\n",
    "     = (2^k) * T(n/(2^k)) + O(k*n)\n",
    "Since we have n = 2^k\n",
    "Therefore,\n",
    "T(n) = n*T(1) + O(nlog2(n))\n",
    "     = O(nlog(n))\n",
    "\"\"\"\n",
    "\n",
    "# Implement\n",
    "\"\"\"\n",
    "Find the majority element (more than half) in a list.\n",
    "Args:\n",
    "    target_list: The list to be checked\n",
    "    left: The starting point to check, default is 0\n",
    "    right: The ending point to check, default is len(target_list)-1\n",
    "Returns:\n",
    "    The majority element of the list, if no majority exists, return -1\n",
    "\"\"\"\n",
    "def MajorCheck(target_list, left = None, right = None):\n",
    "    if left == None:\n",
    "        left = 0\n",
    "    if right == None:\n",
    "        right = len(target_list) - 1\n",
    "    \n",
    "    if right == left:\n",
    "        return target_list[left]\n",
    "    if right == left + 1:\n",
    "        if target_list[left] == target_list[right]:\n",
    "            return target_list[left]\n",
    "        else:\n",
    "            return -1\n",
    "        \n",
    "    left_major = MajorCheck(target_list, left = left, right = (left + right)//2)\n",
    "    right_major = MajorCheck(target_list, left = (left + right)//2 + 1, right = right)\n",
    "    \n",
    "    left_count = 0\n",
    "    right_count = 0\n",
    "    for i in range(left, right + 1):\n",
    "        if target_list[i] == left_major:\n",
    "            left_count += 1\n",
    "        if left_count > (right - left + 1)//2:\n",
    "            return left_major\n",
    "        \n",
    "    for j in range(left, right + 1):\n",
    "        if target_list[j] == right_major:\n",
    "            right_count += 1\n",
    "        if right_count > (right - left + 1)//2:\n",
    "            return right_major\n",
    "    \n",
    "    return -1\n",
    "        \n",
    "MajorCheck([2,3,9,2,2])"
   ]
  },
  {
   "cell_type": "code",
   "execution_count": 3,
   "metadata": {},
   "outputs": [
    {
     "data": {
      "text/plain": [
       "[2, 2, 2, 3, 9]"
      ]
     },
     "execution_count": 3,
     "metadata": {},
     "output_type": "execute_result"
    }
   ],
   "source": [
    "\"\"\"\n",
    "The 3 partitions method.\n",
    "Args:\n",
    "    sub_list: The list to be partitioned\n",
    "    left: Left point for partition\n",
    "    right: Right point for partition\n",
    "Returns:\n",
    "    The partition points for less than pivot, equal to pivot, and greater than pivot\n",
    "\"\"\"\n",
    "def partition3(sub_list, left, right):\n",
    "    i = left\n",
    "    lpoint = left\n",
    "    rpoint = right\n",
    "    pivot = sub_list[left]\n",
    "    while i <= rpoint:\n",
    "        if sub_list[i] < pivot:\n",
    "            sub_list[i], sub_list[lpoint] = sub_list[lpoint], sub_list[i]\n",
    "            i += 1\n",
    "            lpoint += 1\n",
    "        elif sub_list[i] == pivot:\n",
    "            i += 1\n",
    "        else:\n",
    "            sub_list[i], sub_list[rpoint] = sub_list[rpoint], sub_list[i]\n",
    "            rpoint -= 1\n",
    "    return lpoint, rpoint\n",
    "\n",
    "\"\"\"\n",
    "Implement a quick sort algorithm with 3 partitions method.\n",
    "Compare to the quick sort with 2 partitions, this method is quicker\n",
    "for list with many same elements, but it needs more swaps.\n",
    "Args:\n",
    "    target_list: The target list to be sorted\n",
    "Returns:\n",
    "    The sorted list\n",
    "\"\"\"\n",
    "def QuickSort(target_list, left = 0, right = None):\n",
    "    if right == None:\n",
    "        right = len(target_list) - 1\n",
    "    if left < right:\n",
    "        lpoint, rpoint = partition3(target_list, left, right)\n",
    "        QuickSort(target_list, left, lpoint - 1)\n",
    "        QuickSort(target_list, rpoint + 1, right)\n",
    "    return target_list\n",
    "\n",
    "QuickSort([2,3,9,2,2])"
   ]
  },
  {
   "cell_type": "code",
   "execution_count": 4,
   "metadata": {},
   "outputs": [
    {
     "data": {
      "text/plain": [
       "([2, 2, 3, 9, 9], 2)"
      ]
     },
     "execution_count": 4,
     "metadata": {},
     "output_type": "execute_result"
    }
   ],
   "source": [
    "\"\"\"\n",
    "Merge the two sorted lists and return the number of inversions.\n",
    "Args:\n",
    "    left: The left sub list to be merged\n",
    "    right: The right sub list to be merged\n",
    "Returns:\n",
    "    The merged list and the number of inversions\n",
    "\"\"\"\n",
    "def MergeLists(left, right):\n",
    "    i = 0\n",
    "    j = 0\n",
    "    k = 0\n",
    "    count = 0\n",
    "    return_list = [None] * (len(left) + len(right))\n",
    "    while (i < len(left)) and (j < len(right)):\n",
    "        if left[i] <= right[j]:\n",
    "            return_list[k] = left[i]\n",
    "            i += 1\n",
    "            k += 1\n",
    "        else:\n",
    "            return_list[k] = right[j]\n",
    "            j += 1\n",
    "            k += 1\n",
    "            count += (len(left) - i)\n",
    "    \n",
    "    while i < len(left):\n",
    "        return_list[k] = left[i]\n",
    "        i += 1\n",
    "        k += 1\n",
    "    \n",
    "    while j < len(right):\n",
    "        return_list[k] = right[j]\n",
    "        j += 1\n",
    "        k += 1\n",
    "    \n",
    "    return return_list, count \n",
    "\n",
    "\"\"\"\n",
    "Sort the list and count the number of inversions in the list.\n",
    "Args:\n",
    "    target_list: The list to be checked\n",
    "Returns:\n",
    "    The sorted list and the number of inversions\n",
    "\"\"\"\n",
    "def CountInverse(target_list):\n",
    "    count = 0\n",
    "    mid = (len(target_list)//2)\n",
    "    if mid >= 1:\n",
    "        left, left_count = CountInverse(target_list[:mid])\n",
    "        right, right_count = CountInverse(target_list[mid:])\n",
    "        target_list, count = MergeLists(left, right)\n",
    "        count = count + left_count + right_count\n",
    "    return target_list, count\n",
    "\n",
    "CountInverse([2,3,9,2,9])"
   ]
  },
  {
   "cell_type": "code",
   "execution_count": 5,
   "metadata": {},
   "outputs": [
    {
     "data": {
      "text/plain": [
       "[2, 0]"
      ]
     },
     "execution_count": 5,
     "metadata": {},
     "output_type": "execute_result"
    }
   ],
   "source": [
    "\"\"\"\n",
    "Calculate the number of segments each point belongs to.\n",
    "Args:\n",
    "    starts: The starting points of each segment\n",
    "    ends: The ending points of each segment\n",
    "    points: The points need to be checked\n",
    "Returns:\n",
    "    The number of segments of each point\n",
    "\"\"\"\n",
    "def CountSeg(starts, ends, points):\n",
    "    output_list = [0] * len(points)\n",
    "    \n",
    "    starts_list = [[i, \"l\"] for i in starts]\n",
    "    points_list = [[i, \"p\"] for i in points]\n",
    "    ends_list = [[i, \"r\"] for i in ends]\n",
    "    total = starts_list + points_list + ends_list\n",
    "    # Notice the order of keys depend on whether the borders are included or not\n",
    "    sorted_total = sorted(total, key = lambda x: (x[0], x[1]))\n",
    "    \n",
    "    seg_count = 0\n",
    "    for i in sorted_total:\n",
    "        if i[1] == \"l\":\n",
    "            seg_count += 1\n",
    "        elif i[1] == \"r\":\n",
    "            seg_count -= 1\n",
    "        else:\n",
    "            output_list[points.index(i[0])] = seg_count\n",
    "    return output_list\n",
    "\n",
    "CountSeg([0,-3,7], [5,2,10], [1,6])"
   ]
  },
  {
   "cell_type": "code",
   "execution_count": 6,
   "metadata": {},
   "outputs": [
    {
     "data": {
      "text/plain": [
       "1.4142135623730951"
      ]
     },
     "execution_count": 6,
     "metadata": {},
     "output_type": "execute_result"
    }
   ],
   "source": [
    "import math\n",
    "import numpy as np\n",
    "\n",
    "\"\"\"\n",
    "Calculate the distance between two points.\n",
    "Args:\n",
    "    point1: The position of the first point\n",
    "    point2: The position of the second point\n",
    "Returns:\n",
    "    Distance between two points\n",
    "\"\"\"\n",
    "def distance(point1, point2):\n",
    "    return math.sqrt((point2[0] - point1[0])**2 + (point2[1] - point1[1])**2)\n",
    "\n",
    "\"\"\"\n",
    "Find the shortest distance among a bunch of sorted points.\n",
    "Args:\n",
    "    sorted_list: A list of points, sorted by x and y of the points\n",
    "    start: The start index of the sorted_list\n",
    "    end: The end index of the sorted_list\n",
    "Returns:\n",
    "    The shortest distance \n",
    "\"\"\"\n",
    "def FindClosest(sorted_list, start = 0, end = None):\n",
    "    if end == None:\n",
    "        end = len(sorted_list)-1\n",
    "        \n",
    "    if end == start:\n",
    "        return np.nan\n",
    "    elif end == start+1:\n",
    "        return distance(sorted_list[start], sorted_list[end])\n",
    "    \n",
    "    mid = (start + end)//2\n",
    "    \n",
    "    left_d = FindClosest(sorted_list, start = start, end = mid)\n",
    "    right_d = FindClosest(sorted_list, start = mid+1, end = end)\n",
    "    \n",
    "    min_d = np.nanmin([left_d, right_d])\n",
    "    mid_line = sorted_list[mid][0]\n",
    "    check_list = []\n",
    "    for i in range(start, end+1):\n",
    "        if (sorted_list[i][0] >= (mid_line - min_d)) and (sorted_list[i][0]) <= (mid_line + min_d):\n",
    "            check_list.append(sorted_list[i])\n",
    "    \n",
    "    sorted_check_list = sorted(check_list, key = lambda x: x[1])\n",
    "    \n",
    "    local_min_d = min_d\n",
    "    for j in range(len(sorted_check_list)):\n",
    "        left_limit = max(0, j-4)\n",
    "        right_limit = min(len(sorted_check_list)-1, j+4)\n",
    "        for k in range(left_limit, right_limit+1):\n",
    "            if j == k:\n",
    "                continue\n",
    "            temp_d = distance(sorted_check_list[j], sorted_check_list[k])\n",
    "            local_min_d = min(local_min_d, temp_d)\n",
    "    \n",
    "    return local_min_d\n",
    "\n",
    "\n",
    "\"\"\"\n",
    "Calculate the shortest distance among a bunch of points.\n",
    "Args:\n",
    "    *args: Target points\n",
    "Returns:\n",
    "    The shortest distance\n",
    "\"\"\"\n",
    "def Closest(*args):\n",
    "    sorted_list = sorted([*args], key = lambda x: (x[0], x[1]))\n",
    "    smallest_d = FindClosest(sorted_list)\n",
    "    return smallest_d\n",
    "\n",
    "\n",
    "Closest([4,4], [-2,-2], [-3,-4], [-1,3], [2,3], [-4, 0], [1,1], [-1,-1], [3,-1], [-4,2], [-2,4])"
   ]
  }
 ],
 "metadata": {
  "kernelspec": {
   "display_name": "Python 3",
   "language": "python",
   "name": "python3"
  },
  "language_info": {
   "codemirror_mode": {
    "name": "ipython",
    "version": 3
   },
   "file_extension": ".py",
   "mimetype": "text/x-python",
   "name": "python",
   "nbconvert_exporter": "python",
   "pygments_lexer": "ipython3",
   "version": "3.6.5"
  }
 },
 "nbformat": 4,
 "nbformat_minor": 2
}
