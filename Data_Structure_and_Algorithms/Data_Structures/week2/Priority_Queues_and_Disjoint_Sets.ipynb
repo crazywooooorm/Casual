{
 "cells": [
  {
   "cell_type": "markdown",
   "metadata": {},
   "source": [
    "# Priority Queues and Disjoint Sets"
   ]
  },
  {
   "cell_type": "code",
   "execution_count": 8,
   "metadata": {},
   "outputs": [],
   "source": [
    "\"\"\"\n",
    "Heapify a sub max binary tree\n",
    "Args:\n",
    "    input_list: input list to be sorted\n",
    "    n: length of the input list\n",
    "    i: node that needs heapify\n",
    "Returns:\n",
    "    an heapified subtree\n",
    "\"\"\"\n",
    "def heapify(input_list, n, i):\n",
    "    max_node = i\n",
    "    l = 2*i+1 # index of left child\n",
    "    r = 2*i+2 # index of right child\n",
    "    \n",
    "    if (l < n) and (input_list[i] < input_list[l]):\n",
    "        max_node = l\n",
    "    \n",
    "    if (r < n) and (input_list[max_node] < input_list[r]):\n",
    "        max_node = r\n",
    "    \n",
    "    if max_node != i:\n",
    "        input_list[i], input_list[max_node] = input_list[max_node], input_list[i] # swap node and child\n",
    "        heapify(input_list, n, max_node)\n",
    "    \n",
    "    return input_list\n",
    "\n",
    "\n",
    "\"\"\"\n",
    "HeapSort the input list\n",
    "Args:\n",
    "    input_list: input list to be sorted\n",
    "Returns:\n",
    "    a sorted list\n",
    "\"\"\"\n",
    "def HeapSort(input_list):\n",
    "    n = len(input_list)\n",
    "    \n",
    "    for i in range(n//2 - 1, -1, -1): # leaves don't need to be heapified, so start from n//2-1\n",
    "        input_list = heapify(input_list, n, i)\n",
    "        \n",
    "    for i in range(n-1, 0, -1):\n",
    "        input_list[0], input_list[i] = input_list[i], input_list[0] # swap and extract the root\n",
    "        input_list = heapify(input_list, i, 0)\n",
    "        \n",
    "    return input_list"
   ]
  },
  {
   "cell_type": "code",
   "execution_count": 9,
   "metadata": {},
   "outputs": [
    {
     "data": {
      "text/plain": [
       "[5, 6, 7, 11, 12, 13]"
      ]
     },
     "execution_count": 9,
     "metadata": {},
     "output_type": "execute_result"
    }
   ],
   "source": [
    "HeapSort([12, 11, 13, 5, 6, 7])"
   ]
  },
  {
   "cell_type": "code",
   "execution_count": null,
   "metadata": {},
   "outputs": [],
   "source": []
  }
 ],
 "metadata": {
  "kernelspec": {
   "display_name": "Python 3",
   "language": "python",
   "name": "python3"
  },
  "language_info": {
   "codemirror_mode": {
    "name": "ipython",
    "version": 3
   },
   "file_extension": ".py",
   "mimetype": "text/x-python",
   "name": "python",
   "nbconvert_exporter": "python",
   "pygments_lexer": "ipython3",
   "version": "3.6.8"
  }
 },
 "nbformat": 4,
 "nbformat_minor": 2
}
