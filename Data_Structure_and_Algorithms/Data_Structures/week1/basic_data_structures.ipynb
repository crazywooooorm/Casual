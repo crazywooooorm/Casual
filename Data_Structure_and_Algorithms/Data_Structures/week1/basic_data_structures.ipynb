{
 "cells": [
  {
   "cell_type": "markdown",
   "metadata": {},
   "source": [
    "# Basic Data Structures"
   ]
  },
  {
   "cell_type": "code",
   "execution_count": 22,
   "metadata": {},
   "outputs": [],
   "source": [
    "\"\"\"\n",
    "Find errors in the usage of brackets in the code\n",
    "Args:\n",
    "    input_str: input string to be checked\n",
    "Returns:\n",
    "    1-based index of the first time an bracket error occurs, if no error return 'Success'\n",
    "\"\"\"\n",
    "def bracket_check(input_str):\n",
    "    if len(input_str) == 0:\n",
    "        return 'Success'\n",
    "    \n",
    "    match_dic = {'(': ')', '[': ']', '{': '}', 'placeholder':'placeholder'}\n",
    "    cnt = 1\n",
    "    bracket_stack = ['placeholder']\n",
    "    for i in input_str:\n",
    "        if i in ['(', '[', '{']:\n",
    "            bracket_stack.append(i)\n",
    "        elif i in [')', ']', '}']:\n",
    "            if match_dic[bracket_stack.pop()] == i:\n",
    "                pass\n",
    "            else:\n",
    "                return cnt\n",
    "        else:\n",
    "            pass    \n",
    "        cnt+=1\n",
    "    \n",
    "    if len(bracket_stack) == 1:\n",
    "        return 'Success'\n",
    "    else:\n",
    "        return (cnt-len(bracket_stack)+1)"
   ]
  },
  {
   "cell_type": "code",
   "execution_count": 28,
   "metadata": {},
   "outputs": [
    {
     "data": {
      "text/plain": [
       "11"
      ]
     },
     "execution_count": 28,
     "metadata": {},
     "output_type": "execute_result"
    }
   ],
   "source": [
    "bracket_check('fiafkdap[]{(')"
   ]
  },
  {
   "cell_type": "code",
   "execution_count": 52,
   "metadata": {},
   "outputs": [],
   "source": [
    "\"\"\"\n",
    "Compute the height of a tree from a given list of nodes\n",
    "Args:\n",
    "    nodes: list of nodes, the number of the node means the index of its parent. Root node is marked as -1.\n",
    "Returns:\n",
    "    height of the tree\n",
    "\"\"\"\n",
    "def return_index(input_list, val):\n",
    "    re = []\n",
    "    for i, item in enumerate(input_list):\n",
    "        if item == val:\n",
    "            re.append(i)\n",
    "    return re\n",
    "\n",
    "def tree_height(nodes):\n",
    "    if len(nodes) == 0:\n",
    "        return 0\n",
    "    \n",
    "    if len(nodes) == 1:\n",
    "        return 1\n",
    "    \n",
    "    root_index = nodes.index(-1)\n",
    "    parent_list = [root_index]\n",
    "    depth = 1\n",
    "    while True:\n",
    "        new_par = []\n",
    "        for i in parent_list:\n",
    "            new_par.extend(return_index(nodes, i))\n",
    "        if len(new_par) == 0:\n",
    "            return depth\n",
    "        else:\n",
    "            parent_list = new_par\n",
    "            depth += 1"
   ]
  },
  {
   "cell_type": "code",
   "execution_count": 54,
   "metadata": {},
   "outputs": [
    {
     "data": {
      "text/plain": [
       "4"
      ]
     },
     "execution_count": 54,
     "metadata": {},
     "output_type": "execute_result"
    }
   ],
   "source": [
    "tree_height([-1,0,4,0,3])"
   ]
  },
  {
   "cell_type": "code",
   "execution_count": 58,
   "metadata": {},
   "outputs": [],
   "source": [
    "\"\"\"\n",
    "Given a sequence a1,..., an and integer m <= n, find the maximum among {ai,...,ai+m-a} for 1 ≤ i ≤ n-m+1. \n",
    "Args:\n",
    "    target: target sequence\n",
    "    m: window length\n",
    "Returns:\n",
    "    maximum value for each window\n",
    "\"\"\"\n",
    "def window_max(target, m):\n",
    "    re = []\n",
    "    win = [-1]\n",
    "    for i in range(m-1):\n",
    "        win.append(target[i])\n",
    "    \n",
    "    for i in range(len(target)-m+1):\n",
    "        win.pop(0)\n",
    "        win.append(target[i+m-1])\n",
    "        re.append(max(win))\n",
    "    \n",
    "    return re    "
   ]
  },
  {
   "cell_type": "code",
   "execution_count": 59,
   "metadata": {},
   "outputs": [
    {
     "data": {
      "text/plain": [
       "[7, 7, 5, 6, 6]"
      ]
     },
     "execution_count": 59,
     "metadata": {},
     "output_type": "execute_result"
    }
   ],
   "source": [
    "window_max([2,7,3,1,5,2,6,2], 4)"
   ]
  },
  {
   "cell_type": "code",
   "execution_count": null,
   "metadata": {},
   "outputs": [],
   "source": []
  }
 ],
 "metadata": {
  "kernelspec": {
   "display_name": "Python 3",
   "language": "python",
   "name": "python3"
  },
  "language_info": {
   "codemirror_mode": {
    "name": "ipython",
    "version": 3
   },
   "file_extension": ".py",
   "mimetype": "text/x-python",
   "name": "python",
   "nbconvert_exporter": "python",
   "pygments_lexer": "ipython3",
   "version": "3.6.8"
  }
 },
 "nbformat": 4,
 "nbformat_minor": 2
}
