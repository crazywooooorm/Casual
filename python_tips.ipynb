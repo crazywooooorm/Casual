{
 "cells": [
  {
   "cell_type": "code",
   "execution_count": 10,
   "metadata": {},
   "outputs": [
    {
     "name": "stdout",
     "output_type": "stream",
     "text": [
      "[1, 2, 3, 'a', 'b', 'c', 'd']\n",
      "['new', 1, 2, 3, 'a', 'b', 'c', 'd']\n",
      "[1, 2, 3, 'a', 'b', 'c', 'd']\n"
     ]
    }
   ],
   "source": [
    "# About List\n",
    "test_list = [1, 2, 3, 'a', 'b', 'c']\n",
    "# -- add element\n",
    "test_list.append('d')\n",
    "print(test_list)\n",
    "# -- insert element\n",
    "test_list.insert(0, 'new')\n",
    "print(test_list)\n",
    "# -- delete element\n",
    "test_list.pop(0)\n",
    "print(test_list)"
   ]
  },
  {
   "cell_type": "code",
   "execution_count": 14,
   "metadata": {
    "scrolled": true
   },
   "outputs": [
    {
     "name": "stdout",
     "output_type": "stream",
     "text": [
      "False\n",
      "True\n",
      "True\n"
     ]
    }
   ],
   "source": [
    "# About Tuple\n",
    "# Tuple can't be modified\n",
    "# Tuple with one int is considered as int not tuple, so we need a comma to distinguish them\n",
    "print(isinstance((0), tuple))\n",
    "print(isinstance((0), int))\n",
    "print(isinstance((0,), tuple))"
   ]
  },
  {
   "cell_type": "code",
   "execution_count": 28,
   "metadata": {
    "scrolled": true
   },
   "outputs": [
    {
     "name": "stdout",
     "output_type": "stream",
     "text": [
      "1\n",
      "None\n",
      "{'b': 2, 'c': 3}\n",
      "{'a', 'c', 'b'}\n",
      "{'d', 'a', 'c', 'b'}\n",
      "{'d', 'a', 'b'}\n"
     ]
    }
   ],
   "source": [
    "# Dictionary Manipulation\n",
    "test_dict = {'a':1, 'b':2, 'c':3}\n",
    "print(test_dict.get('a'))\n",
    "print(test_dict.get('d'))\n",
    "test_dict.pop('a')\n",
    "print(test_dict)\n",
    "\n",
    "# Set is a dictionay without value\n",
    "test_set = set(['a', 'a', 'b', 'c'])\n",
    "print(test_set)\n",
    "test_set.add('d')\n",
    "print(test_set)\n",
    "test_set.remove('c')\n",
    "print(test_set)"
   ]
  }
 ],
 "metadata": {
  "kernelspec": {
   "display_name": "Python 3",
   "language": "python",
   "name": "python3"
  },
  "language_info": {
   "codemirror_mode": {
    "name": "ipython",
    "version": 3
   },
   "file_extension": ".py",
   "mimetype": "text/x-python",
   "name": "python",
   "nbconvert_exporter": "python",
   "pygments_lexer": "ipython3",
   "version": "3.6.5"
  }
 },
 "nbformat": 4,
 "nbformat_minor": 2
}
