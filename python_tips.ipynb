{
 "cells": [
  {
   "cell_type": "markdown",
   "metadata": {},
   "source": [
    "# List, Tuple, Dictionary and Set Manipulation"
   ]
  },
  {
   "cell_type": "code",
   "execution_count": 4,
   "metadata": {},
   "outputs": [
    {
     "name": "stdout",
     "output_type": "stream",
     "text": [
      "[1, 2, 3, 'a', 'b', 'c', 'd']\n",
      "['new', 1, 2, 3, 'a', 'b', 'c', 'd']\n",
      "[1, 2, 3, 'a', 'b', 'c', 'd']\n"
     ]
    }
   ],
   "source": [
    "# About List\n",
    "test_list = [1, 2, 3, 'a', 'b', 'c']\n",
    "# -- add element\n",
    "test_list.append('d')\n",
    "print(test_list)\n",
    "# -- insert element\n",
    "test_list.insert(0, 'new')\n",
    "print(test_list)\n",
    "# -- delete element\n",
    "test_list.pop(0)\n",
    "print(test_list)"
   ]
  },
  {
   "cell_type": "code",
   "execution_count": 21,
   "metadata": {
    "scrolled": true
   },
   "outputs": [
    {
     "name": "stdout",
     "output_type": "stream",
     "text": [
      "False\n",
      "True\n",
      "True\n"
     ]
    }
   ],
   "source": [
    "## About Tuple\n",
    "# Tuple can't be modified\n",
    "# Tuple with one int is considered as int not tuple, so we need a comma to distinguish them\n",
    "print(isinstance((0), tuple))\n",
    "print(isinstance((0), int))\n",
    "print(isinstance((0,), tuple))"
   ]
  },
  {
   "cell_type": "code",
   "execution_count": 22,
   "metadata": {
    "scrolled": false
   },
   "outputs": [
    {
     "name": "stdout",
     "output_type": "stream",
     "text": [
      "1\n",
      "None\n",
      "{'b': 2, 'c': 3}\n",
      "{'b', 'a', 'c'}\n",
      "{'b', 'd', 'a', 'c'}\n",
      "{'b', 'd', 'a'}\n"
     ]
    }
   ],
   "source": [
    "# Dictionary Manipulation\n",
    "test_dict = {'a':1, 'b':2, 'c':3}\n",
    "print(test_dict.get('a'))\n",
    "print(test_dict.get('d'))\n",
    "test_dict.pop('a')\n",
    "print(test_dict)\n",
    "\n",
    "# Set is a dictionay without value\n",
    "test_set = set(['a', 'a', 'b', 'c'])\n",
    "print(test_set)\n",
    "test_set.add('d')\n",
    "print(test_set)\n",
    "test_set.remove('c')\n",
    "print(test_set)"
   ]
  },
  {
   "cell_type": "markdown",
   "metadata": {},
   "source": [
    "# Function Basic"
   ]
  },
  {
   "cell_type": "markdown",
   "metadata": {},
   "source": [
    "Define a function foo() in file.py, you can directly import that function by \"from file import foo\", if you are in the same path with file.py."
   ]
  },
  {
   "cell_type": "code",
   "execution_count": 23,
   "metadata": {},
   "outputs": [
    {
     "data": {
      "text/plain": [
       "(0.8660254037844387, 0.49999999999999994)"
      ]
     },
     "execution_count": 23,
     "metadata": {},
     "output_type": "execute_result"
    }
   ],
   "source": [
    "# arguments\n",
    "import math\n",
    "\n",
    "def move(x_ini, y_ini, step, angle = math.pi, *args, **kw):\n",
    "    # *args transforms the arguments into a tuple\n",
    "    # **kw transforms the arguments into a dictionary\n",
    "    \n",
    "    if not isinstance(x_ini, (int, float)):\n",
    "       raise TyperError('Wrong input type')\n",
    "    x_new = x_ini + step * math.cos(angle)\n",
    "    y_new = y_ini + step * math.sin(angle)\n",
    "    \n",
    "    return x_new, y_new\n",
    "\n",
    "move(0, 0, 1, math.pi/6)"
   ]
  },
  {
   "cell_type": "code",
   "execution_count": 24,
   "metadata": {},
   "outputs": [],
   "source": [
    "# tail recursion\n",
    "# A normal recursion might lead to a stack overflow\n",
    "def factorize(n):\n",
    "    if n == 1:\n",
    "        return 1\n",
    "    return n * factorize(n - 1)\n",
    "\n",
    "# A tail recursion optimization can prevent that situation\n",
    "def factorize_tail(n, product = 1):\n",
    "    if n == 1:\n",
    "        return product\n",
    "    return factorize_tail(n - 1, product * n)"
   ]
  },
  {
   "cell_type": "markdown",
   "metadata": {},
   "source": [
    "# Advanced Manipulation"
   ]
  },
  {
   "cell_type": "code",
   "execution_count": 25,
   "metadata": {},
   "outputs": [
    {
     "name": "stdout",
     "output_type": "stream",
     "text": [
      "True\n",
      "True\n",
      "False\n",
      "The a element in the dictionary is 1\n",
      "The b element in the dictionary is 2\n",
      "The c element in the dictionary is 3\n",
      "The 0 element in the list is a\n",
      "The 1 element in the list is b\n",
      "The 2 element in the list is c\n"
     ]
    }
   ],
   "source": [
    "# Iteration can be done on an object if it is iterable\n",
    "from collections import Iterable\n",
    "print(isinstance('string', Iterable))\n",
    "print(isinstance(['l', 'i', 's', 't'], Iterable))\n",
    "print(isinstance(123, Iterable))\n",
    "\n",
    "# dic itaration, default is iterating keys, iterating value needs dic.values(), iterating both needs dic.items() \n",
    "for key, value in {'a':1, 'b':2, 'c':3}.items():\n",
    "    print('The', key, 'element in the dictionary is', value)\n",
    "\n",
    "# list iteration, print both index and the value\n",
    "for i, value in enumerate(['a', 'b', 'c']):\n",
    "    print('The', i, 'element in the list is', value)"
   ]
  },
  {
   "cell_type": "code",
   "execution_count": 3,
   "metadata": {},
   "outputs": [
    {
     "data": {
      "text/plain": [
       "['a', 'b', 'c', 'd']"
      ]
     },
     "execution_count": 3,
     "metadata": {},
     "output_type": "execute_result"
    }
   ],
   "source": [
    "# List Comprehensions, easy way to generate a list by 'for' loop\n",
    "test_dic = ['A', 'B', 'C', 15, 'D']\n",
    "[i.lower() for i in test_dic if isinstance(i, str)]"
   ]
  },
  {
   "cell_type": "code",
   "execution_count": 9,
   "metadata": {
    "scrolled": true
   },
   "outputs": [
    {
     "name": "stdout",
     "output_type": "stream",
     "text": [
      "[1]\n",
      "[1, 1]\n",
      "[1, 2, 1]\n",
      "[1, 3, 3, 1]\n",
      "[1, 4, 6, 4, 1]\n",
      "[1, 5, 10, 10, 5, 1]\n",
      "[1, 6, 15, 20, 15, 6, 1]\n",
      "[1, 7, 21, 35, 35, 21, 7, 1]\n",
      "[1, 8, 28, 56, 70, 56, 28, 8, 1]\n",
      "[1, 9, 36, 84, 126, 126, 84, 36, 9, 1]\n"
     ]
    }
   ],
   "source": [
    "# generator\n",
    "# basically it's a list comprehension in a tuple structure, or a function with yield output.\n",
    "# -- triangle generator\n",
    "def triangles(n):\n",
    "    if (not isinstance(n, int)) or (n < 0):\n",
    "        raise TypeError(\"Input is not proper.\")\n",
    "    if n == 0:\n",
    "        yield []\n",
    "    ret = [1]\n",
    "    yield(ret)\n",
    "    for i in range(n-1):\n",
    "        ret.insert(0, 0)\n",
    "        ret.append(0)\n",
    "        ret_new = []\n",
    "        for j in range(len(ret) - 1):\n",
    "            ret_new.append(ret[j] + ret[j + 1])\n",
    "        yield(ret_new)\n",
    "        ret = ret_new\n",
    "\n",
    "for i in triangles(10): print(i)"
   ]
  },
  {
   "cell_type": "markdown",
   "metadata": {},
   "source": [
    "# Functional Programming"
   ]
  },
  {
   "cell_type": "code",
   "execution_count": 27,
   "metadata": {
    "scrolled": true
   },
   "outputs": [
    {
     "data": {
      "text/plain": [
       "'Kjlfdssdfad'"
      ]
     },
     "execution_count": 27,
     "metadata": {},
     "output_type": "execute_result"
    }
   ],
   "source": [
    "# map example: capitalize first, lower rest\n",
    "def organize_str(s):\n",
    "    if not isinstance(s, str):\n",
    "        raise TypeError('Input must be a string')\n",
    "    s_list = list(s)\n",
    "    s_list[0] = s_list[0].upper()\n",
    "    s_list[1:] = map(lambda x: x.lower(), s_list[1:])\n",
    "    return ''.join(s_list)\n",
    "\n",
    "organize_str(\"kjlfdsSdfaD\")"
   ]
  },
  {
   "cell_type": "code",
   "execution_count": 57,
   "metadata": {},
   "outputs": [
    {
     "data": {
      "text/plain": [
       "0.54"
      ]
     },
     "execution_count": 57,
     "metadata": {},
     "output_type": "execute_result"
    }
   ],
   "source": [
    "# map and reduce example: transfer string to float\n",
    "from functools import reduce\n",
    "def str2float(s):\n",
    "    digits = {'0': 0, '1': 1, '2': 2, '3': 3, '4': 4, '5': 5, '6': 6, '7': 7, '8': 8, '9': 9}\n",
    "    if '.' in s:\n",
    "        decimal = s.index('.')\n",
    "    else: decimal = len(s)\n",
    "    s = s.replace('.', '')\n",
    "    exponent = len(s) - decimal\n",
    "    return reduce(lambda x, y: 10 * x + y, \n",
    "                  map(lambda x: digits[x], s))/(10 ** exponent)\n",
    "            \n",
    "str2float('.54')             "
   ]
  },
  {
   "cell_type": "code",
   "execution_count": 48,
   "metadata": {},
   "outputs": [
    {
     "name": "stdout",
     "output_type": "stream",
     "text": [
      "2\n",
      "3\n",
      "5\n",
      "7\n",
      "11\n",
      "13\n",
      "17\n",
      "19\n"
     ]
    }
   ],
   "source": [
    "# filter, select those elements make the function return True\n",
    "def gen_list():\n",
    "    n = 1\n",
    "    while True:\n",
    "        n += 1\n",
    "        yield n\n",
    "\n",
    "def divisible(n):\n",
    "    return lambda x: x % n > 0\n",
    "        \n",
    "def get_prime():\n",
    "    num = gen_list()\n",
    "    while True:\n",
    "        n = next(num)\n",
    "        yield n\n",
    "        num = filter(divisible(n), num)\n",
    "\n",
    "for i in get_prime():\n",
    "    if i < 20:\n",
    "        print(i)\n",
    "    else: break"
   ]
  }
 ],
 "metadata": {
  "kernelspec": {
   "display_name": "Python 3",
   "language": "python",
   "name": "python3"
  },
  "language_info": {
   "codemirror_mode": {
    "name": "ipython",
    "version": 3
   },
   "file_extension": ".py",
   "mimetype": "text/x-python",
   "name": "python",
   "nbconvert_exporter": "python",
   "pygments_lexer": "ipython3",
   "version": "3.6.5"
  }
 },
 "nbformat": 4,
 "nbformat_minor": 2
}
