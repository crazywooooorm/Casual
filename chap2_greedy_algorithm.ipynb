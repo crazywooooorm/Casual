{
 "cells": [
  {
   "cell_type": "markdown",
   "metadata": {},
   "source": [
    "# Greedy Algorithms"
   ]
  },
  {
   "cell_type": "code",
   "execution_count": 1,
   "metadata": {},
   "outputs": [
    {
     "data": {
      "text/plain": [
       "6"
      ]
     },
     "execution_count": 1,
     "metadata": {},
     "output_type": "execute_result"
    }
   ],
   "source": [
    "\"\"\"\n",
    "Find the minumum number of coins needed to change any value with coins 1, 5 and 10\n",
    "Args:\n",
    "    n: Value needs to be changed\n",
    "Returns:\n",
    "    Minumum number of coins needed\n",
    "\"\"\"\n",
    "def change(n):\n",
    "    rest = n\n",
    "    count = 0\n",
    "    while rest > 0:\n",
    "        for i in [10, 5, 1]:\n",
    "            if i <= rest:\n",
    "                rest -= i\n",
    "                count += 1\n",
    "                break\n",
    "            else:\n",
    "                pass\n",
    "    return count\n",
    "\n",
    "change(24)"
   ]
  },
  {
   "cell_type": "code",
   "execution_count": 2,
   "metadata": {
    "scrolled": true
   },
   "outputs": [
    {
     "data": {
      "text/plain": [
       "166.66666666666666"
      ]
     },
     "execution_count": 2,
     "metadata": {},
     "output_type": "execute_result"
    }
   ],
   "source": [
    "\"\"\"\n",
    "Find the combination(fractional) of objects with best value with the constrains on the weight and number of objects\n",
    "Args:\n",
    "    constrain: The first element is the number of objects, the second is the total weight of the objects\n",
    "    *args: List of a object, the first element is the value, the second is the weight\n",
    "Returns:\n",
    "    Best value be reached\n",
    "\"\"\"\n",
    "def FracKnapsack(constrain, *args):\n",
    "    obj_list = sorted([*args], key = lambda x: x[0]/x[1], reverse = True)\n",
    "    num = 0\n",
    "    weight = 0\n",
    "    value = 0\n",
    "    while (num < constrain[0]) & (num < len(obj_list)) & (weight < constrain[1]):\n",
    "        if obj_list[num][1] <= (constrain[1] - weight):\n",
    "            value += obj_list[num][0]\n",
    "            weight += obj_list[num][1]\n",
    "            num += 1\n",
    "        else:\n",
    "            value += obj_list[num][0] * (constrain[1] - weight) / obj_list[num][1]\n",
    "            num += (constrain[0] - weight) / obj_list[num][1]\n",
    "            weight = constrain[1]\n",
    "    return value\n",
    "\n",
    "FracKnapsack([1,10], [500, 30])"
   ]
  },
  {
   "cell_type": "code",
   "execution_count": 3,
   "metadata": {},
   "outputs": [
    {
     "data": {
      "text/plain": [
       "23"
      ]
     },
     "execution_count": 3,
     "metadata": {},
     "output_type": "execute_result"
    }
   ],
   "source": [
    "import numpy as np\n",
    "\n",
    "\"\"\"\n",
    "Find the biggest benefit from allocating the click times and click profits\n",
    "Args:\n",
    "    profit: Profit of each click\n",
    "    time: click times per day\n",
    "Returns:\n",
    "    Maximum profit of the allocation\n",
    "\"\"\"\n",
    "def click(profit, time):\n",
    "    return np.dot(np.sort(profit), np.sort(time))\n",
    " \n",
    "click([1,3,-5], [-2, 4, 1])"
   ]
  },
  {
   "cell_type": "code",
   "execution_count": 4,
   "metadata": {},
   "outputs": [
    {
     "data": {
      "text/plain": [
       "[3, 6]"
      ]
     },
     "execution_count": 4,
     "metadata": {},
     "output_type": "execute_result"
    }
   ],
   "source": [
    "\"\"\"\n",
    "Print the minimum points to cover all the segments\n",
    "Args:\n",
    "    segs: List of all the segments on the line\n",
    "Returns:\n",
    "    The minimum points position to cover all the segments\n",
    "\"\"\"\n",
    "def PointsCover(segs):\n",
    "    sort_segs = sorted(segs, key = lambda x: x[1])\n",
    "    points = []\n",
    "    max_point = sort_segs[0][0] - 1\n",
    "    for i in sort_segs:\n",
    "        if max_point < i[0]:\n",
    "            points.append(i[1])\n",
    "            max_point = points[-1]\n",
    "        else:\n",
    "            pass\n",
    "    return points\n",
    "\n",
    "PointsCover([[4, 7], [1, 3], [2, 5], [5, 6]])"
   ]
  },
  {
   "cell_type": "code",
   "execution_count": 5,
   "metadata": {},
   "outputs": [
    {
     "data": {
      "text/plain": [
       "[1, 2, 3, 4, 9]"
      ]
     },
     "execution_count": 5,
     "metadata": {},
     "output_type": "execute_result"
    }
   ],
   "source": [
    "\"\"\"\n",
    "Print the distinct positive integers which sum up to specific big number\n",
    "Args:\n",
    "    n: Number to be splitted\n",
    "Returns:\n",
    "    List of numbers to sum up to the input number\n",
    "\"\"\"\n",
    "def Split(n):\n",
    "    num_list = []\n",
    "    i = 0\n",
    "    while sum(num_list) < n:\n",
    "        i += 1\n",
    "        rest = n - sum(num_list) - i\n",
    "        if rest <= i:\n",
    "            i += rest\n",
    "        else:\n",
    "            pass\n",
    "        \n",
    "        num_list.append(i)\n",
    "    return num_list\n",
    "\n",
    "Split(19)"
   ]
  }
 ],
 "metadata": {
  "kernelspec": {
   "display_name": "Python 3",
   "language": "python",
   "name": "python3"
  },
  "language_info": {
   "codemirror_mode": {
    "name": "ipython",
    "version": 3
   },
   "file_extension": ".py",
   "mimetype": "text/x-python",
   "name": "python",
   "nbconvert_exporter": "python",
   "pygments_lexer": "ipython3",
   "version": "3.6.5"
  }
 },
 "nbformat": 4,
 "nbformat_minor": 2
}
