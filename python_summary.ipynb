{
 "cells": [
  {
   "cell_type": "markdown",
   "metadata": {},
   "source": [
    "# List, Tuple, Dictionary and Set Manipulation"
   ]
  },
  {
   "cell_type": "markdown",
   "metadata": {},
   "source": [
    "## List"
   ]
  },
  {
   "cell_type": "markdown",
   "metadata": {},
   "source": [
    "### Basic"
   ]
  },
  {
   "cell_type": "code",
   "execution_count": 6,
   "metadata": {},
   "outputs": [
    {
     "name": "stdout",
     "output_type": "stream",
     "text": [
      "[8, 1, 7, 3, 2, 3]\n"
     ]
    }
   ],
   "source": [
    "test_list = [3, 2, 3, 5, 7, 1]\n",
    "\n",
    "# add\n",
    "test_list.append(8)\n",
    "\n",
    "# insert (position, val)\n",
    "test_list.insert(0, 9)\n",
    "\n",
    "# remove by position, default is removing last element\n",
    "test_list.pop(0)\n",
    "\n",
    "# index, return the index of first element that matches input value\n",
    "test_list.index(5)\n",
    "\n",
    "# count, count the number of elements that match input value\n",
    "test_list.count(5)\n",
    "\n",
    "# remove by value, remove the first element that matches the input value\n",
    "# in-place\n",
    "test_list.remove(5)\n",
    "\n",
    "# reverse \n",
    "test_list.reverse()\n",
    "\n",
    "print(test_list)"
   ]
  },
  {
   "cell_type": "markdown",
   "metadata": {},
   "source": [
    "### Sort"
   ]
  },
  {
   "cell_type": "code",
   "execution_count": 8,
   "metadata": {},
   "outputs": [
    {
     "data": {
      "text/plain": [
       "['what goes around comes around',\n",
       " 'when in rome',\n",
       " 'all is fair in love and war']"
      ]
     },
     "execution_count": 8,
     "metadata": {},
     "output_type": "execute_result"
    }
   ],
   "source": [
    "# 'sort' is inplace\n",
    "# only works for list\n",
    "# default is ascending\n",
    "test_list.sort(reverse = True)\n",
    "\n",
    "# sorted works for different data structures\n",
    "# don't change origina object\n",
    "# default is ascending\n",
    "sorted(test_list, reverse = True)\n",
    "\n",
    "# complext sorting, using lambda to customize key\n",
    "sort_list = ['when in rome', 'what goes around comes around', 'all is fair in love and war']\n",
    "sorted(sort_list, key=lambda x: x.split()[2][1], reverse=True)"
   ]
  },
  {
   "cell_type": "markdown",
   "metadata": {},
   "source": [
    "### List Comprehension"
   ]
  },
  {
   "cell_type": "code",
   "execution_count": 9,
   "metadata": {},
   "outputs": [
    {
     "data": {
      "text/plain": [
       "[(4, 8), (9, 27), (16, 64)]"
      ]
     },
     "execution_count": 9,
     "metadata": {},
     "output_type": "execute_result"
    }
   ],
   "source": [
    "list_a = [1, 2, 3, 4]\n",
    "list_b = [2, 3, 4, 5]\n",
    "\n",
    "[(a**2, b**3) for a in list_a for b in list_b if a == b]"
   ]
  },
  {
   "cell_type": "markdown",
   "metadata": {},
   "source": [
    "## Tuple"
   ]
  },
  {
   "cell_type": "code",
   "execution_count": 21,
   "metadata": {
    "scrolled": true
   },
   "outputs": [
    {
     "name": "stdout",
     "output_type": "stream",
     "text": [
      "False\n",
      "True\n",
      "True\n"
     ]
    }
   ],
   "source": [
    "## About Tuple\n",
    "# Tuple can't be modified\n",
    "# Tuple with one int is considered as int not tuple, so we need a comma to distinguish them\n",
    "print(isinstance((0), tuple))\n",
    "print(isinstance((0), int))\n",
    "print(isinstance((0,), tuple))"
   ]
  },
  {
   "cell_type": "markdown",
   "metadata": {},
   "source": [
    "## Dictionary"
   ]
  },
  {
   "cell_type": "code",
   "execution_count": 45,
   "metadata": {
    "scrolled": true
   },
   "outputs": [
    {
     "name": "stdout",
     "output_type": "stream",
     "text": [
      "1\n",
      "None\n",
      "{'b': 2, 'c': 3}\n"
     ]
    }
   ],
   "source": [
    "# Dictionary Manipulation\n",
    "test_dict = {'a':1, 'b':2, 'c':3}\n",
    "print(test_dict.get('a'))\n",
    "print(test_dict.get('d'))\n",
    "test_dict.pop('a')\n",
    "print(test_dict)"
   ]
  },
  {
   "cell_type": "markdown",
   "metadata": {},
   "source": [
    "## Set"
   ]
  },
  {
   "cell_type": "code",
   "execution_count": 46,
   "metadata": {},
   "outputs": [
    {
     "name": "stdout",
     "output_type": "stream",
     "text": [
      "{'c', 'b', 'a'}\n",
      "{'c', 'b', 'a', 'd'}\n",
      "{'b', 'a', 'd'}\n"
     ]
    }
   ],
   "source": [
    "# Set is a dictionay without value\n",
    "test_set = set(['a', 'a', 'b', 'c'])\n",
    "print(test_set)\n",
    "test_set.add('d')\n",
    "print(test_set)\n",
    "test_set.remove('c')\n",
    "print(test_set)"
   ]
  },
  {
   "cell_type": "markdown",
   "metadata": {},
   "source": [
    "# String Manipulation"
   ]
  },
  {
   "cell_type": "markdown",
   "metadata": {},
   "source": [
    "## Basic"
   ]
  },
  {
   "cell_type": "code",
   "execution_count": 89,
   "metadata": {},
   "outputs": [
    {
     "data": {
      "text/plain": [
       "'!!!dlroW olleH'"
      ]
     },
     "execution_count": 89,
     "metadata": {},
     "output_type": "execute_result"
    }
   ],
   "source": [
    "test_string = 'Hello World!!!'\n",
    "\n",
    "# upper\n",
    "test_string.upper()\n",
    "\n",
    "# lower\n",
    "test_string.lower()\n",
    "\n",
    "# title, capitalize first letter of each word\n",
    "test_string.title()\n",
    "\n",
    "# put string in a fix length and fill the rest with some value (default is space)\n",
    "test_string.center(30, '_')\n",
    "test_string.ljust(30, '_')\n",
    "test_string.rjust(30, '_')\n",
    "\n",
    "# strip, trim the string\n",
    "test_string.strip()\n",
    "\n",
    "# find, return index of the first time the input value appears\n",
    "test_string.find('o')\n",
    "\n",
    "# count, return number of times the input value appears\n",
    "test_string.count('H')\n",
    "\n",
    "# split, by input mark. Default is splitting by space\n",
    "test_string.split(', ')\n",
    "\n",
    "# split to letters, convert to list\n",
    "list(test_string)\n",
    "\n",
    "# reverse a string\n",
    "test_string[::-1]"
   ]
  },
  {
   "cell_type": "markdown",
   "metadata": {},
   "source": [
    "## Regex"
   ]
  },
  {
   "cell_type": "markdown",
   "metadata": {},
   "source": [
    "^ start\n",
    "\n",
    "$ end\n",
    "\n",
    "[ ] any within bracket\n",
    "\n",
    ". single character\n",
    "\n",
    "\\* zero or more occurrences of its left\n",
    "\n",
    "\\+ one or more occurrences of its left\n",
    "\n",
    "? zero or one occurrence of its left\n",
    "\n",
    "{n, m} at leat n and at most m occurrences of its left\n",
    "\n",
    "a|b match a or b\n",
    "\n",
    "( ) used for sub pattern, like (a|b). Also, notice **only the stuff in () would be returned!**\n",
    "\n",
    "\n",
    "\n",
    "For more details, check [here](https://www.programiz.com/python-programming/regex)"
   ]
  },
  {
   "cell_type": "code",
   "execution_count": 83,
   "metadata": {},
   "outputs": [],
   "source": [
    "import re\n",
    "\n",
    "txt = \"The rain in Spain is ai5p and ait8\""
   ]
  },
  {
   "cell_type": "code",
   "execution_count": 85,
   "metadata": {},
   "outputs": [
    {
     "data": {
      "text/plain": [
       "[('ai5p', '5p'), ('ait8', 't8')]"
      ]
     },
     "execution_count": 85,
     "metadata": {},
     "output_type": "execute_result"
    }
   ],
   "source": [
    "# findall, return all matched elements\n",
    "pat = re.compile(\"([a-zA-Z0-9]*ai(5p|t8)+)\")\n",
    "re.findall(pat, txt)"
   ]
  },
  {
   "cell_type": "code",
   "execution_count": 86,
   "metadata": {},
   "outputs": [
    {
     "data": {
      "text/plain": [
       "['The rain in Spain is ai', 'p and ait', '']"
      ]
     },
     "execution_count": 86,
     "metadata": {},
     "output_type": "execute_result"
    }
   ],
   "source": [
    "# split, return list of strings splitted by your pattern\n",
    "pat = re.compile(\"[0-9]\")\n",
    "re.split(pat, txt)"
   ]
  },
  {
   "cell_type": "code",
   "execution_count": 87,
   "metadata": {},
   "outputs": [
    {
     "data": {
      "text/plain": [
       "'The rain in Spain is aipp and aitp'"
      ]
     },
     "execution_count": 87,
     "metadata": {},
     "output_type": "execute_result"
    }
   ],
   "source": [
    "# sub, replace matched part with something else\n",
    "replace = 'p'\n",
    "pat = re.compile(\"[0-9]\")\n",
    "re.sub(pat, replace, txt)"
   ]
  },
  {
   "cell_type": "code",
   "execution_count": 88,
   "metadata": {},
   "outputs": [
    {
     "data": {
      "text/plain": [
       "<_sre.SRE_Match object; span=(5, 7), match='ai'>"
      ]
     },
     "execution_count": 88,
     "metadata": {},
     "output_type": "execute_result"
    }
   ],
   "source": [
    "# search, return the first time the pattern was found\n",
    "pat = re.compile(\"ai\")\n",
    "re.search(pat, txt)"
   ]
  },
  {
   "cell_type": "markdown",
   "metadata": {},
   "source": [
    "# Function Basic"
   ]
  },
  {
   "cell_type": "markdown",
   "metadata": {},
   "source": [
    "Define a function foo() in file.py, you can directly import that function by \"from file import foo\", if you are in the same path with file.py."
   ]
  },
  {
   "cell_type": "code",
   "execution_count": 23,
   "metadata": {},
   "outputs": [
    {
     "data": {
      "text/plain": [
       "(0.8660254037844387, 0.49999999999999994)"
      ]
     },
     "execution_count": 23,
     "metadata": {},
     "output_type": "execute_result"
    }
   ],
   "source": [
    "# arguments\n",
    "import math\n",
    "\n",
    "def move(x_ini, y_ini, step, angle = math.pi, *args, **kw):\n",
    "    # *args transforms the arguments into a tuple\n",
    "    # **kw transforms the arguments into a dictionary\n",
    "    \n",
    "    if not isinstance(x_ini, (int, float)):\n",
    "       raise TyperError('Wrong input type')\n",
    "    x_new = x_ini + step * math.cos(angle)\n",
    "    y_new = y_ini + step * math.sin(angle)\n",
    "    \n",
    "    return x_new, y_new\n",
    "\n",
    "move(0, 0, 1, math.pi/6)"
   ]
  },
  {
   "cell_type": "code",
   "execution_count": 24,
   "metadata": {},
   "outputs": [],
   "source": [
    "# tail recursion\n",
    "# A normal recursion might lead to a stack overflow\n",
    "def factorize(n):\n",
    "    if n == 1:\n",
    "        return 1\n",
    "    return n * factorize(n - 1)\n",
    "\n",
    "# A tail recursion optimization can prevent that situation\n",
    "def factorize_tail(n, product = 1):\n",
    "    if n == 1:\n",
    "        return product\n",
    "    return factorize_tail(n - 1, product * n)"
   ]
  },
  {
   "cell_type": "markdown",
   "metadata": {},
   "source": [
    "# Advanced Manipulation"
   ]
  },
  {
   "cell_type": "code",
   "execution_count": 25,
   "metadata": {},
   "outputs": [
    {
     "name": "stdout",
     "output_type": "stream",
     "text": [
      "True\n",
      "True\n",
      "False\n",
      "The a element in the dictionary is 1\n",
      "The b element in the dictionary is 2\n",
      "The c element in the dictionary is 3\n",
      "The 0 element in the list is a\n",
      "The 1 element in the list is b\n",
      "The 2 element in the list is c\n"
     ]
    }
   ],
   "source": [
    "# Iteration can be done on an object if it is iterable\n",
    "from collections import Iterable\n",
    "print(isinstance('string', Iterable))\n",
    "print(isinstance(['l', 'i', 's', 't'], Iterable))\n",
    "print(isinstance(123, Iterable))\n",
    "\n",
    "# dic itaration, default is iterating keys, iterating value needs dic.values(), iterating both needs dic.items() \n",
    "for key, value in {'a':1, 'b':2, 'c':3}.items():\n",
    "    print('The', key, 'element in the dictionary is', value)\n",
    "\n",
    "# list iteration, print both index and the value\n",
    "for i, value in enumerate(['a', 'b', 'c']):\n",
    "    print('The', i, 'element in the list is', value)"
   ]
  },
  {
   "cell_type": "code",
   "execution_count": 3,
   "metadata": {},
   "outputs": [
    {
     "data": {
      "text/plain": [
       "['a', 'b', 'c', 'd']"
      ]
     },
     "execution_count": 3,
     "metadata": {},
     "output_type": "execute_result"
    }
   ],
   "source": [
    "# List Comprehensions, easy way to generate a list by 'for' loop\n",
    "test_dic = ['A', 'B', 'C', 15, 'D']\n",
    "[i.lower() for i in test_dic if isinstance(i, str)]"
   ]
  },
  {
   "cell_type": "code",
   "execution_count": 9,
   "metadata": {
    "scrolled": true
   },
   "outputs": [
    {
     "name": "stdout",
     "output_type": "stream",
     "text": [
      "[1]\n",
      "[1, 1]\n",
      "[1, 2, 1]\n",
      "[1, 3, 3, 1]\n",
      "[1, 4, 6, 4, 1]\n",
      "[1, 5, 10, 10, 5, 1]\n",
      "[1, 6, 15, 20, 15, 6, 1]\n",
      "[1, 7, 21, 35, 35, 21, 7, 1]\n",
      "[1, 8, 28, 56, 70, 56, 28, 8, 1]\n",
      "[1, 9, 36, 84, 126, 126, 84, 36, 9, 1]\n"
     ]
    }
   ],
   "source": [
    "# generator\n",
    "# basically it's a list comprehension in a tuple structure, or a function with yield output.\n",
    "# -- triangle generator\n",
    "def triangles(n):\n",
    "    if (not isinstance(n, int)) or (n < 0):\n",
    "        raise TypeError(\"Input is not proper.\")\n",
    "    if n == 0:\n",
    "        yield []\n",
    "    ret = [1]\n",
    "    yield(ret)\n",
    "    for i in range(n-1):\n",
    "        ret.insert(0, 0)\n",
    "        ret.append(0)\n",
    "        ret_new = []\n",
    "        for j in range(len(ret) - 1):\n",
    "            ret_new.append(ret[j] + ret[j + 1])\n",
    "        yield(ret_new)\n",
    "        ret = ret_new\n",
    "\n",
    "for i in triangles(10): print(i)"
   ]
  },
  {
   "cell_type": "markdown",
   "metadata": {},
   "source": [
    "# Functional Programming"
   ]
  },
  {
   "cell_type": "code",
   "execution_count": 27,
   "metadata": {
    "scrolled": true
   },
   "outputs": [
    {
     "data": {
      "text/plain": [
       "'Kjlfdssdfad'"
      ]
     },
     "execution_count": 27,
     "metadata": {},
     "output_type": "execute_result"
    }
   ],
   "source": [
    "# map example: capitalize first, lower rest\n",
    "def organize_str(s):\n",
    "    if not isinstance(s, str):\n",
    "        raise TypeError('Input must be a string')\n",
    "    s_list = list(s)\n",
    "    s_list[0] = s_list[0].upper()\n",
    "    s_list[1:] = map(lambda x: x.lower(), s_list[1:])\n",
    "    return ''.join(s_list)\n",
    "\n",
    "organize_str(\"kjlfdsSdfaD\")"
   ]
  },
  {
   "cell_type": "code",
   "execution_count": 57,
   "metadata": {},
   "outputs": [
    {
     "data": {
      "text/plain": [
       "0.54"
      ]
     },
     "execution_count": 57,
     "metadata": {},
     "output_type": "execute_result"
    }
   ],
   "source": [
    "# map and reduce example: transfer string to float\n",
    "from functools import reduce\n",
    "def str2float(s):\n",
    "    digits = {'0': 0, '1': 1, '2': 2, '3': 3, '4': 4, '5': 5, '6': 6, '7': 7, '8': 8, '9': 9}\n",
    "    if '.' in s:\n",
    "        decimal = s.index('.')\n",
    "    else: decimal = len(s)\n",
    "    s = s.replace('.', '')\n",
    "    exponent = len(s) - decimal\n",
    "    return reduce(lambda x, y: 10 * x + y, \n",
    "                  map(lambda x: digits[x], s))/(10 ** exponent)\n",
    "            \n",
    "str2float('.54')             "
   ]
  },
  {
   "cell_type": "code",
   "execution_count": 48,
   "metadata": {},
   "outputs": [
    {
     "name": "stdout",
     "output_type": "stream",
     "text": [
      "2\n",
      "3\n",
      "5\n",
      "7\n",
      "11\n",
      "13\n",
      "17\n",
      "19\n"
     ]
    }
   ],
   "source": [
    "# filter, select those elements make the function return True\n",
    "def gen_list():\n",
    "    n = 1\n",
    "    while True:\n",
    "        n += 1\n",
    "        yield n\n",
    "\n",
    "def divisible(n):\n",
    "    return lambda x: x % n > 0\n",
    "        \n",
    "def get_prime():\n",
    "    num = gen_list()\n",
    "    while True:\n",
    "        n = next(num)\n",
    "        yield n\n",
    "        num = filter(divisible(n), num)\n",
    "\n",
    "for i in get_prime():\n",
    "    if i < 20:\n",
    "        print(i)\n",
    "    else: break"
   ]
  },
  {
   "cell_type": "code",
   "execution_count": 3,
   "metadata": {},
   "outputs": [
    {
     "name": "stdout",
     "output_type": "stream",
     "text": [
      "16\n",
      "16\n",
      "16\n",
      "16\n"
     ]
    }
   ],
   "source": [
    "# Closure, put a function within a function, the inner function will not be called even when you call the outside one\n",
    "# In this case, all the inner functions will not run until you call foo(4)(), but at that time all the i are 4.\n",
    "def foo(x):\n",
    "    fun_list = []\n",
    "    for i in range(1, x+1):\n",
    "        def count_square():\n",
    "            return i**2\n",
    "        fun_list.append(count_square)\n",
    "    return fun_list\n",
    "\n",
    "fun1, fun2, fun3, fun4 = foo(4)\n",
    "print(fun1())\n",
    "print(fun2())\n",
    "print(fun3())\n",
    "print(fun4())"
   ]
  },
  {
   "cell_type": "code",
   "execution_count": 23,
   "metadata": {},
   "outputs": [
    {
     "name": "stdout",
     "output_type": "stream",
     "text": [
      "The running time of trial is 0.0000000000\n"
     ]
    },
    {
     "data": {
      "text/plain": [
       "332833500"
      ]
     },
     "execution_count": 23,
     "metadata": {},
     "output_type": "execute_result"
    }
   ],
   "source": [
    "# Decorator, add a shell to show the log\n",
    "import time\n",
    "def log(func):\n",
    "    def wrapper(*args, **kw):\n",
    "        start_time = time.time()\n",
    "        fun_res = func(*args, **kw)\n",
    "        end_time = time.time()\n",
    "        running_time = end_time - start_time \n",
    "        print('The running time of %s is' % func.__name__, '{0:1.10f}'.format(running_time))\n",
    "        return fun_res\n",
    "    return wrapper\n",
    "\n",
    "@log\n",
    "def trial():\n",
    "    sum = 0\n",
    "    for i in range(1000):\n",
    "        sum += i**2\n",
    "    return sum\n",
    "    \n",
    "trial()"
   ]
  },
  {
   "cell_type": "markdown",
   "metadata": {},
   "source": [
    "# Object Oriented Programming"
   ]
  },
  {
   "cell_type": "code",
   "execution_count": 14,
   "metadata": {},
   "outputs": [
    {
     "name": "stdout",
     "output_type": "stream",
     "text": [
      "afdasd : 1995\n"
     ]
    }
   ],
   "source": [
    "# Simple Class\n",
    "class Book():\n",
    "    def __init__(self, name, release_year):\n",
    "        self.__name = name\n",
    "        self.__release_year = release_year\n",
    "    \n",
    "    def set_info(self, name, release_year):\n",
    "        if not isinstance(name, str):\n",
    "            raise TypeError('Book name must be string.')\n",
    "        if not isinstance(release_year, (int, float)):\n",
    "            raise TypeError('Book name must be a number.')\n",
    "        self.__name = name\n",
    "        self.__release_year = release_year\n",
    "    \n",
    "    def get_info(self):\n",
    "        print('%s : %s' % (self.__name, self.__release_year))\n",
    "\n",
    "book = Book(\"dada\", 1992)\n",
    "book.set_info(\"afdasd\", 1995)\n",
    "book.get_info()"
   ]
  },
  {
   "cell_type": "code",
   "execution_count": 15,
   "metadata": {},
   "outputs": [
    {
     "name": "stdout",
     "output_type": "stream",
     "text": [
      "['_Book__name', '_Book__release_year', '__class__', '__delattr__', '__dict__', '__dir__', '__doc__', '__eq__', '__format__', '__ge__', '__getattribute__', '__gt__', '__hash__', '__init__', '__init_subclass__', '__le__', '__lt__', '__module__', '__ne__', '__new__', '__reduce__', '__reduce_ex__', '__repr__', '__setattr__', '__sizeof__', '__str__', '__subclasshook__', '__weakref__', 'get_info', 'set_info']\n",
      "False\n",
      "None\n",
      "20\n"
     ]
    }
   ],
   "source": [
    "# Get info list of the class\n",
    "print(dir(book))\n",
    "\n",
    "# Attributes manipulation\n",
    "print(hasattr(book, 'price'))\n",
    "print(setattr(book, 'price', 20))\n",
    "print(getattr(book, 'price'))"
   ]
  },
  {
   "cell_type": "code",
   "execution_count": 16,
   "metadata": {},
   "outputs": [
    {
     "data": {
      "text/plain": [
       "3"
      ]
     },
     "execution_count": 16,
     "metadata": {},
     "output_type": "execute_result"
    }
   ],
   "source": [
    "# A Class can count the number of times it's instantiated\n",
    "# Remember, each time instantiating the class, it is actually calling the __init__(). \n",
    "class Student():\n",
    "    count = 0\n",
    "    def __init__(self, name):\n",
    "        self.name = name\n",
    "        Student.count += 1\n",
    "\n",
    "s1 = Student(\"a\")\n",
    "s2 = Student(\"b\")\n",
    "s3 = Student(\"c\")\n",
    "s3.count"
   ]
  }
 ],
 "metadata": {
  "kernelspec": {
   "display_name": "Python 3",
   "language": "python",
   "name": "python3"
  },
  "language_info": {
   "codemirror_mode": {
    "name": "ipython",
    "version": 3
   },
   "file_extension": ".py",
   "mimetype": "text/x-python",
   "name": "python",
   "nbconvert_exporter": "python",
   "pygments_lexer": "ipython3",
   "version": "3.6.8"
  }
 },
 "nbformat": 4,
 "nbformat_minor": 2
}
