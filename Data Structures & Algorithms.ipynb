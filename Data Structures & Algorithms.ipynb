{
 "cells": [
  {
   "cell_type": "markdown",
   "metadata": {},
   "source": [
    "# Appetizer"
   ]
  },
  {
   "cell_type": "code",
   "execution_count": 1,
   "metadata": {},
   "outputs": [],
   "source": [
    "# Anagram Detection Problem\n",
    "# Check whether two strings are anagrams (eg. 'python' and 'onpyht').\n",
    "# -- solution 1\n",
    "def anagramSolution1(s1,s2):\n",
    "    if len(s1) != len(s2):\n",
    "        return(False)\n",
    "    \n",
    "    s1_list = list(s1)\n",
    "    s2_list = list(s2)\n",
    "    status = True\n",
    "    if status:\n",
    "        for i, value1 in enumerate(s1_list):\n",
    "            if status:\n",
    "                for j, value2 in enumerate(s2_list):\n",
    "                    if value1 == value2:\n",
    "                        s2_list[j] = 0\n",
    "                        status = True\n",
    "                        break\n",
    "                    else: status = False\n",
    "            else: break\n",
    "    return status\n",
    "\n",
    "# -- solution 2\n",
    "def anagramSolution2(s1, s2):\n",
    "    if len(s1) != len(s2):\n",
    "        return(False)\n",
    "    \n",
    "    s1_stat = [0] * 26\n",
    "    s2_stat = [0] * 26\n",
    "    for i in s1:\n",
    "        s1_stat[ord(i) - ord('a')] += 1\n",
    "    for i in s2:\n",
    "        s2_stat[ord(i) - ord('a')] += 1\n",
    "    if s1_stat == s2_stat:\n",
    "       return True\n",
    "    else:\n",
    "      return False"
   ]
  },
  {
   "cell_type": "code",
   "execution_count": 2,
   "metadata": {},
   "outputs": [
    {
     "name": "stdout",
     "output_type": "stream",
     "text": [
      "concat  3.272199242193975 milliseconds\n",
      "concat  1.0638852756439179 milliseconds\n"
     ]
    }
   ],
   "source": [
    "import timeit\n",
    "t1 = timeit.Timer(\"anagramSolution1('abcdefghijklmnopqrstuvwxyzzzaa', 'abcdefghijklmnopqrstuvwxyzzzaa')\", \n",
    "           \"from __main__ import anagramSolution1\")\n",
    "print(\"concat \",t1.timeit(number = 100000), \"milliseconds\")\n",
    "t2 = timeit.Timer(\"anagramSolution2('abcdefghijklmnopqrstuvwxyzzzaa', 'abcdefghijklmnopqrstuvwxyzzzaa')\", \n",
    "           \"from __main__ import anagramSolution2\")\n",
    "print(\"concat \",t2.timeit(number = 100000), \"milliseconds\")"
   ]
  },
  {
   "cell_type": "markdown",
   "metadata": {},
   "source": [
    "# Data Structures"
   ]
  },
  {
   "cell_type": "markdown",
   "metadata": {},
   "source": [
    "### Stack"
   ]
  },
  {
   "cell_type": "code",
   "execution_count": 3,
   "metadata": {},
   "outputs": [
    {
     "data": {
      "text/plain": [
       "1"
      ]
     },
     "execution_count": 3,
     "metadata": {},
     "output_type": "execute_result"
    }
   ],
   "source": [
    "# Define Stack, LIFO\n",
    "class Stack:\n",
    "    def __init__(self):\n",
    "        self.s = []\n",
    "    \n",
    "    def isEmpty(self):\n",
    "        return self.s == []\n",
    "    \n",
    "    def push(self, new):\n",
    "        self.s.append(new)\n",
    "        \n",
    "    def pop(self):\n",
    "        return self.s.pop()\n",
    "    \n",
    "    def peek(self):\n",
    "        return self.s[-1]\n",
    "    \n",
    "    def size(self):\n",
    "        return len(self.s)\n",
    "\n",
    "test_stack = Stack()\n",
    "test_stack.push(1)\n",
    "test_stack.push(2)\n",
    "test_stack.pop()\n",
    "test_stack.peek()"
   ]
  },
  {
   "cell_type": "code",
   "execution_count": 4,
   "metadata": {},
   "outputs": [
    {
     "data": {
      "text/plain": [
       "True"
      ]
     },
     "execution_count": 4,
     "metadata": {},
     "output_type": "execute_result"
    }
   ],
   "source": [
    "# Parentheses Check\n",
    "def CheckPar(target):\n",
    "    target_paren = ''.join(p for p in target if p in ('(', ')'))\n",
    "    if len(target_paren) == 0:\n",
    "        return \"This string doesn't contain parentheses.\"\n",
    "    \n",
    "    pos = 0\n",
    "    status = Stack()\n",
    "    balance = True\n",
    "    while pos < len(target_paren):\n",
    "        if target_paren[pos] == '(':\n",
    "            status.push('(')\n",
    "        else:\n",
    "            if status.isEmpty():\n",
    "                balance = False\n",
    "            else:\n",
    "                status.pop()\n",
    "        pos += 1\n",
    "    if balance and status.isEmpty():\n",
    "        return True\n",
    "    else: return False\n",
    "\n",
    "# test\n",
    "CheckPar('(fad())')"
   ]
  },
  {
   "cell_type": "markdown",
   "metadata": {},
   "source": [
    "### Queue"
   ]
  },
  {
   "cell_type": "code",
   "execution_count": 5,
   "metadata": {},
   "outputs": [
    {
     "data": {
      "text/plain": [
       "1"
      ]
     },
     "execution_count": 5,
     "metadata": {},
     "output_type": "execute_result"
    }
   ],
   "source": [
    "# Define queus, FIFO\n",
    "class Queue:\n",
    "    def __init__(self):\n",
    "        self.q = []\n",
    "    \n",
    "    def isEmpty(self):\n",
    "        return self.q == []\n",
    "    \n",
    "    def enqueue(self, new):\n",
    "        self.q.insert(0, new)\n",
    "    \n",
    "    def dequeue(self):\n",
    "        return self.q.pop()\n",
    "    \n",
    "    def size(self):\n",
    "        return len(self.q)\n",
    "\n",
    "test_queue = Queue()\n",
    "test_queue.enqueue(1)\n",
    "test_queue.enqueue(2)\n",
    "test_queue.dequeue()\n",
    "test_queue.size()"
   ]
  },
  {
   "cell_type": "code",
   "execution_count": null,
   "metadata": {},
   "outputs": [],
   "source": [
    "# Printer example\n"
   ]
  },
  {
   "cell_type": "markdown",
   "metadata": {},
   "source": [
    "# Recursion"
   ]
  },
  {
   "cell_type": "code",
   "execution_count": 9,
   "metadata": {},
   "outputs": [
    {
     "data": {
      "text/plain": [
       "'110'"
      ]
     },
     "execution_count": 9,
     "metadata": {},
     "output_type": "execute_result"
    }
   ],
   "source": [
    "# Transfer number for different base\n",
    "def BaseTrans(n, base):\n",
    "    if n >= base:\n",
    "        return BaseTrans(n//base, base) + str(n%base)\n",
    "    else:\n",
    "        return str(n)\n",
    "\n",
    "BaseTrans(6, 2)"
   ]
  },
  {
   "cell_type": "code",
   "execution_count": 4,
   "metadata": {
    "scrolled": true
   },
   "outputs": [
    {
     "name": "stdout",
     "output_type": "stream",
     "text": [
      "A -> C\n",
      "A -> B\n",
      "C -> B\n",
      "A -> C\n",
      "B -> A\n",
      "B -> C\n",
      "A -> C\n"
     ]
    }
   ],
   "source": [
    "# Tower of Hanoi\n",
    "def hanoi(n, start = 'A', middle = 'B', end = 'C'):\n",
    "    if n < 1 or not isinstance(n, int):\n",
    "        raise TypeError('Wrong Input.')\n",
    "    if n == 1:\n",
    "        print(start, '->', end)\n",
    "    else:\n",
    "        hanoi(n-1, start, end, middle)\n",
    "        print(start, '->', end)\n",
    "        hanoi(n-1, middle, start, end)\n",
    "\n",
    "hanoi(3)"
   ]
  },
  {
   "cell_type": "code",
   "execution_count": null,
   "metadata": {},
   "outputs": [],
   "source": [
    "# Dynamic Programming"
   ]
  },
  {
   "cell_type": "markdown",
   "metadata": {},
   "source": [
    "# Searching"
   ]
  },
  {
   "cell_type": "code",
   "execution_count": 55,
   "metadata": {},
   "outputs": [
    {
     "data": {
      "text/plain": [
       "False"
      ]
     },
     "execution_count": 55,
     "metadata": {},
     "output_type": "execute_result"
    }
   ],
   "source": [
    "# Binary Search, only apply to sorted list\n",
    "def binarySearch(target_list, target):\n",
    "    if len(target_list) < 1:\n",
    "        return False\n",
    "    else:\n",
    "        if target_list[len(target_list)//2] == target:\n",
    "            return True\n",
    "        elif target_list[len(target_list)//2] > target:\n",
    "            return binarySearch(target_list[:len(target_list)//2], target)\n",
    "        else:\n",
    "            return binarySearch(target_list[len(target_list)//2 + 1:], target)\n",
    "            \n",
    "binarySearch(list(range(0,100)), 6.6)"
   ]
  },
  {
   "cell_type": "code",
   "execution_count": 13,
   "metadata": {},
   "outputs": [
    {
     "name": "stdout",
     "output_type": "stream",
     "text": [
      "[None, 34, 23, 3, 12, 93, 534, 876, None, None, 65]\n",
      "[None, 'b', 'c', 'a', 'e', 'h', 'd', 'g', None, None, 'f']\n",
      "c\n",
      "new\n"
     ]
    }
   ],
   "source": [
    "# Hashing applied on a dictionary structure. This is an example the hashing is used to make a dictionary structure run fast.\n",
    "class HashList():\n",
    "    def __init__(self, HashLength):\n",
    "        self.size = HashLength\n",
    "        self.slots = [None] * self.size\n",
    "        self.data = [None] * self.size\n",
    "    \n",
    "    def hashfunction(self,key,size):\n",
    "        return key%size\n",
    "    \n",
    "    def rehash(self,oldhash,size):\n",
    "        return (oldhash+1)%size\n",
    "    \n",
    "    def put(self,key,data):\n",
    "        hash_value = self.hashfunction(key, self.size)\n",
    "        \n",
    "        if self.slots[hash_value] == None:\n",
    "            self.slots[hash_value] = key\n",
    "            self.data[hash_value] = data\n",
    "        elif self.slots[hash_value] == key:\n",
    "            self.data[hash_value] = data\n",
    "        else:\n",
    "            while self.slots[hash_value] != None and self.slots[hash_value] != key:\n",
    "                hash_value = self.rehash(hash_value, self.size)\n",
    "            if self.slots[hash_value] == None:\n",
    "                self.slots[hash_value] = key\n",
    "                self.data[hash_value] = data\n",
    "            else:\n",
    "                self.data[hash_value] = data\n",
    "    \n",
    "    def get(self, key):\n",
    "        hash_value = self.hashfunction(key, self.size)\n",
    "        init_value = hash_value\n",
    "        \n",
    "        while self.slots[hash_value] != key: \n",
    "            hash_value = self.rehash(hash_value, self.size)\n",
    "            if hash_value == init_value:\n",
    "                data = False\n",
    "                break\n",
    "        return self.data[hash_value]\n",
    "    \n",
    "    def __getitem__(self,key):\n",
    "        return self.get(key)\n",
    "    \n",
    "    def __setitem__(self,key,data):\n",
    "        self.put(key,data)     \n",
    "        \n",
    "# Test\n",
    "hash_test = HashList(11)\n",
    "hash_test[3] = 'a'\n",
    "hash_test[34] = 'b'\n",
    "hash_test[23] = 'c'\n",
    "hash_test[534] = 'd'\n",
    "hash_test[12] = 'e'\n",
    "hash_test[65] = 'f'\n",
    "hash_test[876] = 'g'\n",
    "hash_test[93] = 'h'\n",
    "\n",
    "print(hash_test.slots)\n",
    "print(hash_test.data)\n",
    "\n",
    "print(hash_test[23])\n",
    "hash_test[23] = 'new'\n",
    "print(hash_test[23])"
   ]
  },
  {
   "cell_type": "markdown",
   "metadata": {},
   "source": [
    "# Sorting"
   ]
  },
  {
   "cell_type": "code",
   "execution_count": 15,
   "metadata": {},
   "outputs": [
    {
     "data": {
      "text/plain": [
       "[1, 2, 3, 4, 5]"
      ]
     },
     "execution_count": 15,
     "metadata": {},
     "output_type": "execute_result"
    }
   ],
   "source": [
    "# Bubble Sorting\n",
    "# Typically, Bubble Sorting need (len(list) - 1) traversals, but a short bubble sort can stop when it finds there's no swap in one traversal.\n",
    "def ShortBubbleSort(target):\n",
    "    swap = True\n",
    "    round = 1\n",
    "    while round < len(target) and swap == True:\n",
    "        new_target = target.copy()\n",
    "        for i in range(len(target) - 1):\n",
    "            if new_target[i] > new_target[i+1]:\n",
    "                new_target[i], new_target[i+1] = new_target[i+1], new_target[i]\n",
    "        if new_target == target:\n",
    "            swap = False\n",
    "            print('Finished the sorting at Round', round)\n",
    "        round += 1\n",
    "        target = new_target.copy()\n",
    "                \n",
    "    return target\n",
    "\n",
    "ShortBubbleSort([5,4,3,2,1])"
   ]
  },
  {
   "cell_type": "code",
   "execution_count": 16,
   "metadata": {},
   "outputs": [
    {
     "data": {
      "text/plain": [
       "[1, 2, 3, 4, 5]"
      ]
     },
     "execution_count": 16,
     "metadata": {},
     "output_type": "execute_result"
    }
   ],
   "source": [
    "# Selection Sorting\n",
    "# Each round, put the biggest to the tail of the list\n",
    "def SelectionSort(target):\n",
    "    round = 1\n",
    "    while round < len(target):\n",
    "        max_item = 0\n",
    "        for j in range(len(target) + 1 - round):\n",
    "            if target[j] > target[max_item]:\n",
    "                max_item = j\n",
    "        target[max_item], target[len(target)-round] = target[len(target)-round], target[max_item]\n",
    "        round += 1\n",
    "    return target\n",
    "\n",
    "SelectionSort([5,4,3,2,1])"
   ]
  },
  {
   "cell_type": "code",
   "execution_count": 17,
   "metadata": {},
   "outputs": [
    {
     "data": {
      "text/plain": [
       "[1, 2, 3, 4, 5]"
      ]
     },
     "execution_count": 17,
     "metadata": {},
     "output_type": "execute_result"
    }
   ],
   "source": [
    "# Insertion Sorting\n",
    "# Each time insert the right element to the right position in left part\n",
    "def InsertionSort(target):\n",
    "    pos = 1\n",
    "    while pos < len(target):\n",
    "        current_value = target[pos]\n",
    "        move_pos = pos\n",
    "        while target[move_pos-1] > current_value and move_pos > 0:\n",
    "            target[move_pos] = target[move_pos-1]\n",
    "            move_pos -= 1\n",
    "        target[move_pos] = current_value\n",
    "        pos += 1\n",
    "    return target\n",
    "\n",
    "InsertionSort([5,4,3,2,1])"
   ]
  },
  {
   "cell_type": "code",
   "execution_count": 19,
   "metadata": {},
   "outputs": [
    {
     "data": {
      "text/plain": [
       "[1, 2, 3, 4, 5]"
      ]
     },
     "execution_count": 19,
     "metadata": {},
     "output_type": "execute_result"
    }
   ],
   "source": [
    "# Shell Sorting\n",
    "# Keep splitting the target, do the insertion sorting within each group\n",
    "def ShellSort(target):\n",
    "    def InsertionSubset(target, start, gap):\n",
    "        pos = start + gap\n",
    "        while pos < len(target):\n",
    "            move = pos\n",
    "            current_value = target[pos]\n",
    "            while target[move - gap] > current_value and move >= gap:\n",
    "                target[move] = target[move - gap]\n",
    "                move -= gap\n",
    "            target[move] = current_value\n",
    "            pos = pos + gap\n",
    "        return target\n",
    "    \n",
    "    gap = len(target)//2\n",
    "    while gap > 0:\n",
    "        for i in range(gap):\n",
    "            target = InsertionSubset(target, i, gap)\n",
    "        gap = gap//2\n",
    "    return target\n",
    "        \n",
    "ShellSort([5,4,3,2,1])"
   ]
  },
  {
   "cell_type": "code",
   "execution_count": 31,
   "metadata": {},
   "outputs": [
    {
     "data": {
      "text/plain": [
       "[1, 2, 3, 4, 5]"
      ]
     },
     "execution_count": 31,
     "metadata": {},
     "output_type": "execute_result"
    }
   ],
   "source": [
    "# Merge Sorting\n",
    "# Split the list into smallest partitions, then merge them, do the sorting within the merging.\n",
    "def MergeSubsets(left, right):\n",
    "    i = 0\n",
    "    j = 0\n",
    "    k = 0\n",
    "    # This step increase the space actually needed, could be improved in future\n",
    "    total = [None] * (len(left) + len(right))\n",
    "    \n",
    "    while i < len(left) and j < len(right):\n",
    "        if left[i] < right[j]:\n",
    "            total[k] = left[i]\n",
    "            i += 1\n",
    "        else:\n",
    "            total[k] = right[j]\n",
    "            j += 1\n",
    "        k += 1\n",
    "    \n",
    "    while i < len(left):\n",
    "        total[k] = left[i]\n",
    "        k += 1\n",
    "        i += 1\n",
    "        \n",
    "    while j < len(right):\n",
    "        total[k] = right[j]\n",
    "        k += 1\n",
    "        j += 1\n",
    "    \n",
    "    return total\n",
    "\n",
    "def MergeSort(target):\n",
    "    midpoint = len(target)//2\n",
    "    if midpoint >= 1: \n",
    "        left = target[:midpoint]\n",
    "        right = target[midpoint:]\n",
    "        \n",
    "        left = MergeSort(left)\n",
    "        right = MergeSort(right)\n",
    "        \n",
    "        target = MergeSubsets(left, right)\n",
    "    \n",
    "    return target\n",
    "\n",
    "MergeSort([5,4,3,2,1])"
   ]
  },
  {
   "cell_type": "code",
   "execution_count": 57,
   "metadata": {
    "scrolled": true
   },
   "outputs": [
    {
     "data": {
      "text/plain": [
       "[1, 2, 3, 4, 5]"
      ]
     },
     "execution_count": 57,
     "metadata": {},
     "output_type": "execute_result"
    }
   ],
   "source": [
    "# Quick Sorting\n",
    "# For any pivot value, put it one the right position, then split by pivot position, do the same sorting.\n",
    "def partitions(target_list, first, last):\n",
    "    pivot_value = target_list[first]\n",
    "    left_mark = first + 1\n",
    "    right_mark = last\n",
    "    \n",
    "    while True:\n",
    "        # really tricky, think throughly on the < or <= in the loop control\n",
    "        while left_mark <= right_mark and target_list[left_mark] <= pivot_value:\n",
    "            left_mark += 1\n",
    "        while right_mark >= left_mark and target_list[right_mark] >= pivot_value:\n",
    "            right_mark -= 1\n",
    "        if left_mark < right_mark:\n",
    "            target_list[left_mark], target_list[right_mark] = target_list[right_mark], target_list[left_mark]\n",
    "        else:\n",
    "            break\n",
    "    \n",
    "    target_list[first], target_list[right_mark] = target_list[right_mark], target_list[first]\n",
    "    return target_list, right_mark\n",
    "\n",
    "\n",
    "def QuickSort(target, first = 0, last = None):\n",
    "    if last == None:\n",
    "        last = len(target)-1\n",
    "    if first < last:\n",
    "        target, middle_point = partitions(target, first, last)\n",
    "        QuickSort(target, first, middle_point-1)\n",
    "        QuickSort(target, middle_point+1, last)\n",
    "    return target\n",
    "\n",
    "\n",
    "QuickSort([5,4,3,2,1])"
   ]
  },
  {
   "cell_type": "markdown",
   "metadata": {},
   "source": [
    "# Trees"
   ]
  },
  {
   "cell_type": "code",
   "execution_count": 1,
   "metadata": {},
   "outputs": [
    {
     "name": "stdout",
     "output_type": "stream",
     "text": [
      "a\n",
      "None\n",
      "<__main__.BinaryTree object at 0x0000019F5EE2D0F0>\n",
      "b\n",
      "<__main__.BinaryTree object at 0x0000019F5EE2D160>\n",
      "c\n",
      "hello\n"
     ]
    }
   ],
   "source": [
    "# Binary Tree Structure\n",
    "class BinaryTree:\n",
    "    def __init__(self, rootObj):\n",
    "        self.key = rootObj\n",
    "        self.leftChild = None\n",
    "        self.rightChild = None\n",
    "    \n",
    "    def insertLeft(self, newNode):\n",
    "        if self.leftChild == None:\n",
    "            self.leftChild = BinaryTree(newNode)\n",
    "        else:\n",
    "            tmp = BinaryTree(newNode)\n",
    "            tmp.leftChild = self.leftChild\n",
    "            self.leftChild = tmp\n",
    "    \n",
    "    def insertRight(self, newNode):\n",
    "        if self.rightChild == None:\n",
    "            self.rightChild = BinaryTree(newNode)\n",
    "        else:\n",
    "            tmp = BinaryTree(newNode)\n",
    "            tmp.rightChild = self.rightChild\n",
    "            self.rightChild = tmp\n",
    "    \n",
    "    def setRootVal(self, obj):\n",
    "        self.key = obj\n",
    "    \n",
    "    def getLeft(self):\n",
    "        return self.leftChild\n",
    "    \n",
    "    def getRight(self):\n",
    "        return self.rightChild\n",
    "    \n",
    "    def getRootVal(self):\n",
    "        return self.key\n",
    "\n",
    "r = BinaryTree('a')\n",
    "print(r.getRootVal())\n",
    "print(r.getLeft())\n",
    "r.insertLeft('b')\n",
    "print(r.getLeft())\n",
    "print(r.getLeft().getRootVal())\n",
    "r.insertRight('c')\n",
    "print(r.getRight())\n",
    "print(r.getRight().getRootVal())\n",
    "r.getRight().setRootVal('hello')\n",
    "print(r.getRight().getRootVal())"
   ]
  },
  {
   "cell_type": "code",
   "execution_count": 3,
   "metadata": {},
   "outputs": [
    {
     "name": "stdout",
     "output_type": "stream",
     "text": [
      "b\n",
      "a\n",
      "hello\n"
     ]
    }
   ],
   "source": [
    "# Tree Traversals\n",
    "# inorder \n",
    "def inorder(tree):\n",
    "    if tree != None:\n",
    "        inorder(tree.getLeft())\n",
    "        print(tree.getRootVal())\n",
    "        inorder(tree.getRight())\n",
    "\n",
    "inorder(r)"
   ]
  },
  {
   "cell_type": "code",
   "execution_count": 12,
   "metadata": {},
   "outputs": [
    {
     "name": "stdout",
     "output_type": "stream",
     "text": [
      "2\n",
      "3\n",
      "5\n",
      "6\n",
      "9\n"
     ]
    }
   ],
   "source": [
    "# Binary Heap\n",
    "class BinHeap:\n",
    "    def __init__(self):\n",
    "        self.heaplist = [0]\n",
    "        self.size = 0\n",
    "    \n",
    "    def insert(self, new):\n",
    "        self.heaplist.append(new)\n",
    "        self.size += 1\n",
    "        self.up(self, self.size)\n",
    "        \n",
    "    def delete(self):\n",
    "        delete_item = self.heaplist[1]\n",
    "        self.heaplist[1] = self.heaplist[self.size]\n",
    "        self.heaplist.pop()\n",
    "        self.size -= 1\n",
    "        self.down(1)\n",
    "        return delete_item\n",
    "    \n",
    "    def minchild(self, i):\n",
    "        if i * 2 + 1 > self.size:\n",
    "            return i * 2\n",
    "        if self.heaplist[i * 2] < self.heaplist[i * 2 + 1]:\n",
    "            return i * 2\n",
    "        else:\n",
    "            return i * 2 + 1\n",
    "    \n",
    "    def down(self, i):\n",
    "        while i * 2 <= self.size:\n",
    "            smaller_child = self.minchild(i)\n",
    "            if self.heaplist[i] > self.heaplist[smaller_child]:\n",
    "                self.heaplist[i], self.heaplist[smaller_child] = self.heaplist[smaller_child], self.heaplist[i]\n",
    "            i = smaller_child\n",
    "        \n",
    "    def up(self, i):\n",
    "        while i // 2 > 0:\n",
    "            if self.heaplist[i] < self.heaplist[i // 2]:\n",
    "                self.heaplist[i], self.heaplist[i // 2] = self.heaplist[i // 2], self.heaplist[i]\n",
    "            i = i // 2\n",
    "    \n",
    "    def build(self, target):\n",
    "        self.size = len(target)\n",
    "        self.heaplist = [0] + target\n",
    "        i = self.size // 2\n",
    "        while i > 0:\n",
    "            self.down(i)\n",
    "            i -= 1\n",
    "        \n",
    "        \n",
    "bh = BinHeap()\n",
    "bh.build([9,5,6,2,3])\n",
    "\n",
    "print(bh.delete())\n",
    "print(bh.delete())\n",
    "print(bh.delete())\n",
    "print(bh.delete())\n",
    "print(bh.delete())    "
   ]
  }
 ],
 "metadata": {
  "kernelspec": {
   "display_name": "Python 3",
   "language": "python",
   "name": "python3"
  },
  "language_info": {
   "codemirror_mode": {
    "name": "ipython",
    "version": 3
   },
   "file_extension": ".py",
   "mimetype": "text/x-python",
   "name": "python",
   "nbconvert_exporter": "python",
   "pygments_lexer": "ipython3",
   "version": "3.6.5"
  }
 },
 "nbformat": 4,
 "nbformat_minor": 2
}
