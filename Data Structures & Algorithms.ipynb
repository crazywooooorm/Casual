{
 "cells": [
  {
   "cell_type": "markdown",
   "metadata": {},
   "source": [
    "# Appetizer"
   ]
  },
  {
   "cell_type": "code",
   "execution_count": 52,
   "metadata": {},
   "outputs": [],
   "source": [
    "# Anagram Detection Problem\n",
    "# Check whether two strings are anagrams (eg. 'python' and 'onpyht').\n",
    "# -- solution 1\n",
    "def anagramSolution1(s1,s2):\n",
    "    if len(s1) != len(s2):\n",
    "        return(False)\n",
    "    \n",
    "    s1_list = list(s1)\n",
    "    s2_list = list(s2)\n",
    "    status = True\n",
    "    if status:\n",
    "        for i, value1 in enumerate(s1_list):\n",
    "            if status:\n",
    "                for j, value2 in enumerate(s2_list):\n",
    "                    if value1 == value2:\n",
    "                        s2_list[j] = 0\n",
    "                        status = True\n",
    "                        break\n",
    "                    else: status = False\n",
    "            else: break\n",
    "    return status\n",
    "\n",
    "# -- solution 2\n",
    "def anagramSolution2(s1, s2):\n",
    "    if len(s1) != len(s2):\n",
    "        return(False)\n",
    "    \n",
    "    s1_stat = [0] * 26\n",
    "    s2_stat = [0] * 26\n",
    "    for i in s1:\n",
    "        s1_stat[ord(i) - ord('a')] += 1\n",
    "    for i in s2:\n",
    "        s2_stat[ord(i) - ord('a')] += 1\n",
    "    if s1_stat == s2_stat:\n",
    "       return True\n",
    "    else:\n",
    "      return False"
   ]
  },
  {
   "cell_type": "code",
   "execution_count": 53,
   "metadata": {},
   "outputs": [
    {
     "name": "stdout",
     "output_type": "stream",
     "text": [
      "concat  3.342427886657674 milliseconds\n",
      "concat  1.1529137018653728 milliseconds\n"
     ]
    }
   ],
   "source": [
    "import timeit\n",
    "t1 = timeit.Timer(\"anagramSolution1('abcdefghijklmnopqrstuvwxyzzzaa', 'abcdefghijklmnopqrstuvwxyzzzaa')\", \n",
    "           \"from __main__ import anagramSolution1\")\n",
    "print(\"concat \",t1.timeit(number = 100000), \"milliseconds\")\n",
    "t2 = timeit.Timer(\"anagramSolution2('abcdefghijklmnopqrstuvwxyzzzaa', 'abcdefghijklmnopqrstuvwxyzzzaa')\", \n",
    "           \"from __main__ import anagramSolution2\")\n",
    "print(\"concat \",t2.timeit(number = 100000), \"milliseconds\")"
   ]
  }
 ],
 "metadata": {
  "kernelspec": {
   "display_name": "Python 3",
   "language": "python",
   "name": "python3"
  },
  "language_info": {
   "codemirror_mode": {
    "name": "ipython",
    "version": 3
   },
   "file_extension": ".py",
   "mimetype": "text/x-python",
   "name": "python",
   "nbconvert_exporter": "python",
   "pygments_lexer": "ipython3",
   "version": "3.6.5"
  }
 },
 "nbformat": 4,
 "nbformat_minor": 2
}
