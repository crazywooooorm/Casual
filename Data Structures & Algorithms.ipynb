{
 "cells": [
  {
   "cell_type": "markdown",
   "metadata": {},
   "source": [
    "# Appetizer"
   ]
  },
  {
   "cell_type": "code",
   "execution_count": 52,
   "metadata": {},
   "outputs": [],
   "source": [
    "# Anagram Detection Problem\n",
    "# Check whether two strings are anagrams (eg. 'python' and 'onpyht').\n",
    "# -- solution 1\n",
    "def anagramSolution1(s1,s2):\n",
    "    if len(s1) != len(s2):\n",
    "        return(False)\n",
    "    \n",
    "    s1_list = list(s1)\n",
    "    s2_list = list(s2)\n",
    "    status = True\n",
    "    if status:\n",
    "        for i, value1 in enumerate(s1_list):\n",
    "            if status:\n",
    "                for j, value2 in enumerate(s2_list):\n",
    "                    if value1 == value2:\n",
    "                        s2_list[j] = 0\n",
    "                        status = True\n",
    "                        break\n",
    "                    else: status = False\n",
    "            else: break\n",
    "    return status\n",
    "\n",
    "# -- solution 2\n",
    "def anagramSolution2(s1, s2):\n",
    "    if len(s1) != len(s2):\n",
    "        return(False)\n",
    "    \n",
    "    s1_stat = [0] * 26\n",
    "    s2_stat = [0] * 26\n",
    "    for i in s1:\n",
    "        s1_stat[ord(i) - ord('a')] += 1\n",
    "    for i in s2:\n",
    "        s2_stat[ord(i) - ord('a')] += 1\n",
    "    if s1_stat == s2_stat:\n",
    "       return True\n",
    "    else:\n",
    "      return False"
   ]
  },
  {
   "cell_type": "code",
   "execution_count": 53,
   "metadata": {},
   "outputs": [
    {
     "name": "stdout",
     "output_type": "stream",
     "text": [
      "concat  3.342427886657674 milliseconds\n",
      "concat  1.1529137018653728 milliseconds\n"
     ]
    }
   ],
   "source": [
    "import timeit\n",
    "t1 = timeit.Timer(\"anagramSolution1('abcdefghijklmnopqrstuvwxyzzzaa', 'abcdefghijklmnopqrstuvwxyzzzaa')\", \n",
    "           \"from __main__ import anagramSolution1\")\n",
    "print(\"concat \",t1.timeit(number = 100000), \"milliseconds\")\n",
    "t2 = timeit.Timer(\"anagramSolution2('abcdefghijklmnopqrstuvwxyzzzaa', 'abcdefghijklmnopqrstuvwxyzzzaa')\", \n",
    "           \"from __main__ import anagramSolution2\")\n",
    "print(\"concat \",t2.timeit(number = 100000), \"milliseconds\")"
   ]
  },
  {
   "cell_type": "markdown",
   "metadata": {},
   "source": [
    "# Data Structures"
   ]
  },
  {
   "cell_type": "markdown",
   "metadata": {},
   "source": [
    "## Stack"
   ]
  },
  {
   "cell_type": "code",
   "execution_count": 3,
   "metadata": {},
   "outputs": [
    {
     "data": {
      "text/plain": [
       "1"
      ]
     },
     "execution_count": 3,
     "metadata": {},
     "output_type": "execute_result"
    }
   ],
   "source": [
    "# Define Stack, LIFO\n",
    "class Stack:\n",
    "    def __init__(self):\n",
    "        self.s = []\n",
    "    \n",
    "    def isEmpty(self):\n",
    "        return self.s == []\n",
    "    \n",
    "    def push(self, new):\n",
    "        self.s.append(new)\n",
    "        \n",
    "    def pop(self):\n",
    "        return self.s.pop()\n",
    "    \n",
    "    def peek(self):\n",
    "        return self.s[-1]\n",
    "    \n",
    "    def size(self):\n",
    "        return len(self.s)\n",
    "\n",
    "test_stack = Stack()\n",
    "test_stack.push(1)\n",
    "test_stack.push(2)\n",
    "test_stack.pop()\n",
    "test_stack.peek()"
   ]
  },
  {
   "cell_type": "code",
   "execution_count": 24,
   "metadata": {},
   "outputs": [],
   "source": [
    "# Parentheses Check\n",
    "def CheckPar(target):\n",
    "    target_paren = ''.join(p for p in target if p in ('(', ')'))\n",
    "    if len(target_paren) == 0:\n",
    "        return \"This string doesn't contain parentheses.\"\n",
    "    \n",
    "    pos = 0\n",
    "    status = Stack()\n",
    "    balance = True\n",
    "    while pos < len(target_paren):\n",
    "        if target_paren[pos] == '(':\n",
    "            status.push('(')\n",
    "        else:\n",
    "            if status.isEmpty():\n",
    "                balance = False\n",
    "            else:\n",
    "                status.pop()\n",
    "        pos += 1\n",
    "    if balance and status.isEmpty():\n",
    "        return True\n",
    "    else: return False\n",
    "\n",
    "# test\n",
    "CheckPar('(fad())')"
   ]
  }
 ],
 "metadata": {
  "kernelspec": {
   "display_name": "Python 3",
   "language": "python",
   "name": "python3"
  },
  "language_info": {
   "codemirror_mode": {
    "name": "ipython",
    "version": 3
   },
   "file_extension": ".py",
   "mimetype": "text/x-python",
   "name": "python",
   "nbconvert_exporter": "python",
   "pygments_lexer": "ipython3",
   "version": "3.6.5"
  }
 },
 "nbformat": 4,
 "nbformat_minor": 2
}
