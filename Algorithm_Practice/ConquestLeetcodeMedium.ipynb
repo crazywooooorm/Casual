{
 "cells": [
  {
   "cell_type": "markdown",
   "metadata": {},
   "source": [
    "# Leetcode Medium Popular"
   ]
  },
  {
   "cell_type": "markdown",
   "metadata": {},
   "source": [
    "## Add Two Numbers"
   ]
  },
  {
   "cell_type": "markdown",
   "metadata": {},
   "source": [
    "This is a good example of building a linked list from scratch."
   ]
  },
  {
   "cell_type": "code",
   "execution_count": 1,
   "metadata": {},
   "outputs": [],
   "source": [
    "'''\n",
    "You are given two non-empty linked lists representing two non-negative integers. The digits \n",
    "are stored in reverse order and each of their nodes contain a single digit. Add the two numbers \n",
    "and return it as a linked list. You may assume the two numbers do not contain any leading zero, \n",
    "except the number 0 itself.\n",
    "\n",
    "Input: (2 -> 4 -> 3) + (5 -> 6 -> 4)\n",
    "Output: 7 -> 0 -> 8\n",
    "Explanation: 342 + 465 = 807.\n",
    "'''\n",
    "# Definition for singly-linked list.\n",
    "# class ListNode:\n",
    "#     def __init__(self, val=0, next=None):\n",
    "#         self.val = val\n",
    "#         self.next = next\n",
    "class Solution:\n",
    "    def addTwoNumbers(self, l1, l2):\n",
    "        origin = cur = ListNode(0)\n",
    "        deci = 0\n",
    "        while l1 or l2 or deci:\n",
    "            if l1:\n",
    "                deci += l1.val\n",
    "                l1 = l1.next\n",
    "            if l2:\n",
    "                deci += l2.val\n",
    "                l2 = l2.next\n",
    "            cur.next = ListNode(deci%10)\n",
    "            cur = cur.next\n",
    "            deci = deci//10\n",
    "        return origin.next"
   ]
  },
  {
   "cell_type": "markdown",
   "metadata": {},
   "source": [
    "## Longest Substring Without Repeating Characters"
   ]
  },
  {
   "cell_type": "markdown",
   "metadata": {},
   "source": [
    "A dynamic programming like problem. What info do we need to store? Obviously we need to store the current non-repeating substring. What is the good format to store it? We can use list, but it would be tricky to search the repeated element (probably need another loop), while it's easier to use dictionary. "
   ]
  },
  {
   "cell_type": "code",
   "execution_count": 10,
   "metadata": {},
   "outputs": [],
   "source": [
    "'''\n",
    "Given a string, find the length of the longest substring without repeating characters.\n",
    "\n",
    "Input: \"abcabcbb\"\n",
    "Output: 3 \n",
    "Explanation: The answer is \"abc\", with the length of 3.\n",
    "\n",
    "Input: \"bbbbb\"\n",
    "Output: 1\n",
    "Explanation: The answer is \"b\", with the length of 1.\n",
    "'''\n",
    "class Solution:\n",
    "    def lengthOfLongestSubstring(self, s):\n",
    "        re = 0\n",
    "        start = 0\n",
    "        cur = {}\n",
    "        for i in range(len(s)):\n",
    "            if s[i] in cur.keys():\n",
    "                re = max(re, i-start) # update longest length\n",
    "                start = max(start, cur[s[i]]+1) # cur[s[i]] might be smaller than start, so need max()\n",
    "            cur[s[i]] = i\n",
    "        return max(re, len(s)-start)"
   ]
  }
 ],
 "metadata": {
  "kernelspec": {
   "display_name": "Python 3",
   "language": "python",
   "name": "python3"
  },
  "language_info": {
   "codemirror_mode": {
    "name": "ipython",
    "version": 3
   },
   "file_extension": ".py",
   "mimetype": "text/x-python",
   "name": "python",
   "nbconvert_exporter": "python",
   "pygments_lexer": "ipython3",
   "version": "3.6.8"
  }
 },
 "nbformat": 4,
 "nbformat_minor": 2
}
