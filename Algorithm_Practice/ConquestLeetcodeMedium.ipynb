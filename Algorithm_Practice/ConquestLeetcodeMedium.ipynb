{
 "cells": [
  {
   "cell_type": "markdown",
   "metadata": {},
   "source": [
    "# Leetcode Medium Popular"
   ]
  },
  {
   "cell_type": "markdown",
   "metadata": {},
   "source": [
    "## Add Two Numbers"
   ]
  },
  {
   "cell_type": "markdown",
   "metadata": {},
   "source": [
    "This is a good example of building a linked list from scratch."
   ]
  },
  {
   "cell_type": "code",
   "execution_count": 1,
   "metadata": {},
   "outputs": [],
   "source": [
    "'''\n",
    "You are given two non-empty linked lists representing two non-negative integers. The digits \n",
    "are stored in reverse order and each of their nodes contain a single digit. Add the two numbers \n",
    "and return it as a linked list. You may assume the two numbers do not contain any leading zero, \n",
    "except the number 0 itself.\n",
    "\n",
    "Input: (2 -> 4 -> 3) + (5 -> 6 -> 4)\n",
    "Output: 7 -> 0 -> 8\n",
    "Explanation: 342 + 465 = 807.\n",
    "'''\n",
    "# Definition for singly-linked list.\n",
    "# class ListNode:\n",
    "#     def __init__(self, val=0, next=None):\n",
    "#         self.val = val\n",
    "#         self.next = next\n",
    "class Solution:\n",
    "    def addTwoNumbers(self, l1, l2):\n",
    "        origin = cur = ListNode(0)\n",
    "        deci = 0\n",
    "        while l1 or l2 or deci:\n",
    "            if l1:\n",
    "                deci += l1.val\n",
    "                l1 = l1.next\n",
    "            if l2:\n",
    "                deci += l2.val\n",
    "                l2 = l2.next\n",
    "            cur.next = ListNode(deci%10)\n",
    "            cur = cur.next\n",
    "            deci = deci//10\n",
    "        return origin.next"
   ]
  },
  {
   "cell_type": "markdown",
   "metadata": {},
   "source": [
    "## Longest Substring Without Repeating Characters"
   ]
  },
  {
   "cell_type": "markdown",
   "metadata": {},
   "source": [
    "A dynamic programming like problem. What info do we need to store? Obviously we need to store the current non-repeating substring. What is the good format to store it? We can use list, but it would be tricky to search the repeated element (probably need another loop), while it's easier to use dictionary. "
   ]
  },
  {
   "cell_type": "code",
   "execution_count": 10,
   "metadata": {},
   "outputs": [],
   "source": [
    "'''\n",
    "Given a string, find the length of the longest substring without repeating characters.\n",
    "\n",
    "Input: \"abcabcbb\"\n",
    "Output: 3 \n",
    "Explanation: The answer is \"abc\", with the length of 3.\n",
    "\n",
    "Input: \"bbbbb\"\n",
    "Output: 1\n",
    "Explanation: The answer is \"b\", with the length of 1.\n",
    "'''\n",
    "class Solution:\n",
    "    def lengthOfLongestSubstring(self, s):\n",
    "        re = 0\n",
    "        start = 0\n",
    "        cur = {}\n",
    "        for i in range(len(s)):\n",
    "            if s[i] in cur.keys():\n",
    "                re = max(re, i-start) # update longest length\n",
    "                start = max(start, cur[s[i]]+1) # cur[s[i]] might be smaller than start, so need max()\n",
    "            cur[s[i]] = i\n",
    "        return max(re, len(s)-start)"
   ]
  },
  {
   "cell_type": "markdown",
   "metadata": {},
   "source": [
    "## Longest Palindromic Substring"
   ]
  },
  {
   "cell_type": "markdown",
   "metadata": {},
   "source": [
    "Use dynamic programming method. To define the problem, we build a 2D list to record result of 'start' and 'end'. Notice to get result of [start, end], we need to know [start+1, end-1] first. So in the below solution we let start loop backward and end loop forward."
   ]
  },
  {
   "cell_type": "code",
   "execution_count": 19,
   "metadata": {},
   "outputs": [],
   "source": [
    "'''\n",
    "Given a string s, find the longest palindromic substring in s. You may assume that the maximum length of s is 1000.\n",
    "\n",
    "Input: \"babad\"\n",
    "Output: \"bab\"\n",
    "Note: \"aba\" is also a valid answer.\n",
    "\n",
    "Input: \"cbbd\"\n",
    "Output: \"bb\"\n",
    "'''\n",
    "class Solution:\n",
    "    def longestPalindrome(self, s):\n",
    "        re = [[False]*len(s) for i in range(len(s))]\n",
    "        max_len = 1\n",
    "        max_str = ''\n",
    "        \n",
    "        for start in range(len(s)-1, -1, -1): # loop backward\n",
    "            for end in range(start, len(s)):\n",
    "                if start == end:\n",
    "                    re[start][end] = True\n",
    "                    if max_len == 1:\n",
    "                        max_str = s[start:end+1]\n",
    "                else:\n",
    "                    if s[start] == s[end]:\n",
    "                        if (end - start == 1) or re[start+1][end-1]:\n",
    "                            re[start][end] = True\n",
    "                            if (end-start+1) >= max_len:\n",
    "                                max_len = end-start+1\n",
    "                                max_str = s[start:end+1]\n",
    "        return max_str"
   ]
  },
  {
   "cell_type": "markdown",
   "metadata": {},
   "source": [
    "## Container With Most Water"
   ]
  },
  {
   "cell_type": "markdown",
   "metadata": {},
   "source": [
    "Figure out what decides the volume of water, what is the relation between volume and neighbouring vertical lines, then figure out the easiest way to do the loop."
   ]
  },
  {
   "cell_type": "code",
   "execution_count": 20,
   "metadata": {},
   "outputs": [],
   "source": [
    "'''\n",
    "Given n non-negative integers a1, a2, ..., an , where each represents a point at coordinate (i, ai). \n",
    "n vertical lines are drawn such that the two endpoints of line i is at (i, ai) and (i, 0). Find two \n",
    "lines, which together with x-axis forms a container, such that the container contains the most water.\n",
    "Note: You may not slant the container and n is at least 2.\n",
    "\n",
    "Input: [1,8,6,2,5,4,8,3,7]\n",
    "Output: 49\n",
    "'''\n",
    "class Solution:\n",
    "    def maxArea(self, height):\n",
    "        l = 0\n",
    "        r = len(height)-1\n",
    "        re = 0\n",
    "        \n",
    "        while r > l:\n",
    "            if height[l] <= height[r]:\n",
    "                re = max(re, (r-l)*height[l])\n",
    "                l += 1\n",
    "            else:\n",
    "                re = max(re, (r-l)*height[r])\n",
    "                r -= 1\n",
    "        return re"
   ]
  },
  {
   "cell_type": "markdown",
   "metadata": {},
   "source": [
    "## 3Sum"
   ]
  },
  {
   "cell_type": "markdown",
   "metadata": {},
   "source": [
    "A naive way would be O(n^3) time complexity. Our solution is O(n^2) complexity. First sort the input list to make our traverse strategy easier. Then loop for the first element, the rest elements must be after the first one. Apply l and r pointers to reduce the traverse complexity."
   ]
  },
  {
   "cell_type": "code",
   "execution_count": 21,
   "metadata": {},
   "outputs": [],
   "source": [
    "'''\n",
    "Given an array nums of n integers, are there elements a, b, c in nums such that a + b + c = 0? \n",
    "Find all unique triplets in the array which gives the sum of zero. The solution set must not \n",
    "contain duplicate triplets.\n",
    "\n",
    "Given array nums = [-1, 0, 1, 2, -1, -4],\n",
    "\n",
    "A solution set is:\n",
    "[[-1, 0, 1], [-1, -1, 2]]\n",
    "'''\n",
    "class Solution:\n",
    "    def threeSum(self, nums):\n",
    "        re = []\n",
    "        nums.sort()\n",
    "        \n",
    "        for i in range(len(nums)-2):\n",
    "            if i > 0 and (nums[i] == nums[i-1]):\n",
    "                continue\n",
    "            l, r = i+1, len(nums)-1\n",
    "            while (l < r) and ((nums[i] + nums[l]) <= 0): # if sum of first two elements > 0, then move i \n",
    "                s = nums[i] + nums[l] + nums[r]\n",
    "                if s == 0:\n",
    "                    re.append([nums[i], nums[l], nums[r]])\n",
    "                    while (l < r) and nums[l] == nums[l+1]: # avoid duplicate triplets\n",
    "                        l += 1\n",
    "                    while (l < r) and nums[r] == nums[r-1]: # avoid duplicate triplets\n",
    "                        r -= 1\n",
    "                    l += 1\n",
    "                    r -= 1\n",
    "                elif s < 0:\n",
    "                    l += 1\n",
    "                else:\n",
    "                    r -= 1\n",
    "        return re"
   ]
  },
  {
   "cell_type": "markdown",
   "metadata": {},
   "source": [
    "## Letter Combinations of a Phone Number"
   ]
  },
  {
   "cell_type": "markdown",
   "metadata": {},
   "source": [
    "An example of recursion. We can't do a lot to reduce its complexity, so use recursion to make the logic clear."
   ]
  },
  {
   "cell_type": "code",
   "execution_count": 34,
   "metadata": {},
   "outputs": [],
   "source": [
    "'''\n",
    "Given a string containing digits from 2-9 inclusive, return all possible letter combinations that \n",
    "the number could represent. A mapping of digit to letters (just like on the telephone buttons) is \n",
    "given below. Note that 1 does not map to any letters.\n",
    "\n",
    "dic = {\"2\":\"abc\", \"3\":\"def\", \"4\":\"ghi\", \"5\":\"jkl\", \"6\":\"mno\", \"7\":\"pqrs\", \"8\":\"tuv\", \"9\":\"wxyz\"}\n",
    "\n",
    "Input: \"23\"\n",
    "Output: [\"ad\", \"ae\", \"af\", \"bd\", \"be\", \"bf\", \"cd\", \"ce\", \"cf\"].\n",
    "'''\n",
    "class Solution:\n",
    "    def letterCombinations(self, digits):\n",
    "        dic = {\"2\":\"abc\", \"3\":\"def\", \"4\":\"ghi\", \"5\":\"jkl\", \n",
    "               \"6\":\"mno\", \"7\":\"pqrs\", \"8\":\"tuv\", \"9\":\"wxyz\"}\n",
    "        \n",
    "        if not digits:\n",
    "            return []\n",
    "        if len(digits) == 1:\n",
    "            return dic[digits[0]]\n",
    "        \n",
    "        return [x + y for x in self.letterCombinations(digits[:-1]) for y in dic[digits[-1]]]"
   ]
  },
  {
   "cell_type": "markdown",
   "metadata": {},
   "source": [
    "## Remove Nth Node From End of List"
   ]
  },
  {
   "cell_type": "markdown",
   "metadata": {},
   "source": [
    "The idea is simple, while need to pay attention to some edge cases. What if we need to remove the whole list? What if we need to remove the first element?"
   ]
  },
  {
   "cell_type": "code",
   "execution_count": 35,
   "metadata": {},
   "outputs": [],
   "source": [
    "'''\n",
    "Given a linked list, remove the n-th node from the end of list and return its head.\n",
    "\n",
    "Given linked list: 1->2->3->4->5, and n = 2.\n",
    "\n",
    "After removing the second node from the end, the linked list becomes 1->2->3->5.\n",
    "'''\n",
    "# Definition for singly-linked list.\n",
    "# class ListNode:\n",
    "#     def __init__(self, val=0, next=None):\n",
    "#         self.val = val\n",
    "#         self.next = next\n",
    "class Solution:\n",
    "    def removeNthFromEnd(self, head, n):\n",
    "        dummy = slow = fast = head\n",
    "        for i in range(n):\n",
    "            fast = fast.next\n",
    "        \n",
    "        if not fast: # deal with situations when we need to remove the first node\n",
    "            return slow.next\n",
    "        \n",
    "        while slow.next and fast.next:\n",
    "            slow = slow.next\n",
    "            fast = fast.next\n",
    "        \n",
    "        tmp = slow.next.next\n",
    "        slow.next = tmp\n",
    "        \n",
    "        return dummy"
   ]
  },
  {
   "cell_type": "markdown",
   "metadata": {},
   "source": [
    "## Generate Parentheses"
   ]
  },
  {
   "cell_type": "markdown",
   "metadata": {},
   "source": [
    "Very classical recursion example. Define an parent function for recursion use. What argument should be put into recursion function? l, r are used to control the stop or backtracking of the recursion; cur is used to record the cur string status; re is used to record all strings."
   ]
  },
  {
   "cell_type": "code",
   "execution_count": 36,
   "metadata": {},
   "outputs": [],
   "source": [
    "'''\n",
    "Given n pairs of parentheses, write a function to generate all combinations of well-formed parentheses.\n",
    "\n",
    "For example, given n = 3, a solution set is:\n",
    "[\n",
    "  \"((()))\",\n",
    "  \"(()())\",\n",
    "  \"(())()\",\n",
    "  \"()(())\",\n",
    "  \"()()()\"\n",
    "]\n",
    "'''\n",
    "class Solution:\n",
    "    def generateParenthesis(self, n):\n",
    "        def dfs(l, r, cur, re):\n",
    "            if (l > r) or (l < 0) or (r < 0):\n",
    "                return\n",
    "            elif l == 0 and r == 0:\n",
    "                re.append(cur)\n",
    "                return\n",
    "            else:\n",
    "                dfs(l-1, r, cur+'(', re)\n",
    "                dfs(l, r-1, cur+')', re)\n",
    "        \n",
    "        re = []\n",
    "        dfs(n, n, '', re)\n",
    "        return re"
   ]
  },
  {
   "cell_type": "markdown",
   "metadata": {},
   "source": [
    "## Divide Two Integers"
   ]
  },
  {
   "cell_type": "markdown",
   "metadata": {},
   "source": [
    "This is a very weird problem. The basic idea is using substracting instead of division. The naive method is to substract divisor every time, while we can apply binary search to dramatically reduce the steps we need."
   ]
  },
  {
   "cell_type": "code",
   "execution_count": 39,
   "metadata": {},
   "outputs": [],
   "source": [
    "'''\n",
    "Given two integers dividend and divisor, divide two integers without using multiplication, division \n",
    "and mod operator. Return the quotient after dividing dividend by divisor. The integer division should \n",
    "truncate toward zero, which means losing its fractional part. For example, truncate(8.345) = 8 and \n",
    "truncate(-2.7335) = -2.\n",
    "\n",
    "Input: dividend = 10, divisor = 3\n",
    "Output: 3\n",
    "Explanation: 10/3 = truncate(3.33333..) = 3.\n",
    "\n",
    "Input: dividend = 7, divisor = -3\n",
    "Output: -2\n",
    "Explanation: 7/-3 = truncate(-2.33333..) = -2.\n",
    "'''\n",
    "class Solution:\n",
    "    def divide(self, dividend, divisor):\n",
    "        if dividend == 0:\n",
    "            return 0\n",
    "        if (dividend < 0 < divisor) or (divisor < 0 < dividend):\n",
    "            ind = False\n",
    "        else:\n",
    "            ind = True\n",
    "        \n",
    "        dividend, divisor = abs(dividend), abs(divisor)\n",
    "        res = dividend\n",
    "        re = 0\n",
    "        while divisor <= res:\n",
    "            sub = divisor\n",
    "            count = 1\n",
    "            while sub <= res: # once the condistion doesn't meet, back to outer loop to restart the binary search\n",
    "                res -= sub # update rest\n",
    "                re += count # add count\n",
    "                sub += sub # double the number to be substracted\n",
    "                count += count # double the count of substraction\n",
    "        \n",
    "        if ind:\n",
    "            return min(re, 2**31-1)\n",
    "        else:\n",
    "            return max(0-re, -2**31)"
   ]
  },
  {
   "cell_type": "markdown",
   "metadata": {},
   "source": [
    "## Search in Rotated Sorted Array"
   ]
  },
  {
   "cell_type": "markdown",
   "metadata": {},
   "source": [
    "This is a binary search problem. The difficult part is it adds one more trick on a typical binary search problem. Our first thought is to use recursion, while as an in-place manipulation, we can use the update of pointers, instead of using recursion (which takes more time)."
   ]
  },
  {
   "cell_type": "code",
   "execution_count": 40,
   "metadata": {},
   "outputs": [],
   "source": [
    "'''\n",
    "Suppose an array sorted in ascending order is rotated at some pivot unknown to you beforehand. \n",
    "(i.e., [0,1,2,4,5,6,7] might become [4,5,6,7,0,1,2]). You are given a target value to search. \n",
    "If found in the array return its index, otherwise return -1. You may assume no duplicate exists \n",
    "in the array. Your algorithm's runtime complexity must be in the order of O(log n).\n",
    "\n",
    "Input: nums = [4,5,6,7,0,1,2], target = 0\n",
    "Output: 4\n",
    "\n",
    "Input: nums = [4,5,6,7,0,1,2], target = 3\n",
    "Output: -1\n",
    "'''\n",
    "# Solution 1, recursion\n",
    "class Solution:\n",
    "    def search(self, nums, target):\n",
    "        def bs(nums, target, start, end):\n",
    "            if not nums:\n",
    "                return -1\n",
    "            \n",
    "            if start == end:\n",
    "                if nums[start] == target:\n",
    "                    return start\n",
    "                else:\n",
    "                    return -1\n",
    "                \n",
    "            mid = (start + end)//2\n",
    "            if target == nums[mid]:\n",
    "                    return mid\n",
    "            elif target == nums[end]:\n",
    "                    return end\n",
    "            elif nums[mid] < nums[end]:\n",
    "                if (nums[mid] < target) and (nums[end] < target):\n",
    "                    return bs(nums, target, start, mid)\n",
    "                elif (nums[mid] < target) and (nums[end] > target):\n",
    "                    return bs(nums, target, mid+1, end)\n",
    "                elif nums[mid] > target:\n",
    "                    return bs(nums, target, start, mid)\n",
    "            else:\n",
    "                if (nums[mid] > target) and (nums[end] > target):\n",
    "                    return bs(nums, target, mid+1, end)\n",
    "                elif (nums[mid] > target) and (nums[end] < target):\n",
    "                    return bs(nums, target, start, mid)\n",
    "                elif nums[mid] < target:\n",
    "                    return bs(nums, target, mid+1, end)\n",
    "            \n",
    "        return bs(nums, target, 0, len(nums)-1)\n",
    "\n",
    "# Solution 2, loop, using the update of l and r to replace the recursion\n",
    "class Solution:\n",
    "    def search(self, nums, target):\n",
    "        if not nums:\n",
    "            return -1\n",
    "            \n",
    "        if len(nums) == 1:\n",
    "            if nums[0] == target:\n",
    "                    return 0\n",
    "            else:\n",
    "                return -1\n",
    "        l = 0\n",
    "        r = len(nums)-1\n",
    "            \n",
    "        while l < r:\n",
    "            mid = (l + r)//2\n",
    "            if target == nums[mid]:\n",
    "                return mid\n",
    "            elif target == nums[r]:\n",
    "                return r\n",
    "            elif nums[mid] < nums[r]:\n",
    "                if (nums[mid] < target) and (nums[r] < target):\n",
    "                    l, r = l, mid\n",
    "                elif (nums[mid] < target) and (nums[r] > target):\n",
    "                    l, r = mid+1, r\n",
    "                elif nums[mid] > target:\n",
    "                    l, r = l, mid\n",
    "            else:\n",
    "                if (nums[mid] > target) and (nums[r] > target):\n",
    "                    l, r = mid+1, r\n",
    "                elif (nums[mid] > target) and (nums[r] < target):\n",
    "                    l, r = l, mid\n",
    "                elif nums[mid] < target:\n",
    "                    l, r = mid+1, r\n",
    "            \n",
    "        return -1"
   ]
  },
  {
   "cell_type": "markdown",
   "metadata": {},
   "source": [
    "## Find First and Last Position of Element in Sorted Array"
   ]
  },
  {
   "cell_type": "markdown",
   "metadata": {},
   "source": [
    "Another version of binary search problem, instead of finding the target, we need to find the lower and upper index of the target. Notice, binary search can always converge to our target. In this case, we made some tiny changes on the updating rule, to make the binary search converge to lower and upper index respectively."
   ]
  },
  {
   "cell_type": "code",
   "execution_count": 41,
   "metadata": {},
   "outputs": [],
   "source": [
    "'''\n",
    "Given an array of integers nums sorted in ascending order, find the starting and ending position \n",
    "of a given target value. Your algorithm's runtime complexity must be in the order of O(log n). If \n",
    "the target is not found in the array, return [-1, -1].\n",
    "\n",
    "Input: nums = [5,7,7,8,8,10], target = 8\n",
    "Output: [3,4]\n",
    "\n",
    "Input: nums = [5,7,7,8,8,10], target = 6\n",
    "Output: [-1,-1]\n",
    "'''\n",
    "class Solution:\n",
    "    def searchRange(self, nums, target):\n",
    "        if not nums:\n",
    "            return [-1, -1]\n",
    "        \n",
    "        if len(nums) == 1:\n",
    "            if nums[0] == target:\n",
    "                return [0, 0]\n",
    "            else:\n",
    "                return [-1, -1]\n",
    "            \n",
    "        start_l, start_r, end_l, end_r = 0, len(nums)-1, 0, len(nums)-1\n",
    "        \n",
    "        # find start index, let the search converges to lower bound\n",
    "        while start_l <= start_r:\n",
    "            start_mid = (start_l + start_r)//2\n",
    "            if nums[start_mid] < target: # lower bound will not update unless target is bigger than mid\n",
    "                start_l = start_mid + 1\n",
    "            else:\n",
    "                start_r = start_mid - 1\n",
    "        \n",
    "        # find end index, let the search converges to upper bound\n",
    "        while end_l <= end_r:\n",
    "            end_mid = (end_l + end_r)//2\n",
    "            if nums[end_mid] <= target:\n",
    "                end_l = end_mid + 1\n",
    "            else: # upper bound will not update unless target is fewer than mid\n",
    "                end_r = end_mid - 1\n",
    "        \n",
    "        if end_r < start_l:\n",
    "            return [-1, -1]\n",
    "        else:\n",
    "            return [start_l, end_r]"
   ]
  },
  {
   "cell_type": "markdown",
   "metadata": {},
   "source": [
    "## Valid Sudoku"
   ]
  },
  {
   "cell_type": "markdown",
   "metadata": {},
   "source": [
    "Naive method is to traverse each row, column and box, the time complexity would be O(3n). An easier way is to create lists of sets to store the previous records, then only need to traverse once."
   ]
  },
  {
   "cell_type": "code",
   "execution_count": 42,
   "metadata": {},
   "outputs": [],
   "source": [
    "'''\n",
    "Determine if a 9x9 Sudoku board is valid. Only the filled cells need to be validated according \n",
    "to the following rules:\n",
    "Each row must contain the digits 1-9 without repetition.\n",
    "Each column must contain the digits 1-9 without repetition.\n",
    "Each of the 9 3x3 sub-boxes of the grid must contain the digits 1-9 without repetition.\n",
    "\n",
    "Input:\n",
    "[\n",
    "  [\"5\",\"3\",\".\",\".\",\"7\",\".\",\".\",\".\",\".\"],\n",
    "  [\"6\",\".\",\".\",\"1\",\"9\",\"5\",\".\",\".\",\".\"],\n",
    "  [\".\",\"9\",\"8\",\".\",\".\",\".\",\".\",\"6\",\".\"],\n",
    "  [\"8\",\".\",\".\",\".\",\"6\",\".\",\".\",\".\",\"3\"],\n",
    "  [\"4\",\".\",\".\",\"8\",\".\",\"3\",\".\",\".\",\"1\"],\n",
    "  [\"7\",\".\",\".\",\".\",\"2\",\".\",\".\",\".\",\"6\"],\n",
    "  [\".\",\"6\",\".\",\".\",\".\",\".\",\"2\",\"8\",\".\"],\n",
    "  [\".\",\".\",\".\",\"4\",\"1\",\"9\",\".\",\".\",\"5\"],\n",
    "  [\".\",\".\",\".\",\".\",\"8\",\".\",\".\",\"7\",\"9\"]\n",
    "]\n",
    "Output: true\n",
    "\n",
    "\n",
    "Input:\n",
    "[\n",
    "  [\"8\",\"3\",\".\",\".\",\"7\",\".\",\".\",\".\",\".\"],\n",
    "  [\"6\",\".\",\".\",\"1\",\"9\",\"5\",\".\",\".\",\".\"],\n",
    "  [\".\",\"9\",\"8\",\".\",\".\",\".\",\".\",\"6\",\".\"],\n",
    "  [\"8\",\".\",\".\",\".\",\"6\",\".\",\".\",\".\",\"3\"],\n",
    "  [\"4\",\".\",\".\",\"8\",\".\",\"3\",\".\",\".\",\"1\"],\n",
    "  [\"7\",\".\",\".\",\".\",\"2\",\".\",\".\",\".\",\"6\"],\n",
    "  [\".\",\"6\",\".\",\".\",\".\",\".\",\"2\",\"8\",\".\"],\n",
    "  [\".\",\".\",\".\",\"4\",\"1\",\"9\",\".\",\".\",\"5\"],\n",
    "  [\".\",\".\",\".\",\".\",\"8\",\".\",\".\",\"7\",\"9\"]\n",
    "]\n",
    "Output: false\n",
    "Explanation: Same as Example 1, except with the 5 in the top left corner being modified to \n",
    "8. Since there are two 8's in the top left 3x3 sub-box, it is invalid.\n",
    "'''\n",
    "class Solution:\n",
    "    def isValidSudoku(self, board):\n",
    "        row_list = [set() for i in range(9)]\n",
    "        col_list = [set() for i in range(9)]\n",
    "        box_list = [set() for i in range(9)]\n",
    "        \n",
    "        for i in range(9):\n",
    "            for j in range(9):\n",
    "                cur = board[i][j]\n",
    "                if cur == '.':\n",
    "                    continue\n",
    "                \n",
    "                box_index = (i//3)*3 + j//3\n",
    "                \n",
    "                if cur not in row_list[i]:\n",
    "                    row_list[i].add(cur)\n",
    "                else:\n",
    "                    return False\n",
    "                \n",
    "                if cur not in col_list[j]:\n",
    "                    col_list[j].add(cur)\n",
    "                else:\n",
    "                    return False\n",
    "                \n",
    "                if cur not in box_list[box_index]:\n",
    "                    box_list[box_index].add(cur)\n",
    "                else:\n",
    "                    return False\n",
    "                \n",
    "        return True"
   ]
  },
  {
   "cell_type": "markdown",
   "metadata": {},
   "source": [
    "## Permutations"
   ]
  },
  {
   "cell_type": "markdown",
   "metadata": {},
   "source": [
    "A typical recursion problem. There are some tips about list manipulations in recursion: \n",
    "* don't use .pop, it is inplace, if you want a list without element of index i, please use list[:i]+list[i+1:]\n",
    "* .append doesn't return anything, if you want to add an element, please use cur+[new] "
   ]
  },
  {
   "cell_type": "code",
   "execution_count": 69,
   "metadata": {},
   "outputs": [],
   "source": [
    "'''\n",
    "Given a collection of distinct integers, return all possible permutations.\n",
    "\n",
    "Input: [1,2,3]\n",
    "Output:\n",
    "[\n",
    "  [1,2,3],\n",
    "  [1,3,2],\n",
    "  [2,1,3],\n",
    "  [2,3,1],\n",
    "  [3,1,2],\n",
    "  [3,2,1]\n",
    "]\n",
    "'''\n",
    "class Solution:\n",
    "    def permute(self, nums):\n",
    "        def per(input_list, cur, re):\n",
    "            if len(input_list) == 1:\n",
    "                re.append(cur+[input_list[0]])\n",
    "                return\n",
    "            \n",
    "            for i in range(len(input_list)):\n",
    "                per(input_list[:i]+input_list[i+1:], cur+[input_list[i]], re)\n",
    "        \n",
    "        \n",
    "        re = []\n",
    "        per(nums, [], re)\n",
    "        return re"
   ]
  },
  {
   "cell_type": "markdown",
   "metadata": {},
   "source": [
    "## Rotate Image"
   ]
  },
  {
   "cell_type": "markdown",
   "metadata": {},
   "source": [
    "To rotate the matrix by 90 degrees, first flip by diagonal line, then flip by a vertical line."
   ]
  },
  {
   "cell_type": "code",
   "execution_count": 70,
   "metadata": {},
   "outputs": [],
   "source": [
    "'''\n",
    "You are given an n x n 2D matrix representing an image. Rotate the image by 90 degrees (clockwise). \n",
    "Note: You have to rotate the image in-place, which means you have to modify the input 2D matrix \n",
    "directly. DO NOT allocate another 2D matrix and do the rotation.\n",
    "\n",
    "Given input matrix = \n",
    "[\n",
    "  [1,2,3],\n",
    "  [4,5,6],\n",
    "  [7,8,9]\n",
    "],\n",
    "\n",
    "rotate the input matrix in-place such that it becomes:\n",
    "[\n",
    "  [7,4,1],\n",
    "  [8,5,2],\n",
    "  [9,6,3]\n",
    "]\n",
    "'''\n",
    "class Solution:\n",
    "    def rotate(self, matrix):\n",
    "        \"\"\"\n",
    "        Do not return anything, modify matrix in-place instead.\n",
    "        \"\"\"\n",
    "        for i in range(len(matrix[0])):\n",
    "            for j in range(i, len(matrix[0])):\n",
    "                matrix[i][j], matrix[j][i] = matrix[j][i], matrix[i][j]\n",
    "        \n",
    "        for i in range(len(matrix[0])):\n",
    "            for j in range(len(matrix[0])//2):\n",
    "                matrix[i][j], matrix[i][len(matrix[0])-1-j] = matrix[i][len(matrix[0])-1-j], matrix[i][j]"
   ]
  },
  {
   "cell_type": "markdown",
   "metadata": {},
   "source": [
    "## Group Anagrams"
   ]
  },
  {
   "cell_type": "markdown",
   "metadata": {},
   "source": [
    "Notice, python dictionary key must be immutable data type, such as strings, numbers, or tuples."
   ]
  },
  {
   "cell_type": "code",
   "execution_count": 79,
   "metadata": {},
   "outputs": [],
   "source": [
    "'''\n",
    "Given an array of strings, group anagrams together.\n",
    "\n",
    "Input: [\"eat\", \"tea\", \"tan\", \"ate\", \"nat\", \"bat\"],\n",
    "Output:\n",
    "[\n",
    "  [\"ate\",\"eat\",\"tea\"],\n",
    "  [\"nat\",\"tan\"],\n",
    "  [\"bat\"]\n",
    "]\n",
    "'''\n",
    "class Solution:\n",
    "    def groupAnagrams(self, strs):\n",
    "        if not strs:\n",
    "            return []\n",
    "        \n",
    "        re = {}\n",
    "        for i in range(len(strs)):\n",
    "            re[str(sorted(strs[i]))] = re.get(str(sorted(strs[i])), []) + [strs[i]]\n",
    "                \n",
    "        return list(re.values())"
   ]
  },
  {
   "cell_type": "markdown",
   "metadata": {},
   "source": [
    "## Pow(x, n)"
   ]
  },
  {
   "cell_type": "markdown",
   "metadata": {},
   "source": [
    "Another binary search case."
   ]
  },
  {
   "cell_type": "code",
   "execution_count": 82,
   "metadata": {},
   "outputs": [],
   "source": [
    "'''\n",
    "Implement pow(x, n), which calculates x raised to the power n (xn).\n",
    "\n",
    "Input: 2.00000, 10\n",
    "Output: 1024.00000\n",
    "\n",
    "Input: 2.10000, 3\n",
    "Output: 9.26100\n",
    "\n",
    "Input: 2.00000, -2\n",
    "Output: 0.25000\n",
    "Explanation: 2-2 = 1/22 = 1/4 = 0.25\n",
    "'''\n",
    "class Solution:\n",
    "    def myPow(self, x, n):\n",
    "        if x == 0 and n < 0:\n",
    "            return None\n",
    "        \n",
    "        if n == 0:\n",
    "            return 1\n",
    "        elif n > 0:\n",
    "            ind = True\n",
    "        else:\n",
    "            ind = False\n",
    "        \n",
    "        n = abs(n)\n",
    "        re = 1\n",
    "        res = n\n",
    "        while res > 0:\n",
    "            cnt = 1\n",
    "            cur = x\n",
    "            while res >= cnt:\n",
    "                res = res - cnt\n",
    "                re = re * cur\n",
    "                cnt = cnt * 2\n",
    "                cur = cur * cur\n",
    "        if ind:\n",
    "            return re\n",
    "        else:\n",
    "            return 1/re"
   ]
  },
  {
   "cell_type": "markdown",
   "metadata": {},
   "source": [
    "## Spiral Matrix"
   ]
  },
  {
   "cell_type": "markdown",
   "metadata": {},
   "source": [
    "Figure out what pointers we need to control the process. Below solution is a recursion one, loop also works."
   ]
  },
  {
   "cell_type": "code",
   "execution_count": 85,
   "metadata": {},
   "outputs": [],
   "source": [
    "'''\n",
    "Given a matrix of m x n elements (m rows, n columns), return all elements of the matrix in spiral order.\n",
    "\n",
    "Input:\n",
    "[\n",
    "  [1, 2, 3, 4],\n",
    "  [5, 6, 7, 8],\n",
    "  [9,10,11,12]\n",
    "]\n",
    "Output: [1,2,3,4,8,12,11,10,9,5,6,7]\n",
    "'''\n",
    "class Solution:\n",
    "    def spiralOrder(self, matrix):\n",
    "        def sp(matrix, layer, re):\n",
    "            x, y = layer, layer\n",
    "            \n",
    "            # horizontal line\n",
    "            if len(matrix) - 2*layer == 1:\n",
    "                while y <= (len(matrix[0])-1-layer):\n",
    "                    re.append(matrix[x][y])\n",
    "                    y += 1\n",
    "                return \n",
    "            \n",
    "            # vertical line\n",
    "            if len(matrix[0]) - 2*layer == 1:\n",
    "                while x <= (len(matrix)-1-layer):\n",
    "                    re.append(matrix[x][y])\n",
    "                    x += 1\n",
    "                return \n",
    "            \n",
    "            # normal case \n",
    "            while y < (len(matrix[0])-1-layer):\n",
    "                re.append(matrix[x][y])\n",
    "                y += 1\n",
    "            \n",
    "            while x < (len(matrix)-1-layer):\n",
    "                re.append(matrix[x][y])\n",
    "                x += 1\n",
    "            \n",
    "            while y > layer:\n",
    "                re.append(matrix[x][y])\n",
    "                y -= 1\n",
    "                \n",
    "            while x > layer:\n",
    "                re.append(matrix[x][y])\n",
    "                x -= 1\n",
    "        \n",
    "        # empty matrix\n",
    "        if not matrix:\n",
    "            return []\n",
    "        \n",
    "        re = []\n",
    "        layer = 0\n",
    "        while (min(len(matrix[0]), len(matrix)) - 2*layer) > 0:\n",
    "            sp(matrix, layer, re)\n",
    "            layer += 1\n",
    "        \n",
    "        return re"
   ]
  },
  {
   "cell_type": "markdown",
   "metadata": {},
   "source": [
    "## Jump Game"
   ]
  },
  {
   "cell_type": "markdown",
   "metadata": {},
   "source": [
    "The key is to figure out how to determine if one index is reachable."
   ]
  },
  {
   "cell_type": "code",
   "execution_count": 86,
   "metadata": {},
   "outputs": [],
   "source": [
    "'''\n",
    "Given an array of non-negative integers, you are initially positioned at the first index of the array.\n",
    "Each element in the array represents your maximum jump length at that position. Determine if you are \n",
    "able to reach the last index.\n",
    "\n",
    "Input: nums = [2,3,1,1,4]\n",
    "Output: true\n",
    "Explanation: Jump 1 step from index 0 to 1, then 3 steps to the last index.\n",
    "\n",
    "Input: nums = [3,2,1,0,4]\n",
    "Output: false\n",
    "Explanation: You will always arrive at index 3 no matter what. Its maximum jump length is 0, which makes \n",
    "it impossible to reach the last index.\n",
    "'''\n",
    "class Solution:\n",
    "    def canJump(self, nums):\n",
    "        max_ind = 0\n",
    "        for i in range(len(nums)):\n",
    "            if max_ind < i:\n",
    "                return False\n",
    "            \n",
    "            max_ind = max(max_ind, nums[i] + i)\n",
    "        \n",
    "        return True"
   ]
  },
  {
   "cell_type": "markdown",
   "metadata": {},
   "source": [
    "## Merge Intervals"
   ]
  },
  {
   "cell_type": "markdown",
   "metadata": {},
   "source": [
    "For those interval related problems, if you don't know where to start, try sort it first."
   ]
  },
  {
   "cell_type": "code",
   "execution_count": 87,
   "metadata": {},
   "outputs": [],
   "source": [
    "'''\n",
    "Given a collection of intervals, merge all overlapping intervals.\n",
    "\n",
    "Input: intervals = [[1,3],[2,6],[8,10],[15,18]]\n",
    "Output: [[1,6],[8,10],[15,18]]\n",
    "Explanation: Since intervals [1,3] and [2,6] overlaps, merge them into [1,6].\n",
    "\n",
    "Input: intervals = [[1,4],[4,5]]\n",
    "Output: [[1,5]]\n",
    "Explanation: Intervals [1,4] and [4,5] are considered overlapping.\n",
    "'''\n",
    "class Solution:\n",
    "    def merge(self, intervals):\n",
    "        if not intervals:\n",
    "            return []\n",
    "        \n",
    "        intervals = sorted(intervals, key = lambda x: x[0])\n",
    "        re = [intervals[0]]\n",
    "        \n",
    "        for i in range(1, len(intervals)):\n",
    "            if intervals[i][0] <= re[-1][1]:\n",
    "                re[-1][1] = max(intervals[i][1], re[-1][1])\n",
    "            else:\n",
    "                re.append(intervals[i])\n",
    "        \n",
    "        return re"
   ]
  },
  {
   "cell_type": "markdown",
   "metadata": {},
   "source": [
    "## Unique Paths"
   ]
  },
  {
   "cell_type": "markdown",
   "metadata": {},
   "source": [
    "A typical dynamic programming problem, notice we add one extra column and one extra row to make the code easier."
   ]
  },
  {
   "cell_type": "code",
   "execution_count": 1,
   "metadata": {},
   "outputs": [],
   "source": [
    "'''\n",
    "A robot is located at the top-left corner of a m x n grid (marked 'Start' in the diagram below). The \n",
    "robot can only move either down or right at any point in time. The robot is trying to reach the \n",
    "bottom-right corner of the grid (marked 'Finish' in the diagram below). How many possible unique paths \n",
    "are there?\n",
    "\n",
    "Input: m = 3, n = 2\n",
    "Output: 3\n",
    "Explanation:\n",
    "From the top-left corner, there are a total of 3 ways to reach the bottom-right corner:\n",
    "1. Right -> Right -> Down\n",
    "2. Right -> Down -> Right\n",
    "3. Down -> Right -> Right\n",
    "'''\n",
    "class Solution:\n",
    "    def uniquePaths(self, m, n):\n",
    "        re = [[0]*(n+1) for i in range(m+1)]\n",
    "        for i in range(1, m+1):\n",
    "            for j in range(1, n+1):\n",
    "                if i == 1 and j == 1:\n",
    "                    re[1][1] = 1\n",
    "                else:\n",
    "                    re[i][j] = re[i][j-1] + re[i-1][j]\n",
    "        return re[m][n]"
   ]
  },
  {
   "cell_type": "markdown",
   "metadata": {},
   "source": [
    "## Set Matrix Zeroes"
   ]
  },
  {
   "cell_type": "markdown",
   "metadata": {},
   "source": [
    "There might be other ways using smaller space or less time, but the idea is almost same."
   ]
  },
  {
   "cell_type": "code",
   "execution_count": 2,
   "metadata": {},
   "outputs": [],
   "source": [
    "'''\n",
    "Given a m x n matrix, if an element is 0, set its entire row and column to 0. Do it in-place.\n",
    "\n",
    "Input: \n",
    "[\n",
    "  [0,1,2,0],\n",
    "  [3,4,5,2],\n",
    "  [1,3,1,5]\n",
    "]\n",
    "Output: \n",
    "[\n",
    "  [0,0,0,0],\n",
    "  [0,4,5,0],\n",
    "  [0,3,1,0]\n",
    "]\n",
    "'''\n",
    "class Solution:\n",
    "    def setZeroes(self, matrix):\n",
    "        \"\"\"\n",
    "        Do not return anything, modify matrix in-place instead.\n",
    "        \"\"\"\n",
    "        row_re = [1]*len(matrix)\n",
    "        col_re = [1]*len(matrix[0])\n",
    "        \n",
    "        for i in range(len(matrix)):\n",
    "            for j in range(len(matrix[0])):\n",
    "                if matrix[i][j] == 0:\n",
    "                    row_re[i] = 0\n",
    "                    col_re[j] = 0\n",
    "        \n",
    "        for i in range(len(row_re)):\n",
    "            if row_re[i] == 0:\n",
    "                matrix[i] = [0]*len(col_re)\n",
    "                \n",
    "        for j in range(len(col_re)):\n",
    "            if col_re[j] == 0:\n",
    "                for i in range(len(matrix)):\n",
    "                    matrix[i][j] = 0"
   ]
  },
  {
   "cell_type": "markdown",
   "metadata": {},
   "source": [
    "## Sort Colors"
   ]
  },
  {
   "cell_type": "markdown",
   "metadata": {},
   "source": [
    "Use 3 pointers to store the status of 3 numbers. Notice, when nums[m] == 0, we are updating both l and m, while when nums[m] == 2, we are only updating r, why? Because we traverse from left side, so we know if we switch with left, it must be 1; while if we switch with right, we don't know if the switched number is 0, 1 or 2. "
   ]
  },
  {
   "cell_type": "code",
   "execution_count": 3,
   "metadata": {},
   "outputs": [],
   "source": [
    "'''\n",
    "Sort a list with 0, 1, and 2.\n",
    "\n",
    "Input: [2,0,2,1,1,0]\n",
    "Output: [0,0,1,1,2,2]\n",
    "'''\n",
    "class Solution:\n",
    "    def sortColors(self, nums):\n",
    "        \"\"\"\n",
    "        Do not return anything, modify nums in-place instead.\n",
    "        \"\"\"\n",
    "        l = 0\n",
    "        m = 0\n",
    "        r = len(nums)-1\n",
    "        \n",
    "        while m <= r:\n",
    "            if nums[m] == 0:\n",
    "                nums[m], nums[l] = nums[l], nums[m]\n",
    "                l+= 1\n",
    "                m += 1\n",
    "            elif nums[m] == 2:\n",
    "                nums[m], nums[r] = nums[r], nums[m]\n",
    "                r -= 1\n",
    "            else:\n",
    "                m += 1"
   ]
  },
  {
   "cell_type": "markdown",
   "metadata": {},
   "source": [
    "## Subsets"
   ]
  },
  {
   "cell_type": "markdown",
   "metadata": {},
   "source": [
    "A typical DFS recursion problem. To avoid repeated cur, we update the index for deeper recursions. "
   ]
  },
  {
   "cell_type": "code",
   "execution_count": 8,
   "metadata": {},
   "outputs": [],
   "source": [
    "'''\n",
    "Given a set of distinct integers, nums, return all possible subsets (the power set).\n",
    "Note: The solution set must not contain duplicate subsets.\n",
    "\n",
    "Input: nums = [1,2,3]\n",
    "Output:\n",
    "[\n",
    "  [3],\n",
    "  [1],\n",
    "  [2],\n",
    "  [1,2,3],\n",
    "  [1,3],\n",
    "  [2,3],\n",
    "  [1,2],\n",
    "  []\n",
    "]\n",
    "'''\n",
    "class Solution:\n",
    "    def subsets(self, nums):\n",
    "        def com(input_list, cur, index, re):            \n",
    "            re.append(cur)\n",
    "            \n",
    "            for i in range(index, len(input_list)):\n",
    "                com(input_list, cur+[input_list[i]], i+1, re)\n",
    "        \n",
    "        re = []\n",
    "        com(nums, [], 0, re)\n",
    "        return re"
   ]
  },
  {
   "cell_type": "markdown",
   "metadata": {},
   "source": [
    "## Word Search"
   ]
  },
  {
   "cell_type": "markdown",
   "metadata": {},
   "source": [
    "A DFS problem, notice the trick of marking the visited cells."
   ]
  },
  {
   "cell_type": "code",
   "execution_count": 11,
   "metadata": {},
   "outputs": [],
   "source": [
    "'''\n",
    "Given a 2D board and a word, find if the word exists in the grid. The word can be constructed from \n",
    "letters of sequentially adjacent cell, where \"adjacent\" cells are those horizontally or vertically \n",
    "neighboring. The same letter cell may not be used more than once.\n",
    "\n",
    "board =\n",
    "[\n",
    "  ['A','B','C','E'],\n",
    "  ['S','F','C','S'],\n",
    "  ['A','D','E','E']\n",
    "]\n",
    "\n",
    "Given word = \"ABCCED\", return true.\n",
    "Given word = \"SEE\", return true.\n",
    "Given word = \"ABCB\", return false.\n",
    "'''\n",
    "class Solution:\n",
    "    def exist(self, board, word):\n",
    "        def dfs(board, word, m, n):\n",
    "            if len(word) == 0:\n",
    "                return True\n",
    "                \n",
    "            if (m < 0) or (n < 0) or (m >=len(board)) or (n >= len(board[0])) or (board[m][n] != word[0]):\n",
    "                return False\n",
    "                \n",
    "            cur = board[m][n]\n",
    "            board[m][n] = '#' # avoid revisit\n",
    "            re = dfs(board, word[1:], m+1, n) or \\\n",
    "            dfs(board, word[1:], m-1, n) or \\\n",
    "            dfs(board, word[1:], m, n+1) or \\\n",
    "            dfs(board, word[1:], m, n-1)\n",
    "                \n",
    "            board[m][n] = cur\n",
    "            return re\n",
    "        \n",
    "        \n",
    "        if not board:\n",
    "            return False\n",
    "        \n",
    "        for i in range(len(board)):    \n",
    "            for j in range(len(board[0])):\n",
    "                if dfs(board, word, i, j):\n",
    "                    return True\n",
    "        \n",
    "        return False"
   ]
  },
  {
   "cell_type": "markdown",
   "metadata": {},
   "source": [
    "## Decode Ways"
   ]
  },
  {
   "cell_type": "markdown",
   "metadata": {},
   "source": [
    "Honestly, this problem is disgusting because of the tricky '0' corner case. Besides that, it is a typical dynamic programming problem."
   ]
  },
  {
   "cell_type": "code",
   "execution_count": 12,
   "metadata": {},
   "outputs": [],
   "source": [
    "'''\n",
    "A message containing letters from A-Z is being encoded to numbers using the following mapping:\n",
    "'A' -> 1\n",
    "'B' -> 2\n",
    "...\n",
    "'Z' -> 26\n",
    "\n",
    "Input: \"226\"\n",
    "Output: 3\n",
    "Explanation: It could be decoded as \"BZ\" (2 26), \"VF\" (22 6), or \"BBF\" (2 2 6).\n",
    "'''\n",
    "class Solution:\n",
    "    def numDecodings(self, s):\n",
    "        if not s:\n",
    "            return 0\n",
    "        \n",
    "        if s[0] == '0':\n",
    "            return 0\n",
    "            \n",
    "        prior_2 = 1\n",
    "        prior_1 = 1\n",
    "        \n",
    "        for i in range(1, len(s)):\n",
    "            tmp = 0\n",
    "            if 0 < int(s[i]) <= 9:\n",
    "                tmp += prior_1\n",
    "            if 10 <= int(s[i-1:i+1]) <= 26:\n",
    "                tmp += prior_2\n",
    "            prior_1, prior_2 = tmp, prior_1\n",
    "        \n",
    "        return prior_1"
   ]
  },
  {
   "cell_type": "markdown",
   "metadata": {},
   "source": [
    "## Binary Tree Inorder Traversal"
   ]
  },
  {
   "cell_type": "markdown",
   "metadata": {},
   "source": [
    "* Inorder: left -> root -> right\n",
    "* Preorder: root -> left -> right\n",
    "* Postorder: left -> right -> root"
   ]
  },
  {
   "cell_type": "code",
   "execution_count": 13,
   "metadata": {},
   "outputs": [],
   "source": [
    "'''\n",
    "Given a binary tree, return the inorder traversal of its nodes' values.\n",
    "\n",
    "Input: [1,null,2,3]\n",
    "   1\n",
    "    \\\n",
    "     2\n",
    "    /\n",
    "   3\n",
    "\n",
    "Output: [1,3,2]\n",
    "'''\n",
    "# Definition for a binary tree node.\n",
    "# class TreeNode:\n",
    "#     def __init__(self, x):\n",
    "#         self.val = x\n",
    "#         self.left = None\n",
    "#         self.right = None\n",
    "\n",
    "class Solution:\n",
    "    def inorderTraversal(self, root):\n",
    "        res = []\n",
    "        if root:\n",
    "            res = res + self.inorderTraversal(root.left)\n",
    "            res.append(root.val)\n",
    "            res = res + self.inorderTraversal(root.right)\n",
    "        return res"
   ]
  },
  {
   "cell_type": "markdown",
   "metadata": {},
   "source": [
    "## Validate Binary Search Tree"
   ]
  },
  {
   "cell_type": "markdown",
   "metadata": {},
   "source": [
    "Be clear about how to check if a node is valid. Another solution is converting the binary tree to an list and check if the list is well sorted. "
   ]
  },
  {
   "cell_type": "code",
   "execution_count": 14,
   "metadata": {},
   "outputs": [],
   "source": [
    "'''\n",
    "Given a binary tree, determine if it is a valid binary search tree (BST).\n",
    "\n",
    "Assume a BST is defined as follows:\n",
    "\n",
    "The left subtree of a node contains only nodes with keys less than the node's key.\n",
    "The right subtree of a node contains only nodes with keys greater than the node's key.\n",
    "Both the left and right subtrees must also be binary search trees.\n",
    "\n",
    "    5\n",
    "   / \\\n",
    "  1   4\n",
    "     / \\\n",
    "    3   6\n",
    "\n",
    "Input: [5,1,4,null,null,3,6]\n",
    "Output: false\n",
    "Explanation: The root node's value is 5 but its right child's value is 4.\n",
    "'''\n",
    "# Definition for a binary tree node.\n",
    "# class TreeNode:\n",
    "#     def __init__(self, val=0, left=None, right=None):\n",
    "#         self.val = val\n",
    "#         self.left = left\n",
    "#         self.right = right\n",
    "class Solution:\n",
    "    def isValidBST(self, root):\n",
    "        def isValidNode(node, l, r):\n",
    "            if not node:\n",
    "                return True\n",
    "            return (l < node.val < r) and isValidNode(node.left, l, node.val) and isValidNode(node.right, node.val, r)\n",
    "        \n",
    "        return isValidNode(root, -float('inf'), float('inf'))"
   ]
  },
  {
   "cell_type": "markdown",
   "metadata": {},
   "source": [
    "## Binary Tree Zigzag Level Order Traversal"
   ]
  },
  {
   "cell_type": "markdown",
   "metadata": {},
   "source": [
    "There are two ways to solve this problem, both DFS and BFS are very typical ways to deal with tree related problems."
   ]
  },
  {
   "cell_type": "code",
   "execution_count": 15,
   "metadata": {},
   "outputs": [],
   "source": [
    "'''\n",
    "Given a binary tree, return the zigzag level order traversal of its nodes' values. (ie, from left \n",
    "to right, then right to left for the next level and alternate between).\n",
    "\n",
    "Input:\n",
    "    3\n",
    "   / \\\n",
    "  9  20\n",
    "    /  \\\n",
    "   15   7\n",
    "\n",
    "Output:\n",
    "[\n",
    "  [3],\n",
    "  [20,9],\n",
    "  [15,7]\n",
    "]\n",
    "'''\n",
    "# Definition for a binary tree node.\n",
    "# class TreeNode:\n",
    "#     def __init__(self, val=0, left=None, right=None):\n",
    "#         self.val = val\n",
    "#         self.left = left\n",
    "#         self.right = right\n",
    "\n",
    "# Solution 1, DFS\n",
    "class Solution:\n",
    "    def zigzagLevelOrder(self, root):\n",
    "        def dfs(re, level, node):\n",
    "            if not node:\n",
    "                return \n",
    "            \n",
    "            if len(re) <= level:\n",
    "                re.append([node.val])\n",
    "            elif level%2 == 0:\n",
    "                re[level].append(node.val)\n",
    "            else:\n",
    "                re[level].insert(0, node.val)\n",
    "            \n",
    "            dfs(re, level+1, node.left)\n",
    "            dfs(re, level+1, node.right)\n",
    "        \n",
    "        re = []\n",
    "        dfs(re, 0, root)\n",
    "        return re\n",
    "\n",
    "# Solution 2, BFS\n",
    "def zigzagLevelOrder(self, root):\n",
    "    res, queue = [], [(root, 0)]\n",
    "    while queue:\n",
    "        curr, level = queue.pop(0)\n",
    "        if curr:\n",
    "            if len(res) < level+1:\n",
    "                res.append([])\n",
    "            if level % 2 == 0:\n",
    "                res[level].append(curr.val)\n",
    "            else:\n",
    "                res[level].insert(0, curr.val)\n",
    "            queue.append((curr.left, level+1))\n",
    "            queue.append((curr.right, level+1))\n",
    "    return res"
   ]
  },
  {
   "cell_type": "markdown",
   "metadata": {},
   "source": [
    "## Construct Binary Tree from Preorder and Inorder Traversal"
   ]
  },
  {
   "cell_type": "markdown",
   "metadata": {},
   "source": [
    "Preorder is root->left->right, so the head of preorder list must be the root. In the example below, 3 will be the root. Then locate 3 in inorder, left sublist [9] would be left, and right sublist [15, 20, 7] would be rigt. Based on this method, we can solve the problem recursively."
   ]
  },
  {
   "cell_type": "code",
   "execution_count": 18,
   "metadata": {},
   "outputs": [],
   "source": [
    "'''\n",
    "Given preorder and inorder traversal of a tree, construct the binary tree. You may assume that \n",
    "duplicates do not exist in the tree.\n",
    "\n",
    "Input:\n",
    "preorder = [3,9,20,15,7]\n",
    "inorder = [9,3,15,20,7]\n",
    "\n",
    "Output:\n",
    "    3\n",
    "   / \\\n",
    "  9  20\n",
    "    /  \\\n",
    "   15   7\n",
    "'''\n",
    "# Definition for a binary tree node.\n",
    "# class TreeNode:\n",
    "#     def __init__(self, val=0, left=None, right=None):\n",
    "#         self.val = val\n",
    "#         self.left = left\n",
    "#         self.right = right\n",
    "class Solution:\n",
    "    def buildTree(self, preorder, inorder):\n",
    "        if inorder:\n",
    "            root_index = inorder.index(preorder.pop(0))\n",
    "            root = TreeNode(inorder[root_index])\n",
    "            root.left = self.buildTree(preorder, inorder[:root_index])\n",
    "            root.right = self.buildTree(preorder, inorder[root_index+1:])\n",
    "            return root"
   ]
  },
  {
   "cell_type": "markdown",
   "metadata": {},
   "source": [
    "## Populating Next Right Pointers in Each Node"
   ]
  },
  {
   "cell_type": "markdown",
   "metadata": {},
   "source": [
    "Classical logic about how to find neighbouring nodes."
   ]
  },
  {
   "cell_type": "code",
   "execution_count": 19,
   "metadata": {},
   "outputs": [],
   "source": [
    "'''\n",
    "You are given a perfect binary tree where all leaves are on the same level, and every parent has two children. \n",
    "Populate each next pointer to point to its next right node. If there is no next right node, the next pointer \n",
    "should be set to NULL. Initially, all next pointers are set to NULL.\n",
    "\n",
    "Input: root = [1,2,3,4,5,6,7]\n",
    "Output: [1,#,2,3,#,4,5,6,7,#]\n",
    "Explanation: Given the above perfect binary tree (Figure A), your function should populate each next pointer \n",
    "to point to its next right node, just like in Figure B. The serialized output is in level order as connected \n",
    "by the next pointers, with '#' signifying the end of each level.\n",
    "'''\n",
    "\"\"\"\n",
    "# Definition for a Node.\n",
    "class Node:\n",
    "    def __init__(self, val: int = 0, left: 'Node' = None, right: 'Node' = None, next: 'Node' = None):\n",
    "        self.val = val\n",
    "        self.left = left\n",
    "        self.right = right\n",
    "        self.next = next\n",
    "\"\"\"\n",
    "\n",
    "class Solution:\n",
    "    def connect(self, root):\n",
    "        if root and root.left and root.right:\n",
    "            root.left.next = root.right\n",
    "            if root.next:\n",
    "                root.right.next = root.next.left\n",
    "            self.connect(root.left)\n",
    "            self.connect(root.right)\n",
    "        return root"
   ]
  },
  {
   "cell_type": "markdown",
   "metadata": {},
   "source": [
    "## Word Ladder"
   ]
  },
  {
   "cell_type": "markdown",
   "metadata": {},
   "source": [
    "Personally I don't think this is a good algo question on leetcode, as it gave TLE error for classical bfs solution. There's a trick for handling transformed string, but I don't think it worth my time."
   ]
  },
  {
   "cell_type": "code",
   "execution_count": 22,
   "metadata": {},
   "outputs": [],
   "source": [
    "'''\n",
    "find the length of shortest transformation sequence from beginWord to endWord, such that:\n",
    "\n",
    "Only one letter can be changed at a time.\n",
    "Each transformed word must exist in the word list.\n",
    "Note:\n",
    "\n",
    "Return 0 if there is no such transformation sequence.\n",
    "All words have the same length.\n",
    "All words contain only lowercase alphabetic characters.\n",
    "You may assume no duplicates in the word list.\n",
    "You may assume beginWord and endWord are non-empty and are not the same.\n",
    "\n",
    "Input:\n",
    "beginWord = \"hit\",\n",
    "endWord = \"cog\",\n",
    "wordList = [\"hot\",\"dot\",\"dog\",\"lot\",\"log\",\"cog\"]\n",
    "\n",
    "Output: 5\n",
    "\n",
    "Explanation: As one shortest transformation is \"hit\" -> \"hot\" -> \"dot\" -> \"dog\" -> \"cog\",\n",
    "return its length 5.\n",
    "\n",
    "Input:\n",
    "beginWord = \"hit\"\n",
    "endWord = \"cog\"\n",
    "wordList = [\"hot\",\"dot\",\"dog\",\"lot\",\"log\"]\n",
    "\n",
    "Output: 0\n",
    "\n",
    "Explanation: The endWord \"cog\" is not in wordList, therefore no possible transformation.\n",
    "'''\n",
    "class Solution:\n",
    "    def ladderLength(self, beginWord, endWord, wordList):\n",
    "        def transform(str1, str2):\n",
    "            cnt = 0\n",
    "            for i in range(len(str1)):\n",
    "                if str1[i] != str2[i]:\n",
    "                    cnt += 1\n",
    "                if cnt > 1:\n",
    "                    return False\n",
    "            return (cnt == 1)\n",
    "        \n",
    "        if endWord not in wordList:\n",
    "            return 0\n",
    "        \n",
    "        visited = []\n",
    "        queue = [(beginWord, 1)]\n",
    "        while queue:\n",
    "            cur, re = queue.pop(0)\n",
    "            if cur == endWord:\n",
    "                return re\n",
    "            \n",
    "            for i in range(len(wordList)):\n",
    "                if transform(cur, wordList[i]) and (wordList[i] not in visited):\n",
    "                    queue.append((wordList[i], re+1))\n",
    "                    visited.append(wordList[i])\n",
    "        \n",
    "        return 0"
   ]
  },
  {
   "cell_type": "markdown",
   "metadata": {},
   "source": [
    "## Surrounded Regions"
   ]
  },
  {
   "cell_type": "markdown",
   "metadata": {},
   "source": [
    "A good example for applying BFS on 2D map."
   ]
  },
  {
   "cell_type": "code",
   "execution_count": 23,
   "metadata": {},
   "outputs": [],
   "source": [
    "'''\n",
    "Given a 2D board containing 'X' and 'O' (the letter O), capture all regions surrounded by 'X'.\n",
    "A region is captured by flipping all 'O's into 'X's in that surrounded region.\n",
    "\n",
    "Input:\n",
    "X X X X\n",
    "X O O X\n",
    "X X O X\n",
    "X O X X\n",
    "\n",
    "Output:\n",
    "X X X X\n",
    "X X X X\n",
    "X X X X\n",
    "X O X X\n",
    "'''\n",
    "class Solution:\n",
    "    def solve(self, board):\n",
    "        \"\"\"\n",
    "        Do not return anything, modify board in-place instead.\n",
    "        \"\"\"\n",
    "        queue = []\n",
    "        for i in range(len(board)):\n",
    "            for j in range(len(board[0])):\n",
    "                if ((i in [0, len(board)-1]) or (j in [0, len(board[0])-1])) and board[i][j] == 'O':\n",
    "                    queue.append((i, j))\n",
    "        \n",
    "        while queue:\n",
    "            x, y = queue.pop(0)\n",
    "            if 0 <= x < len(board) and 0 <= y < len(board[0]) and board[x][y] == 'O':\n",
    "                board[x][y] = 'l'\n",
    "                queue.append((x-1, y))\n",
    "                queue.append((x+1, y))\n",
    "                queue.append((x, y-1))\n",
    "                queue.append((x, y+1))\n",
    "                \n",
    "        for i in range(len(board)):\n",
    "            for j in range(len(board[0])): \n",
    "                if board[i][j] == 'O':\n",
    "                    board[i][j] = 'X'\n",
    "                elif board[i][j] == 'l':\n",
    "                    board[i][j] = 'O'"
   ]
  },
  {
   "cell_type": "markdown",
   "metadata": {},
   "source": [
    "## Palindrome Partitioning"
   ]
  },
  {
   "cell_type": "markdown",
   "metadata": {},
   "source": [
    "DFS is the most straightforward solution."
   ]
  },
  {
   "cell_type": "code",
   "execution_count": 24,
   "metadata": {},
   "outputs": [],
   "source": [
    "'''\n",
    "Given a string s, partition s such that every substring of the partition is a palindrome. Return \n",
    "all possible palindrome partitioning of s.\n",
    "\n",
    "Input: \"aab\"\n",
    "Output:\n",
    "[\n",
    "  [\"aa\",\"b\"],\n",
    "  [\"a\",\"a\",\"b\"]\n",
    "]\n",
    "'''\n",
    "class Solution:\n",
    "    def partition(self, s):\n",
    "        def dfs(l, cur, re):\n",
    "            if not l:\n",
    "                re.append(cur)\n",
    "            for i in range(1, len(l)+1):\n",
    "                tmp = l[:i]\n",
    "                if tmp == tmp[::-1]:\n",
    "                    dfs(l[i:], cur+[tmp], re)\n",
    "        \n",
    "        re = []\n",
    "        dfs(s, [], re)\n",
    "        return re"
   ]
  },
  {
   "cell_type": "markdown",
   "metadata": {},
   "source": [
    "## Gas Station"
   ]
  },
  {
   "cell_type": "markdown",
   "metadata": {},
   "source": [
    "The tricky part is the circular structure. While if can make sure there is a solution existing, we can just use one loop without considering the circular structure."
   ]
  },
  {
   "cell_type": "code",
   "execution_count": 25,
   "metadata": {},
   "outputs": [],
   "source": [
    "'''\n",
    "There are N gas stations along a circular route, where the amount of gas at station i is gas[i]. You have \n",
    "a car with an unlimited gas tank and it costs cost[i] of gas to travel from station i to its next station \n",
    "(i+1). You begin the journey with an empty tank at one of the gas stations. Return the starting gas station's \n",
    "index if you can travel around the circuit once in the clockwise direction, otherwise return -1.\n",
    "\n",
    "Note:\n",
    "If there exists a solution, it is guaranteed to be unique.\n",
    "Both input arrays are non-empty and have the same length.\n",
    "Each element in the input arrays is a non-negative integer.\n",
    "\n",
    "Input: \n",
    "gas  = [1,2,3,4,5]\n",
    "cost = [3,4,5,1,2]\n",
    "\n",
    "Output: 3\n",
    "\n",
    "Explanation:\n",
    "Start at station 3 (index 3) and fill up with 4 unit of gas. Your tank = 0 + 4 = 4\n",
    "Travel to station 4. Your tank = 4 - 1 + 5 = 8\n",
    "Travel to station 0. Your tank = 8 - 2 + 1 = 7\n",
    "Travel to station 1. Your tank = 7 - 3 + 2 = 6\n",
    "Travel to station 2. Your tank = 6 - 4 + 3 = 5\n",
    "Travel to station 3. The cost is 5. Your gas is just enough to travel back to station 3.\n",
    "Therefore, return 3 as the starting index.\n",
    "\n",
    "Input: \n",
    "gas  = [2,3,4]\n",
    "cost = [3,4,3]\n",
    "\n",
    "Output: -1\n",
    "\n",
    "Explanation:\n",
    "You can't start at station 0 or 1, as there is not enough gas to travel to the next station.\n",
    "Let's start at station 2 and fill up with 4 unit of gas. Your tank = 0 + 4 = 4\n",
    "Travel to station 0. Your tank = 4 - 3 + 2 = 3\n",
    "Travel to station 1. Your tank = 3 - 3 + 3 = 3\n",
    "You cannot travel back to station 2, as it requires 4 unit of gas but you only have 3.\n",
    "Therefore, you can't travel around the circuit once no matter where you start.\n",
    "'''\n",
    "class Solution:\n",
    "    def canCompleteCircuit(self, gas, cost):\n",
    "        if sum(gas) - sum(cost) < 0:\n",
    "            return -1\n",
    "        \n",
    "        start = 0\n",
    "        rest = 0\n",
    "        for i in range(len(gas)):\n",
    "            rest += (gas[i] - cost[i])\n",
    "            if rest < 0:\n",
    "                rest, start = 0, i+1\n",
    "        return start"
   ]
  },
  {
   "cell_type": "markdown",
   "metadata": {},
   "source": [
    "## Copy List with Random Pointer"
   ]
  },
  {
   "cell_type": "markdown",
   "metadata": {},
   "source": [
    "How to deep copy a linked list? To recreate a linked list from head, you need something to store each node. In this case we are using a dictionary. Then, build the connections between those dictionary elements. One tricky part in this case is we don't just have val and next, we also have a random pointer. But the logic is same: create element in dictionary, then copy the connection from original linked list to dictionary elements."
   ]
  },
  {
   "cell_type": "code",
   "execution_count": 26,
   "metadata": {},
   "outputs": [],
   "source": [
    "'''\n",
    "A linked list is given such that each node contains an additional random pointer which could point to \n",
    "any node in the list or null. Return a deep copy of the list. \n",
    "\n",
    "The Linked List is represented in the input/output as a list of n nodes. Each node is represented as a \n",
    "pair of [val, random_index] where: \n",
    "val: an integer representing Node.val\n",
    "random_index: the index of the node (range from 0 to n-1) where random pointer points to, or null if \n",
    "it does not point to any node.\n",
    "\n",
    "Input: head = [[7,null],[13,0],[11,4],[10,2],[1,0]]\n",
    "Output: [[7,null],[13,0],[11,4],[10,2],[1,0]]\n",
    "'''\n",
    "\"\"\"\n",
    "# Definition for a Node.\n",
    "class Node:\n",
    "    def __init__(self, x: int, next: 'Node' = None, random: 'Node' = None):\n",
    "        self.val = int(x)\n",
    "        self.next = next\n",
    "        self.random = random\n",
    "\"\"\"\n",
    "class Solution:\n",
    "    def copyRandomList(self, head):\n",
    "        if not head:\n",
    "            return None\n",
    "        \n",
    "        dic = {}\n",
    "        node = head\n",
    "        prev = None\n",
    "        \n",
    "        while node:\n",
    "            if node not in dic:\n",
    "                dic[node] = Node(node.val, node.next, node.random)\n",
    "            \n",
    "            if prev:\n",
    "                prev.next = dic[node]\n",
    "            else:\n",
    "                new_head = dic[node]\n",
    "            \n",
    "            if node.random:\n",
    "                if node.random not in dic:\n",
    "                    dic[node.random] = Node(node.random.val, node.random.next, node.random.random)\n",
    "                dic[node].random = dic[node.random]\n",
    "            \n",
    "            node, prev = node.next, dic[node]\n",
    "        \n",
    "        return new_head"
   ]
  },
  {
   "cell_type": "markdown",
   "metadata": {},
   "source": [
    "## Word Break"
   ]
  },
  {
   "cell_type": "markdown",
   "metadata": {},
   "source": [
    "This is a DFS solution, it can also be solved by DP or BFS. To reduce the running time, we need to use 'seen' to avoid extra work (which will naturally be avoided in DP). Also, we set it up in the way that once a solution is found it will return the result, so it doesn't need to finish the rest unfinished recursions."
   ]
  },
  {
   "cell_type": "code",
   "execution_count": 27,
   "metadata": {},
   "outputs": [],
   "source": [
    "'''\n",
    "Given a non-empty string s and a dictionary wordDict containing a list of non-empty words, determine \n",
    "if s can be segmented into a space-separated sequence of one or more dictionary words.\n",
    "\n",
    "Input: s = \"applepenapple\", wordDict = [\"apple\", \"pen\"]\n",
    "Output: true\n",
    "Explanation: Return true because \"applepenapple\" can be segmented as \"apple pen apple\".\n",
    "             Note that you are allowed to reuse a dictionary word.\n",
    "             \n",
    "Input: s = \"catsandog\", wordDict = [\"cats\", \"dog\", \"sand\", \"and\", \"cat\"]\n",
    "Output: false\n",
    "'''\n",
    "class Solution:\n",
    "    def wordBreak(self, s, wordDict):\n",
    "        def dfs(input_s, dic, seen, re):\n",
    "            if not input_s:\n",
    "                re = True\n",
    "                return re\n",
    "            \n",
    "            for i in range(len(dic)):\n",
    "                if len(dic[i]) <= len(input_s):\n",
    "                    if dic[i] == input_s[:len(dic[i])]:\n",
    "                        if input_s[len(dic[i]):] not in seen:\n",
    "                            seen.append(input_s[len(dic[i]):])\n",
    "                            re = dfs(input_s[len(dic[i]):], dic, seen, re)\n",
    "                            if re:\n",
    "                                return re\n",
    "            return re\n",
    "                        \n",
    "        re = dfs(s, wordDict, [], False)\n",
    "        return re"
   ]
  },
  {
   "cell_type": "markdown",
   "metadata": {},
   "source": [
    "## LRU Cache"
   ]
  },
  {
   "cell_type": "markdown",
   "metadata": {},
   "source": [
    "If we can use ordered dic, the solution would be much shorter. Without ordered dic, we need an extra list to maintain the order of visits."
   ]
  },
  {
   "cell_type": "code",
   "execution_count": 30,
   "metadata": {},
   "outputs": [],
   "source": [
    "'''\n",
    "Design and implement a data structure for Least Recently Used (LRU) cache. It should support the following \n",
    "operations: get and put.\n",
    "\n",
    "get(key) - Get the value (will always be positive) of the key if the key exists in the cache, otherwise return -1.\n",
    "put(key, value) - Set or insert the value if the key is not already present. When the cache reached its capacity, \n",
    "it should invalidate the least recently used item before inserting a new item.\n",
    "\n",
    "LRUCache cache = new LRUCache( 2 /* capacity */ );\n",
    "\n",
    "cache.put(1, 1);\n",
    "cache.put(2, 2);\n",
    "cache.get(1);       // returns 1\n",
    "cache.put(3, 3);    // evicts key 2\n",
    "cache.get(2);       // returns -1 (not found)\n",
    "cache.put(4, 4);    // evicts key 1\n",
    "cache.get(1);       // returns -1 (not found)\n",
    "cache.get(3);       // returns 3\n",
    "cache.get(4);       // returns 4\n",
    "'''\n",
    "class LRUCache:\n",
    "\n",
    "    def __init__(self, capacity):\n",
    "        self.len = capacity\n",
    "        self.dic = {}\n",
    "        self.cache = []\n",
    "\n",
    "    def get(self, key):\n",
    "        if key in self.dic:\n",
    "            self.cache.remove(key)\n",
    "            self.cache.append(key)\n",
    "            return self.dic[key]\n",
    "        else:\n",
    "            return -1\n",
    "\n",
    "    def put(self, key, value):    \n",
    "        if (key in self.dic) or (len(self.dic) < self.len):\n",
    "            self.dic[key] = value\n",
    "            if key in self.cache:\n",
    "                self.cache.remove(key)\n",
    "            self.cache.append(key)\n",
    "        else:\n",
    "            self.dic.pop(self.cache[0])\n",
    "            self.dic[key] = value\n",
    "            self.cache.pop(0)\n",
    "            self.cache.append(key)"
   ]
  },
  {
   "cell_type": "markdown",
   "metadata": {},
   "source": [
    "## Sort List"
   ]
  },
  {
   "cell_type": "markdown",
   "metadata": {},
   "source": [
    "Compare to typical list sorting, we need to first traverse the linked list to find the splitting point for merge sort."
   ]
  },
  {
   "cell_type": "code",
   "execution_count": 31,
   "metadata": {},
   "outputs": [],
   "source": [
    "'''\n",
    "Sort a linked list in O(n log n) time using constant space complexity.\n",
    "\n",
    "Input: -1->5->3->4->0\n",
    "Output: -1->0->3->4->5\n",
    "'''\n",
    "# Definition for singly-linked list.\n",
    "# class ListNode:\n",
    "#     def __init__(self, val=0, next=None):\n",
    "#         self.val = val\n",
    "#         self.next = next\n",
    "class Solution:\n",
    "    def sortList(self, head):\n",
    "        if (not head) or (not head.next):\n",
    "            return head\n",
    "        \n",
    "        pre = None\n",
    "        slow = fast = head\n",
    "        while fast and fast.next:\n",
    "            pre = slow\n",
    "            slow = slow.next\n",
    "            fast = fast.next.next\n",
    "            \n",
    "        pre.next = None\n",
    "        l = self.sortList(head)\n",
    "        r = self.sortList(slow)\n",
    "        return self.merge(l, r)\n",
    "        \n",
    "    def merge(self, l, r):\n",
    "        dummy = start = ListNode(None)    \n",
    "        while l and r:\n",
    "            if l.val <= r.val:\n",
    "                start.next = l\n",
    "                l = l.next\n",
    "            else:\n",
    "                start.next = r\n",
    "                r = r.next\n",
    "            start = start.next\n",
    "            \n",
    "        start.next = l or r\n",
    "        return dummy.next "
   ]
  },
  {
   "cell_type": "markdown",
   "metadata": {},
   "source": [
    "## Evaluate Reverse Polish Notation"
   ]
  },
  {
   "cell_type": "markdown",
   "metadata": {},
   "source": [
    "An easy application of stack."
   ]
  },
  {
   "cell_type": "code",
   "execution_count": 33,
   "metadata": {},
   "outputs": [],
   "source": [
    "'''\n",
    "Evaluate the value of an arithmetic expression in Reverse Polish Notation.\n",
    "Valid operators are +, -, *, /. Each operand may be an integer or another expression.\n",
    "\n",
    "Input: [\"2\", \"1\", \"+\", \"3\", \"*\"]\n",
    "Output: 9\n",
    "Explanation: ((2 + 1) * 3) = 9\n",
    "\n",
    "Input: [\"4\", \"13\", \"5\", \"/\", \"+\"]\n",
    "Output: 6\n",
    "Explanation: (4 + (13 / 5)) = 6\n",
    "\n",
    "Input: [\"10\", \"6\", \"9\", \"3\", \"+\", \"-11\", \"*\", \"/\", \"*\", \"17\", \"+\", \"5\", \"+\"]\n",
    "Output: 22\n",
    "Explanation: \n",
    "  ((10 * (6 / ((9 + 3) * -11))) + 17) + 5\n",
    "= ((10 * (6 / (12 * -11))) + 17) + 5\n",
    "= ((10 * (6 / -132)) + 17) + 5\n",
    "= ((10 * 0) + 17) + 5\n",
    "= (0 + 17) + 5\n",
    "= 17 + 5\n",
    "= 22\n",
    "'''\n",
    "class Solution:\n",
    "    def operation(self, op, a, b):\n",
    "        if op == '+':\n",
    "            return (b + a)\n",
    "        if op == '-':\n",
    "            return (b - a)\n",
    "        if op == '*':\n",
    "            return (b * a)\n",
    "        if op == '/':\n",
    "            return (b / a)\n",
    "        \n",
    "    def evalRPN(self, tokens):\n",
    "        stack = []\n",
    "        for i in range(len(tokens)):\n",
    "            if tokens[i] in ['+', '-', '*', '/']:\n",
    "                a = stack.pop(-1)\n",
    "                b = stack.pop(-1)\n",
    "                stack.append(self.operation(tokens[i], int(a), int(b)))\n",
    "            else:\n",
    "                stack.append(tokens[i])\n",
    "        return int(stack[0])"
   ]
  },
  {
   "cell_type": "markdown",
   "metadata": {},
   "source": [
    "## Maximum Product Subarray"
   ]
  },
  {
   "cell_type": "markdown",
   "metadata": {},
   "source": [
    "A typical dynamic programming problem, the tricky part is the negative result can suddenly become the max value when it encounters another negative item, so we need to store both max and min results."
   ]
  },
  {
   "cell_type": "code",
   "execution_count": 34,
   "metadata": {},
   "outputs": [],
   "source": [
    "'''\n",
    "Given an integer array nums, find the contiguous subarray within an array (containing at least one \n",
    "number) which has the largest product.\n",
    "\n",
    "Input: [2,3,-2,4]\n",
    "Output: 6\n",
    "Explanation: [2,3] has the largest product 6.\n",
    "\n",
    "Input: [-2,0,-1]\n",
    "Output: 0\n",
    "Explanation: The result cannot be 2, because [-2,-1] is not a subarray.\n",
    "'''\n",
    "class Solution:\n",
    "    def maxProduct(self, nums):\n",
    "        re = nums[0]\n",
    "        min_re = nums[0]\n",
    "        max_re = nums[0]\n",
    "        for i in range(1, len(nums)):\n",
    "            min_re, max_re = min(nums[i],min_re*nums[i],max_re*nums[i]), max(nums[i],min_re*nums[i],max_re*nums[i])\n",
    "            re = max(re, max_re)\n",
    "        return re"
   ]
  },
  {
   "cell_type": "code",
   "execution_count": null,
   "metadata": {},
   "outputs": [],
   "source": []
  }
 ],
 "metadata": {
  "kernelspec": {
   "display_name": "Python 3",
   "language": "python",
   "name": "python3"
  },
  "language_info": {
   "codemirror_mode": {
    "name": "ipython",
    "version": 3
   },
   "file_extension": ".py",
   "mimetype": "text/x-python",
   "name": "python",
   "nbconvert_exporter": "python",
   "pygments_lexer": "ipython3",
   "version": "3.6.8"
  }
 },
 "nbformat": 4,
 "nbformat_minor": 2
}
