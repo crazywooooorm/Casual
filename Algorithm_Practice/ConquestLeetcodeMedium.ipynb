{
 "cells": [
  {
   "cell_type": "markdown",
   "metadata": {},
   "source": [
    "# Leetcode Medium Popular"
   ]
  },
  {
   "cell_type": "markdown",
   "metadata": {},
   "source": [
    "## Add Two Numbers"
   ]
  },
  {
   "cell_type": "markdown",
   "metadata": {},
   "source": [
    "This is a good example of building a linked list from scratch."
   ]
  },
  {
   "cell_type": "code",
   "execution_count": 1,
   "metadata": {},
   "outputs": [],
   "source": [
    "'''\n",
    "You are given two non-empty linked lists representing two non-negative integers. The digits \n",
    "are stored in reverse order and each of their nodes contain a single digit. Add the two numbers \n",
    "and return it as a linked list. You may assume the two numbers do not contain any leading zero, \n",
    "except the number 0 itself.\n",
    "\n",
    "Input: (2 -> 4 -> 3) + (5 -> 6 -> 4)\n",
    "Output: 7 -> 0 -> 8\n",
    "Explanation: 342 + 465 = 807.\n",
    "'''\n",
    "# Definition for singly-linked list.\n",
    "# class ListNode:\n",
    "#     def __init__(self, val=0, next=None):\n",
    "#         self.val = val\n",
    "#         self.next = next\n",
    "class Solution:\n",
    "    def addTwoNumbers(self, l1, l2):\n",
    "        origin = cur = ListNode(0)\n",
    "        deci = 0\n",
    "        while l1 or l2 or deci:\n",
    "            if l1:\n",
    "                deci += l1.val\n",
    "                l1 = l1.next\n",
    "            if l2:\n",
    "                deci += l2.val\n",
    "                l2 = l2.next\n",
    "            cur.next = ListNode(deci%10)\n",
    "            cur = cur.next\n",
    "            deci = deci//10\n",
    "        return origin.next"
   ]
  },
  {
   "cell_type": "markdown",
   "metadata": {},
   "source": [
    "## Longest Substring Without Repeating Characters"
   ]
  },
  {
   "cell_type": "markdown",
   "metadata": {},
   "source": [
    "A dynamic programming like problem. What info do we need to store? Obviously we need to store the current non-repeating substring. What is the good format to store it? We can use list, but it would be tricky to search the repeated element (probably need another loop), while it's easier to use dictionary. "
   ]
  },
  {
   "cell_type": "code",
   "execution_count": 10,
   "metadata": {},
   "outputs": [],
   "source": [
    "'''\n",
    "Given a string, find the length of the longest substring without repeating characters.\n",
    "\n",
    "Input: \"abcabcbb\"\n",
    "Output: 3 \n",
    "Explanation: The answer is \"abc\", with the length of 3.\n",
    "\n",
    "Input: \"bbbbb\"\n",
    "Output: 1\n",
    "Explanation: The answer is \"b\", with the length of 1.\n",
    "'''\n",
    "class Solution:\n",
    "    def lengthOfLongestSubstring(self, s):\n",
    "        re = 0\n",
    "        start = 0\n",
    "        cur = {}\n",
    "        for i in range(len(s)):\n",
    "            if s[i] in cur.keys():\n",
    "                re = max(re, i-start) # update longest length\n",
    "                start = max(start, cur[s[i]]+1) # cur[s[i]] might be smaller than start, so need max()\n",
    "            cur[s[i]] = i\n",
    "        return max(re, len(s)-start)"
   ]
  },
  {
   "cell_type": "markdown",
   "metadata": {},
   "source": [
    "## Longest Palindromic Substring"
   ]
  },
  {
   "cell_type": "markdown",
   "metadata": {},
   "source": [
    "Use dynamic programming method. To define the problem, we build a 2D list to record result of 'start' and 'end'. Notice to get result of [start, end], we need to know [start+1, end-1] first. So in the below solution we let start loop backward and end loop forward."
   ]
  },
  {
   "cell_type": "code",
   "execution_count": 19,
   "metadata": {},
   "outputs": [],
   "source": [
    "'''\n",
    "Given a string s, find the longest palindromic substring in s. You may assume that the maximum length of s is 1000.\n",
    "\n",
    "Input: \"babad\"\n",
    "Output: \"bab\"\n",
    "Note: \"aba\" is also a valid answer.\n",
    "\n",
    "Input: \"cbbd\"\n",
    "Output: \"bb\"\n",
    "'''\n",
    "class Solution:\n",
    "    def longestPalindrome(self, s):\n",
    "        re = [[False]*len(s) for i in range(len(s))]\n",
    "        max_len = 1\n",
    "        max_str = ''\n",
    "        \n",
    "        for start in range(len(s)-1, -1, -1): # loop backward\n",
    "            for end in range(start, len(s)):\n",
    "                if start == end:\n",
    "                    re[start][end] = True\n",
    "                    if max_len == 1:\n",
    "                        max_str = s[start:end+1]\n",
    "                else:\n",
    "                    if s[start] == s[end]:\n",
    "                        if (end - start == 1) or re[start+1][end-1]:\n",
    "                            re[start][end] = True\n",
    "                            if (end-start+1) >= max_len:\n",
    "                                max_len = end-start+1\n",
    "                                max_str = s[start:end+1]\n",
    "        return max_str"
   ]
  },
  {
   "cell_type": "markdown",
   "metadata": {},
   "source": [
    "## Container With Most Water"
   ]
  },
  {
   "cell_type": "markdown",
   "metadata": {},
   "source": [
    "Figure out what decides the volume of water, what is the relation between volume and neighbouring vertical lines, then figure out the easiest way to do the loop."
   ]
  },
  {
   "cell_type": "code",
   "execution_count": 20,
   "metadata": {},
   "outputs": [],
   "source": [
    "'''\n",
    "Given n non-negative integers a1, a2, ..., an , where each represents a point at coordinate (i, ai). \n",
    "n vertical lines are drawn such that the two endpoints of line i is at (i, ai) and (i, 0). Find two \n",
    "lines, which together with x-axis forms a container, such that the container contains the most water.\n",
    "Note: You may not slant the container and n is at least 2.\n",
    "\n",
    "Input: [1,8,6,2,5,4,8,3,7]\n",
    "Output: 49\n",
    "'''\n",
    "class Solution:\n",
    "    def maxArea(self, height):\n",
    "        l = 0\n",
    "        r = len(height)-1\n",
    "        re = 0\n",
    "        \n",
    "        while r > l:\n",
    "            if height[l] <= height[r]:\n",
    "                re = max(re, (r-l)*height[l])\n",
    "                l += 1\n",
    "            else:\n",
    "                re = max(re, (r-l)*height[r])\n",
    "                r -= 1\n",
    "        return re"
   ]
  },
  {
   "cell_type": "markdown",
   "metadata": {},
   "source": [
    "## 3Sum"
   ]
  },
  {
   "cell_type": "markdown",
   "metadata": {},
   "source": [
    "A naive way would be O(n^3) time complexity. Our solution is O(n^2) complexity. First sort the input list to make our traverse strategy easier. Then loop for the first element, the rest elements must be after the first one. Apply l and r pointers to reduce the traverse complexity."
   ]
  },
  {
   "cell_type": "code",
   "execution_count": 21,
   "metadata": {},
   "outputs": [],
   "source": [
    "'''\n",
    "Given an array nums of n integers, are there elements a, b, c in nums such that a + b + c = 0? \n",
    "Find all unique triplets in the array which gives the sum of zero. The solution set must not \n",
    "contain duplicate triplets.\n",
    "\n",
    "Given array nums = [-1, 0, 1, 2, -1, -4],\n",
    "\n",
    "A solution set is:\n",
    "[[-1, 0, 1], [-1, -1, 2]]\n",
    "'''\n",
    "class Solution:\n",
    "    def threeSum(self, nums):\n",
    "        re = []\n",
    "        nums.sort()\n",
    "        \n",
    "        for i in range(len(nums)-2):\n",
    "            if i > 0 and (nums[i] == nums[i-1]):\n",
    "                continue\n",
    "            l, r = i+1, len(nums)-1\n",
    "            while (l < r) and ((nums[i] + nums[l]) <= 0): # if sum of first two elements > 0, then move i \n",
    "                s = nums[i] + nums[l] + nums[r]\n",
    "                if s == 0:\n",
    "                    re.append([nums[i], nums[l], nums[r]])\n",
    "                    while (l < r) and nums[l] == nums[l+1]: # avoid duplicate triplets\n",
    "                        l += 1\n",
    "                    while (l < r) and nums[r] == nums[r-1]: # avoid duplicate triplets\n",
    "                        r -= 1\n",
    "                    l += 1\n",
    "                    r -= 1\n",
    "                elif s < 0:\n",
    "                    l += 1\n",
    "                else:\n",
    "                    r -= 1\n",
    "        return re"
   ]
  },
  {
   "cell_type": "markdown",
   "metadata": {},
   "source": [
    "## Letter Combinations of a Phone Number"
   ]
  },
  {
   "cell_type": "markdown",
   "metadata": {},
   "source": [
    "An example of recursion. We can't do a lot to reduce its complexity, so use recursion to make the logic clear."
   ]
  },
  {
   "cell_type": "code",
   "execution_count": 34,
   "metadata": {},
   "outputs": [],
   "source": [
    "'''\n",
    "Given a string containing digits from 2-9 inclusive, return all possible letter combinations that \n",
    "the number could represent. A mapping of digit to letters (just like on the telephone buttons) is \n",
    "given below. Note that 1 does not map to any letters.\n",
    "\n",
    "dic = {\"2\":\"abc\", \"3\":\"def\", \"4\":\"ghi\", \"5\":\"jkl\", \"6\":\"mno\", \"7\":\"pqrs\", \"8\":\"tuv\", \"9\":\"wxyz\"}\n",
    "\n",
    "Input: \"23\"\n",
    "Output: [\"ad\", \"ae\", \"af\", \"bd\", \"be\", \"bf\", \"cd\", \"ce\", \"cf\"].\n",
    "'''\n",
    "class Solution:\n",
    "    def letterCombinations(self, digits):\n",
    "        dic = {\"2\":\"abc\", \"3\":\"def\", \"4\":\"ghi\", \"5\":\"jkl\", \n",
    "               \"6\":\"mno\", \"7\":\"pqrs\", \"8\":\"tuv\", \"9\":\"wxyz\"}\n",
    "        \n",
    "        if not digits:\n",
    "            return []\n",
    "        if len(digits) == 1:\n",
    "            return dic[digits[0]]\n",
    "        \n",
    "        return [x + y for x in self.letterCombinations(digits[:-1]) for y in dic[digits[-1]]]"
   ]
  },
  {
   "cell_type": "markdown",
   "metadata": {},
   "source": [
    "## Remove Nth Node From End of List"
   ]
  },
  {
   "cell_type": "markdown",
   "metadata": {},
   "source": [
    "The idea is simple, while need to pay attention to some edge cases. What if we need to remove the whole list? What if we need to remove the first element?"
   ]
  },
  {
   "cell_type": "code",
   "execution_count": 35,
   "metadata": {},
   "outputs": [],
   "source": [
    "'''\n",
    "Given a linked list, remove the n-th node from the end of list and return its head.\n",
    "\n",
    "Given linked list: 1->2->3->4->5, and n = 2.\n",
    "\n",
    "After removing the second node from the end, the linked list becomes 1->2->3->5.\n",
    "'''\n",
    "# Definition for singly-linked list.\n",
    "# class ListNode:\n",
    "#     def __init__(self, val=0, next=None):\n",
    "#         self.val = val\n",
    "#         self.next = next\n",
    "class Solution:\n",
    "    def removeNthFromEnd(self, head, n):\n",
    "        dummy = slow = fast = head\n",
    "        for i in range(n):\n",
    "            fast = fast.next\n",
    "        \n",
    "        if not fast: # deal with situations when we need to remove the first node\n",
    "            return slow.next\n",
    "        \n",
    "        while slow.next and fast.next:\n",
    "            slow = slow.next\n",
    "            fast = fast.next\n",
    "        \n",
    "        tmp = slow.next.next\n",
    "        slow.next = tmp\n",
    "        \n",
    "        return dummy"
   ]
  },
  {
   "cell_type": "markdown",
   "metadata": {},
   "source": [
    "## Generate Parentheses"
   ]
  },
  {
   "cell_type": "markdown",
   "metadata": {},
   "source": [
    "Very classical recursion example. Define an parent function for recursion use. What argument should be put into recursion function? l, r are used to control the stop or backtracking of the recursion; cur is used to record the cur string status; re is used to record all strings."
   ]
  },
  {
   "cell_type": "code",
   "execution_count": 36,
   "metadata": {},
   "outputs": [],
   "source": [
    "'''\n",
    "Given n pairs of parentheses, write a function to generate all combinations of well-formed parentheses.\n",
    "\n",
    "For example, given n = 3, a solution set is:\n",
    "[\n",
    "  \"((()))\",\n",
    "  \"(()())\",\n",
    "  \"(())()\",\n",
    "  \"()(())\",\n",
    "  \"()()()\"\n",
    "]\n",
    "'''\n",
    "class Solution:\n",
    "    def generateParenthesis(self, n):\n",
    "        def dfs(l, r, cur, re):\n",
    "            if (l > r) or (l < 0) or (r < 0):\n",
    "                return\n",
    "            elif l == 0 and r == 0:\n",
    "                re.append(cur)\n",
    "                return\n",
    "            else:\n",
    "                dfs(l-1, r, cur+'(', re)\n",
    "                dfs(l, r-1, cur+')', re)\n",
    "        \n",
    "        re = []\n",
    "        dfs(n, n, '', re)\n",
    "        return re"
   ]
  },
  {
   "cell_type": "markdown",
   "metadata": {},
   "source": [
    "## Divide Two Integers"
   ]
  },
  {
   "cell_type": "markdown",
   "metadata": {},
   "source": [
    "This is a very weird problem. The basic idea is using substracting instead of division. The naive method is to substract divisor every time, while we can apply binary search to dramatically reduce the steps we need."
   ]
  },
  {
   "cell_type": "code",
   "execution_count": 39,
   "metadata": {},
   "outputs": [],
   "source": [
    "'''\n",
    "Given two integers dividend and divisor, divide two integers without using multiplication, division \n",
    "and mod operator. Return the quotient after dividing dividend by divisor. The integer division should \n",
    "truncate toward zero, which means losing its fractional part. For example, truncate(8.345) = 8 and \n",
    "truncate(-2.7335) = -2.\n",
    "\n",
    "Input: dividend = 10, divisor = 3\n",
    "Output: 3\n",
    "Explanation: 10/3 = truncate(3.33333..) = 3.\n",
    "\n",
    "Input: dividend = 7, divisor = -3\n",
    "Output: -2\n",
    "Explanation: 7/-3 = truncate(-2.33333..) = -2.\n",
    "'''\n",
    "class Solution:\n",
    "    def divide(self, dividend, divisor):\n",
    "        if dividend == 0:\n",
    "            return 0\n",
    "        if (dividend < 0 < divisor) or (divisor < 0 < dividend):\n",
    "            ind = False\n",
    "        else:\n",
    "            ind = True\n",
    "        \n",
    "        dividend, divisor = abs(dividend), abs(divisor)\n",
    "        res = dividend\n",
    "        re = 0\n",
    "        while divisor <= res:\n",
    "            sub = divisor\n",
    "            count = 1\n",
    "            while sub <= res: # once the condistion doesn't meet, back to outer loop to restart the binary search\n",
    "                res -= sub # update rest\n",
    "                re += count # add count\n",
    "                sub += sub # double the number to be substracted\n",
    "                count += count # double the count of substraction\n",
    "        \n",
    "        if ind:\n",
    "            return min(re, 2**31-1)\n",
    "        else:\n",
    "            return max(0-re, -2**31)"
   ]
  },
  {
   "cell_type": "code",
   "execution_count": null,
   "metadata": {},
   "outputs": [],
   "source": []
  }
 ],
 "metadata": {
  "kernelspec": {
   "display_name": "Python 3",
   "language": "python",
   "name": "python3"
  },
  "language_info": {
   "codemirror_mode": {
    "name": "ipython",
    "version": 3
   },
   "file_extension": ".py",
   "mimetype": "text/x-python",
   "name": "python",
   "nbconvert_exporter": "python",
   "pygments_lexer": "ipython3",
   "version": "3.6.8"
  }
 },
 "nbformat": 4,
 "nbformat_minor": 2
}
