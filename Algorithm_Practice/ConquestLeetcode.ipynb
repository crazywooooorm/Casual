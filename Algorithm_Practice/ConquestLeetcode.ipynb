{
 "cells": [
  {
   "cell_type": "markdown",
   "metadata": {},
   "source": [
    "# LeetCode Easy Popular"
   ]
  },
  {
   "cell_type": "markdown",
   "metadata": {},
   "source": [
    "## Reverse Integer"
   ]
  },
  {
   "cell_type": "code",
   "execution_count": 1,
   "metadata": {},
   "outputs": [],
   "source": [
    "'''\n",
    "Given a 32-bit signed integer, reverse digits of an integer.\n",
    "Assume we are dealing with an environment which could only store \n",
    "integers within the 32-bit signed integer range: [−231,  231 − 1]. \n",
    "For the purpose of this problem, assume that your function returns \n",
    "0 when the reversed integer overflows.\n",
    "\n",
    "Input: 123\n",
    "Output: 321\n",
    "\n",
    "Input: -123\n",
    "Output: -321\n",
    "\n",
    "Input: 120\n",
    "Output: 21\n",
    "'''\n",
    "class Solution:\n",
    "    def reverse(self, x: int) -> int:\n",
    "        if x < 0:\n",
    "            mark = -1\n",
    "        else:\n",
    "            mark = 1\n",
    "        \n",
    "        x_str = str(abs(x))\n",
    "        x_reverse = int(x_str[::-1]) * mark\n",
    "        \n",
    "        if -2**31 <= x_reverse <= 2**31 - 1:\n",
    "            return x_reverse\n",
    "        else:\n",
    "            return 0"
   ]
  },
  {
   "cell_type": "markdown",
   "metadata": {},
   "source": [
    "## Roman to Integer"
   ]
  },
  {
   "cell_type": "code",
   "execution_count": 2,
   "metadata": {},
   "outputs": [],
   "source": [
    "'''\n",
    "Convert Roman number to integer\n",
    "\n",
    "Input: \"LVIII\"\n",
    "Output: 58\n",
    "Explanation: L = 50, V= 5, III = 3.\n",
    "\n",
    "Input: \"MCMXCIV\"\n",
    "Output: 1994\n",
    "Explanation: M = 1000, CM = 900, XC = 90 and IV = 4.\n",
    "'''\n",
    "class Solution:\n",
    "    def romanToInt(self, s: str) -> int:\n",
    "        res = 0\n",
    "        local = 0\n",
    "        roman_dic = {'I':1, 'V':5, 'X':10, 'L':50, 'C':100, 'D':500, 'M':1000}\n",
    "        for i in s[::-1]:\n",
    "            if roman_dic[i] >= local:\n",
    "                res += roman_dic[i]\n",
    "                local = roman_dic[i]\n",
    "            else:\n",
    "                res -= roman_dic[i]\n",
    "        return res"
   ]
  },
  {
   "cell_type": "markdown",
   "metadata": {},
   "source": [
    "## Longest Common Prefix"
   ]
  },
  {
   "cell_type": "markdown",
   "metadata": {},
   "source": [
    "Use set to make sure all the letters from each string are same."
   ]
  },
  {
   "cell_type": "code",
   "execution_count": 44,
   "metadata": {},
   "outputs": [],
   "source": [
    "'''\n",
    "Write a function to find the longest common prefix string \n",
    "amongst an array of strings. If there is no common prefix, \n",
    "return an empty string \"\".\n",
    "\n",
    "Input: [\"flower\",\"flow\",\"flight\"]\n",
    "Output: \"fl\"\n",
    "\n",
    "Input: [\"dog\",\"racecar\",\"car\"]\n",
    "Output: \"\"\n",
    "'''\n",
    "class Solution:\n",
    "    def longestCommonPrefix(self, strs) -> str:\n",
    "        re = ''\n",
    "        if len(strs) == 0:\n",
    "            return re\n",
    "        \n",
    "        min_len = min([len(x) for x in strs])\n",
    "        for i in range(min_len):\n",
    "            if len(set([x[i] for x in strs])) == 1:\n",
    "                re += strs[0][i]\n",
    "            else:\n",
    "                break\n",
    "        return re"
   ]
  },
  {
   "cell_type": "markdown",
   "metadata": {},
   "source": [
    "## Merge Two Sorted Lists"
   ]
  },
  {
   "cell_type": "markdown",
   "metadata": {},
   "source": [
    "Notice re and cur is pointing to the same ListNode object, dummy is always at the initiated position, while cur is moving along the list (to update the next). "
   ]
  },
  {
   "cell_type": "code",
   "execution_count": 39,
   "metadata": {},
   "outputs": [],
   "source": [
    "'''\n",
    "Merge two sorted linked lists and return it as a new sorted list. \n",
    "The new list should be made by splicing together the nodes of \n",
    "the first two lists.\n",
    "\n",
    "Input: 1->2->4, 1->3->4\n",
    "Output: 1->1->2->3->4->4\n",
    "'''\n",
    "# Definition for singly-linked list.\n",
    "# class ListNode:\n",
    "#     def __init__(self, val=0, next=None):\n",
    "#         self.val = val\n",
    "#         self.next = next\n",
    "\n",
    "class Solution:\n",
    "    def mergeTwoLists(self, l1: ListNode, l2: ListNode) -> ListNode:\n",
    "        re = cur = ListNode(0)\n",
    "        while l1 and l2:\n",
    "            if l1.val <= l2.val:\n",
    "                cur.next = l1\n",
    "                l1 = l1.next\n",
    "            else:\n",
    "                cur.next = l2\n",
    "                l2 = l2.next\n",
    "            cur = cur.next\n",
    "        cur.next = l1 or l2\n",
    "        return re.next"
   ]
  },
  {
   "cell_type": "markdown",
   "metadata": {},
   "source": [
    "## Remove Duplicates from Sorted Array"
   ]
  },
  {
   "cell_type": "markdown",
   "metadata": {},
   "source": [
    "The point of this question is removing the duplicates **in-place**, as the input array is sorted, we can save the memory of a set, and tell if one element is duplicated by comparing it to its next element."
   ]
  },
  {
   "cell_type": "code",
   "execution_count": 48,
   "metadata": {},
   "outputs": [],
   "source": [
    "'''\n",
    "Given a sorted array nums, remove the duplicates in-place such that each \n",
    "element appear only once and return the new length. Do not allocate \n",
    "extra space for another array, you must do this by modifying the input \n",
    "array in-place with O(1) extra memory.\n",
    "\n",
    "Given nums = [1,1,2],\n",
    "Your function should return length = 2, with the first two elements of \n",
    "nums being 1 and 2 respectively.\n",
    "\n",
    "Given nums = [0,0,1,1,1,2,2,3,3,4],\n",
    "Your function should return length = 5, with the first five elements of \n",
    "nums being modified to 0, 1, 2, 3, and 4 respectively.\n",
    "'''\n",
    "# solution 1: use a set to tell if an element is duplicated\n",
    "class Solution:\n",
    "    def removeDuplicates(self, nums):\n",
    "        cur = set()\n",
    "        i = 0\n",
    "        while i < len(nums):\n",
    "            if nums[i] not in cur:\n",
    "                cur.add(nums[i])\n",
    "                i += 1\n",
    "            else:\n",
    "                nums.pop(i)\n",
    "        return len(nums)\n",
    "    \n",
    "# solution 2: as the array is sorted, we can tell if one element is \n",
    "# duplicated by comparing to its next element\n",
    "class Solution:\n",
    "    def removeDuplicates(self, nums):\n",
    "        i = 0\n",
    "        while i < len(nums):\n",
    "            if i == (len(nums) - 1):\n",
    "                return len(nums)\n",
    "            elif nums[i] < nums[i+1]:\n",
    "                i += 1\n",
    "            else:\n",
    "                nums.pop(i)"
   ]
  },
  {
   "cell_type": "markdown",
   "metadata": {},
   "source": [
    "## Implement strStr()"
   ]
  },
  {
   "cell_type": "markdown",
   "metadata": {},
   "source": [
    "Pay attention to edge cases."
   ]
  },
  {
   "cell_type": "code",
   "execution_count": 63,
   "metadata": {},
   "outputs": [],
   "source": [
    "'''\n",
    "Return the index of the first occurrence of needle in haystack, or -1 if \n",
    "needle is not part of haystack, return 0 when needle is an empty string.\n",
    "\n",
    "Input: haystack = \"hello\", needle = \"ll\"\n",
    "Output: 2\n",
    "\n",
    "Input: haystack = \"aaaaa\", needle = \"bba\"\n",
    "Output: -1\n",
    "'''\n",
    "class Solution:\n",
    "    def strStr(self, haystack, needle):\n",
    "        if not needle:\n",
    "            return 0\n",
    "        \n",
    "        if len(needle) > len(haystack):\n",
    "            return -1\n",
    "            \n",
    "        nl = len(needle)\n",
    "        for i in range(len(haystack)-nl+1):\n",
    "            if haystack[i:i+nl] == needle:\n",
    "                return i\n",
    "        return -1"
   ]
  },
  {
   "cell_type": "markdown",
   "metadata": {},
   "source": [
    "## Maximum Subarray"
   ]
  },
  {
   "cell_type": "markdown",
   "metadata": {},
   "source": [
    "This is a good application of dynamic programming. To think about the quesion, ask how to find the solution for k items when we already know the solution for (k-1) items: we can either add item k to the existing subarray from last item, or start a new subarray, depends on which is larger. So we create a list to record the largest solution for nums[0:k], and finally take the maximum value from that list. "
   ]
  },
  {
   "cell_type": "code",
   "execution_count": 64,
   "metadata": {},
   "outputs": [],
   "source": [
    "'''\n",
    "Given an integer array nums, find the contiguous subarray (containing at least \n",
    "one number) which has the largest sum and return its sum.\n",
    "\n",
    "Input: [-2,1,-3,4,-1,2,1,-5,4],\n",
    "Output: 6\n",
    "Explanation: [4,-1,2,1] has the largest sum = 6.\n",
    "'''\n",
    "class Solution:\n",
    "    def maxSubArray(self, nums):\n",
    "        re = [0] * len(nums)\n",
    "        \n",
    "        re[0] = nums[0]\n",
    "        for i in range(1, len(nums)):\n",
    "            re[i] = max(nums[i], re[i-1]+nums[i])\n",
    "        \n",
    "        return max(re)"
   ]
  },
  {
   "cell_type": "markdown",
   "metadata": {},
   "source": [
    "## Plus One"
   ]
  },
  {
   "cell_type": "markdown",
   "metadata": {},
   "source": [
    "Quite naive question, just remember the right way to use 'map' and .join."
   ]
  },
  {
   "cell_type": "code",
   "execution_count": 71,
   "metadata": {},
   "outputs": [],
   "source": [
    "'''\n",
    "Given a non-empty array of digits representing a non-negative integer, increment\n",
    "one to the integer. The digits are stored such that the most significant digit \n",
    "is at the head of the list, and each element in the array contains a single digit.\n",
    "\n",
    "Input: [1,2,3]\n",
    "Output: [1,2,4]\n",
    "Explanation: The array represents the integer 123.\n",
    "'''\n",
    "class Solution:\n",
    "    def plusOne(self, digits):\n",
    "        str_list = list(map(str, digits))\n",
    "        new_num = int(''.join(str_list)) + 1\n",
    "        return list(str(new_num))"
   ]
  },
  {
   "cell_type": "code",
   "execution_count": null,
   "metadata": {},
   "outputs": [],
   "source": []
  }
 ],
 "metadata": {
  "kernelspec": {
   "display_name": "Python 3",
   "language": "python",
   "name": "python3"
  },
  "language_info": {
   "codemirror_mode": {
    "name": "ipython",
    "version": 3
   },
   "file_extension": ".py",
   "mimetype": "text/x-python",
   "name": "python",
   "nbconvert_exporter": "python",
   "pygments_lexer": "ipython3",
   "version": "3.6.8"
  }
 },
 "nbformat": 4,
 "nbformat_minor": 2
}
