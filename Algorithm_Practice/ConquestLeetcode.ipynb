{
 "cells": [
  {
   "cell_type": "markdown",
   "metadata": {},
   "source": [
    "# LeetCode Easy Popular"
   ]
  },
  {
   "cell_type": "markdown",
   "metadata": {},
   "source": [
    "## Reverse Integer"
   ]
  },
  {
   "cell_type": "code",
   "execution_count": 1,
   "metadata": {},
   "outputs": [],
   "source": [
    "'''\n",
    "Given a 32-bit signed integer, reverse digits of an integer.\n",
    "Assume we are dealing with an environment which could only store \n",
    "integers within the 32-bit signed integer range: [−231,  231 − 1]. \n",
    "For the purpose of this problem, assume that your function returns \n",
    "0 when the reversed integer overflows.\n",
    "\n",
    "Input: 123\n",
    "Output: 321\n",
    "\n",
    "Input: -123\n",
    "Output: -321\n",
    "\n",
    "Input: 120\n",
    "Output: 21\n",
    "'''\n",
    "class Solution:\n",
    "    def reverse(self, x: int) -> int:\n",
    "        if x < 0:\n",
    "            mark = -1\n",
    "        else:\n",
    "            mark = 1\n",
    "        \n",
    "        x_str = str(abs(x))\n",
    "        x_reverse = int(x_str[::-1]) * mark\n",
    "        \n",
    "        if -2**31 <= x_reverse <= 2**31 - 1:\n",
    "            return x_reverse\n",
    "        else:\n",
    "            return 0"
   ]
  },
  {
   "cell_type": "markdown",
   "metadata": {},
   "source": [
    "## Roman to Integer"
   ]
  },
  {
   "cell_type": "code",
   "execution_count": 2,
   "metadata": {},
   "outputs": [],
   "source": [
    "'''\n",
    "Convert Roman number to integer\n",
    "\n",
    "Input: \"LVIII\"\n",
    "Output: 58\n",
    "Explanation: L = 50, V= 5, III = 3.\n",
    "\n",
    "Input: \"MCMXCIV\"\n",
    "Output: 1994\n",
    "Explanation: M = 1000, CM = 900, XC = 90 and IV = 4.\n",
    "'''\n",
    "class Solution:\n",
    "    def romanToInt(self, s: str) -> int:\n",
    "        res = 0\n",
    "        local = 0\n",
    "        roman_dic = {'I':1, 'V':5, 'X':10, 'L':50, 'C':100, 'D':500, 'M':1000}\n",
    "        for i in s[::-1]:\n",
    "            if roman_dic[i] >= local:\n",
    "                res += roman_dic[i]\n",
    "                local = roman_dic[i]\n",
    "            else:\n",
    "                res -= roman_dic[i]\n",
    "        return res"
   ]
  },
  {
   "cell_type": "markdown",
   "metadata": {},
   "source": [
    "## Longest Common Prefix"
   ]
  },
  {
   "cell_type": "markdown",
   "metadata": {},
   "source": [
    "Use set to make sure all the letters from each string are same."
   ]
  },
  {
   "cell_type": "code",
   "execution_count": 44,
   "metadata": {},
   "outputs": [],
   "source": [
    "'''\n",
    "Write a function to find the longest common prefix string \n",
    "amongst an array of strings. If there is no common prefix, \n",
    "return an empty string \"\".\n",
    "\n",
    "Input: [\"flower\",\"flow\",\"flight\"]\n",
    "Output: \"fl\"\n",
    "\n",
    "Input: [\"dog\",\"racecar\",\"car\"]\n",
    "Output: \"\"\n",
    "'''\n",
    "class Solution:\n",
    "    def longestCommonPrefix(self, strs) -> str:\n",
    "        re = ''\n",
    "        if len(strs) == 0:\n",
    "            return re\n",
    "        \n",
    "        min_len = min([len(x) for x in strs])\n",
    "        for i in range(min_len):\n",
    "            if len(set([x[i] for x in strs])) == 1:\n",
    "                re += strs[0][i]\n",
    "            else:\n",
    "                break\n",
    "        return re"
   ]
  },
  {
   "cell_type": "markdown",
   "metadata": {},
   "source": [
    "## Merge Two Sorted Lists"
   ]
  },
  {
   "cell_type": "markdown",
   "metadata": {},
   "source": [
    "Notice re and cur is pointing to the same ListNode object, dummy is always at the initiated position, while cur is moving along the list (to update the next). "
   ]
  },
  {
   "cell_type": "code",
   "execution_count": 39,
   "metadata": {},
   "outputs": [],
   "source": [
    "'''\n",
    "Merge two sorted linked lists and return it as a new sorted list. \n",
    "The new list should be made by splicing together the nodes of \n",
    "the first two lists.\n",
    "\n",
    "Input: 1->2->4, 1->3->4\n",
    "Output: 1->1->2->3->4->4\n",
    "'''\n",
    "# Definition for singly-linked list.\n",
    "# class ListNode:\n",
    "#     def __init__(self, val=0, next=None):\n",
    "#         self.val = val\n",
    "#         self.next = next\n",
    "\n",
    "class Solution:\n",
    "    def mergeTwoLists(self, l1: ListNode, l2: ListNode) -> ListNode:\n",
    "        re = cur = ListNode(0)\n",
    "        while l1 and l2:\n",
    "            if l1.val <= l2.val:\n",
    "                cur.next = l1\n",
    "                l1 = l1.next\n",
    "            else:\n",
    "                cur.next = l2\n",
    "                l2 = l2.next\n",
    "            cur = cur.next\n",
    "        cur.next = l1 or l2\n",
    "        return re.next"
   ]
  },
  {
   "cell_type": "markdown",
   "metadata": {},
   "source": [
    "## Remove Duplicates from Sorted Array"
   ]
  },
  {
   "cell_type": "markdown",
   "metadata": {},
   "source": [
    "The point of this question is removing the duplicates **in-place**, as the input array is sorted, we can save the memory of a set, and tell if one element is duplicated by comparing it to its next element."
   ]
  },
  {
   "cell_type": "code",
   "execution_count": 48,
   "metadata": {},
   "outputs": [],
   "source": [
    "'''\n",
    "Given a sorted array nums, remove the duplicates in-place such that each \n",
    "element appear only once and return the new length. Do not allocate \n",
    "extra space for another array, you must do this by modifying the input \n",
    "array in-place with O(1) extra memory.\n",
    "\n",
    "Given nums = [1,1,2],\n",
    "Your function should return length = 2, with the first two elements of \n",
    "nums being 1 and 2 respectively.\n",
    "\n",
    "Given nums = [0,0,1,1,1,2,2,3,3,4],\n",
    "Your function should return length = 5, with the first five elements of \n",
    "nums being modified to 0, 1, 2, 3, and 4 respectively.\n",
    "'''\n",
    "# solution 1: use a set to tell if an element is duplicated\n",
    "class Solution:\n",
    "    def removeDuplicates(self, nums):\n",
    "        cur = set()\n",
    "        i = 0\n",
    "        while i < len(nums):\n",
    "            if nums[i] not in cur:\n",
    "                cur.add(nums[i])\n",
    "                i += 1\n",
    "            else:\n",
    "                nums.pop(i)\n",
    "        return len(nums)\n",
    "    \n",
    "# solution 2: as the array is sorted, we can tell if one element is \n",
    "# duplicated by comparing to its next element\n",
    "class Solution:\n",
    "    def removeDuplicates(self, nums):\n",
    "        i = 0\n",
    "        while i < len(nums):\n",
    "            if i == (len(nums) - 1):\n",
    "                return len(nums)\n",
    "            elif nums[i] < nums[i+1]:\n",
    "                i += 1\n",
    "            else:\n",
    "                nums.pop(i)"
   ]
  },
  {
   "cell_type": "markdown",
   "metadata": {},
   "source": [
    "## Implement strStr()"
   ]
  },
  {
   "cell_type": "markdown",
   "metadata": {},
   "source": [
    "Pay attention to edge cases."
   ]
  },
  {
   "cell_type": "code",
   "execution_count": 63,
   "metadata": {},
   "outputs": [],
   "source": [
    "'''\n",
    "Return the index of the first occurrence of needle in haystack, or -1 if \n",
    "needle is not part of haystack, return 0 when needle is an empty string.\n",
    "\n",
    "Input: haystack = \"hello\", needle = \"ll\"\n",
    "Output: 2\n",
    "\n",
    "Input: haystack = \"aaaaa\", needle = \"bba\"\n",
    "Output: -1\n",
    "'''\n",
    "class Solution:\n",
    "    def strStr(self, haystack, needle):\n",
    "        if not needle:\n",
    "            return 0\n",
    "        \n",
    "        if len(needle) > len(haystack):\n",
    "            return -1\n",
    "            \n",
    "        nl = len(needle)\n",
    "        for i in range(len(haystack)-nl+1):\n",
    "            if haystack[i:i+nl] == needle:\n",
    "                return i\n",
    "        return -1"
   ]
  },
  {
   "cell_type": "markdown",
   "metadata": {},
   "source": [
    "## Maximum Subarray"
   ]
  },
  {
   "cell_type": "markdown",
   "metadata": {},
   "source": [
    "This is a good application of dynamic programming. To think about the quesion, ask how to find the solution for k items when we already know the solution for (k-1) items: we can either add item k to the existing subarray from last item, or start a new subarray, depends on which is larger. So we create a list to record the largest solution for nums[0:k], and finally take the maximum value from that list. "
   ]
  },
  {
   "cell_type": "code",
   "execution_count": 64,
   "metadata": {},
   "outputs": [],
   "source": [
    "'''\n",
    "Given an integer array nums, find the contiguous subarray (containing at least \n",
    "one number) which has the largest sum and return its sum.\n",
    "\n",
    "Input: [-2,1,-3,4,-1,2,1,-5,4],\n",
    "Output: 6\n",
    "Explanation: [4,-1,2,1] has the largest sum = 6.\n",
    "'''\n",
    "class Solution:\n",
    "    def maxSubArray(self, nums):\n",
    "        re = [0] * len(nums)\n",
    "        \n",
    "        re[0] = nums[0]\n",
    "        for i in range(1, len(nums)):\n",
    "            re[i] = max(nums[i], re[i-1]+nums[i])\n",
    "        \n",
    "        return max(re)"
   ]
  },
  {
   "cell_type": "markdown",
   "metadata": {},
   "source": [
    "## Plus One"
   ]
  },
  {
   "cell_type": "markdown",
   "metadata": {},
   "source": [
    "Quite naive question, just remember the right way to use 'map' and .join."
   ]
  },
  {
   "cell_type": "code",
   "execution_count": 71,
   "metadata": {},
   "outputs": [],
   "source": [
    "'''\n",
    "Given a non-empty array of digits representing a non-negative integer, increment\n",
    "one to the integer. The digits are stored such that the most significant digit \n",
    "is at the head of the list, and each element in the array contains a single digit.\n",
    "\n",
    "Input: [1,2,3]\n",
    "Output: [1,2,4]\n",
    "Explanation: The array represents the integer 123.\n",
    "'''\n",
    "class Solution:\n",
    "    def plusOne(self, digits):\n",
    "        str_list = list(map(str, digits))\n",
    "        new_num = int(''.join(str_list)) + 1\n",
    "        return list(str(new_num))"
   ]
  },
  {
   "cell_type": "markdown",
   "metadata": {},
   "source": [
    "## Sqrt(x)"
   ]
  },
  {
   "cell_type": "markdown",
   "metadata": {},
   "source": [
    "This is a good application of binary search."
   ]
  },
  {
   "cell_type": "code",
   "execution_count": 73,
   "metadata": {},
   "outputs": [],
   "source": [
    "'''\n",
    "Implement int sqrt(int x). Compute and return the square root of \n",
    "x, where x is guaranteed to be a non-negative integer.\n",
    "\n",
    "Input: 8\n",
    "Output: 2\n",
    "Explanation: The square root of 8 is 2.82842..., and since \n",
    "the decimal part is truncated, 2 is returned.\n",
    "'''\n",
    "# Solution 1, naive way, loop from 0\n",
    "class Solution:\n",
    "    def mySqrt(self, x):\n",
    "        for i in range(x+1):\n",
    "            sq = i**2\n",
    "            if sq < x:\n",
    "                pass\n",
    "            elif sq == x:\n",
    "                return i\n",
    "            else:\n",
    "                return (i-1)\n",
    "            \n",
    "# Solution 2, binary search, O(logn)\n",
    "class Solution:\n",
    "    def mySqrt(self, x):\n",
    "        l = 0\n",
    "        r = x\n",
    "        while l <= r:\n",
    "            mid = l + (r - l)//2\n",
    "            if mid**2 <= x < (mid+1)**2:\n",
    "                return mid\n",
    "            elif x < mid**2:\n",
    "                r = mid\n",
    "            else:\n",
    "                l = mid+1"
   ]
  },
  {
   "cell_type": "markdown",
   "metadata": {},
   "source": [
    "## Climbing Stairs"
   ]
  },
  {
   "cell_type": "markdown",
   "metadata": {},
   "source": [
    "Very simple dynamic programming case."
   ]
  },
  {
   "cell_type": "code",
   "execution_count": 74,
   "metadata": {},
   "outputs": [],
   "source": [
    "'''\n",
    "You are climbing a stair case. It takes n steps to reach to the top.\n",
    "Each time you can either climb 1 or 2 steps. In how many distinct \n",
    "ways can you climb to the top?\n",
    "\n",
    "Input: 2\n",
    "Output: 2\n",
    "Explanation: There are two ways to climb to the top.\n",
    "\n",
    "Input: 3\n",
    "Output: 3\n",
    "Explanation: There are three ways to climb to the top.\n",
    "'''\n",
    "class Solution:\n",
    "    def climbStairs(self, n):\n",
    "        if n == 1:\n",
    "            return 1\n",
    "        if n == 2:\n",
    "            return 2\n",
    "        \n",
    "        t_1 = 1\n",
    "        t_2 = 2\n",
    "        for i in range(2, n):\n",
    "            t = t_1 + t_2\n",
    "            t_1 = t_2\n",
    "            t_2 = t\n",
    "            \n",
    "        return t"
   ]
  },
  {
   "cell_type": "markdown",
   "metadata": {},
   "source": [
    "## Merge Sorted Array"
   ]
  },
  {
   "cell_type": "markdown",
   "metadata": {},
   "source": [
    "Just a list manipulation, the difficult part is we need to do it in place. Think about what is the easiest direction to do it? from left to right or from right to left?"
   ]
  },
  {
   "cell_type": "code",
   "execution_count": 102,
   "metadata": {},
   "outputs": [],
   "source": [
    "'''\n",
    "Given two sorted integer arrays nums1 and nums2, merge nums2 into nums1 \n",
    "as one sorted array. The number of elements initialized in nums1 and \n",
    "nums2 are m and n respectively. You may assume that nums1 has enough space \n",
    "(size that is equal to m + n) to hold additional elements from nums2.\n",
    "\n",
    "Input:\n",
    "nums1 = [1,2,3,0,0,0], m = 3\n",
    "nums2 = [2,5,6],       n = 3\n",
    "\n",
    "Output: [1,2,2,3,5,6]\n",
    "'''\n",
    "# Solution 1, directly do it from left to right\n",
    "class Solution:\n",
    "    def merge(self, nums1, m, nums2, n):\n",
    "        \"\"\"\n",
    "        Do not return anything, modify nums1 in-place instead.\n",
    "        \"\"\"\n",
    "        i = 0\n",
    "        j = 0\n",
    "        while ((i - j) < m) and (j < n):\n",
    "            if nums1[i] <= nums2[j]:\n",
    "                i += 1\n",
    "            else:\n",
    "                nums1[i+1:(m+j+1)] = nums1[i:(m+j)]\n",
    "                nums1[i] = nums2[j]\n",
    "                i += 1\n",
    "                j += 1\n",
    "        \n",
    "        if (i-j) == m:\n",
    "            nums1[i:n+i-j] = nums2[j:n]\n",
    "\n",
    "# Solution 2, change the direction then we don't need to worry about moving elements\n",
    "class Solution(object):\n",
    "    def merge(self, nums1, m, nums2, n):\n",
    "        while m > 0 and n > 0:\n",
    "            if nums1[m - 1] > nums2[n - 1]:\n",
    "                nums1[m + n - 1] = nums1[m - 1]\n",
    "                m -= 1\n",
    "            else:\n",
    "                nums1[m + n - 1] = nums2[n - 1]\n",
    "                n -= 1\n",
    "        nums1[:n] = nums2[:n]"
   ]
  },
  {
   "cell_type": "markdown",
   "metadata": {},
   "source": [
    "## Convert Sorted Array to Binary Search Tree"
   ]
  },
  {
   "cell_type": "markdown",
   "metadata": {},
   "source": [
    "Understand the BST structure and be familiar with the typical way (recursion) to build it."
   ]
  },
  {
   "cell_type": "code",
   "execution_count": 103,
   "metadata": {},
   "outputs": [],
   "source": [
    "'''\n",
    "Given an array where elements are sorted in ascending order, convert it to a height balanced BST.\n",
    "\n",
    "Given the sorted array: [-10,-3,0,5,9]:\n",
    "One possible answer is: [0,-3,9,-10,null,5], which represents the following height balanced BST:\n",
    "\n",
    "      0\n",
    "     / \\\n",
    "   -3   9\n",
    "   /   /\n",
    " -10  5\n",
    "'''\n",
    "# Definition for a binary tree node.\n",
    "# class TreeNode:\n",
    "#     def __init__(self, val=0, left=None, right=None):\n",
    "#         self.val = val\n",
    "#         self.left = left\n",
    "#         self.right = right\n",
    "class Solution:\n",
    "    def sortedArrayToBST(self, nums):\n",
    "        if not nums:\n",
    "            return None\n",
    "        \n",
    "        mid = len(nums)//2\n",
    "        \n",
    "        re = TreeNode(nums[mid])\n",
    "        re.left = self.sortedArrayToBST(nums[:mid])\n",
    "        re.right = self.sortedArrayToBST(nums[mid+1:])\n",
    "        \n",
    "        return re"
   ]
  },
  {
   "cell_type": "markdown",
   "metadata": {},
   "source": [
    "## Best Time to Buy and Sell Stock"
   ]
  },
  {
   "cell_type": "markdown",
   "metadata": {},
   "source": [
    "We can treat this a dynamic programming prolem: what information do we need from previous (n-1) steps to make decision at step n?"
   ]
  },
  {
   "cell_type": "code",
   "execution_count": 104,
   "metadata": {},
   "outputs": [],
   "source": [
    "'''\n",
    "Say you have an array for which the ith element is the price \n",
    "of a given stock on day i. If you were only permitted to \n",
    "complete at most one transaction (i.e., buy one and sell one \n",
    "share of the stock), design an algorithm to find the maximum \n",
    "profit. Note that you cannot sell a stock before you buy one.\n",
    "\n",
    "Input: [7,1,5,3,6,4]\n",
    "Output: 5\n",
    "Explanation: \n",
    "Buy on day 2 (price = 1) and sell on day 5 (price = 6), profit = 6-1 = 5.\n",
    "Not 7-1 = 6, as selling price needs to be larger than buying price.\n",
    "'''\n",
    "class Solution:\n",
    "    def maxProfit(self, prices):\n",
    "        if not prices:\n",
    "            return 0\n",
    "        \n",
    "        re = [0]*len(prices)\n",
    "        min_price = prices[0]\n",
    "        \n",
    "        for i in range(len(prices)):\n",
    "            re[i] = max(0, prices[i] - min_price)\n",
    "            min_price = min(min_price, prices[i])\n",
    "        \n",
    "        return max(re)"
   ]
  },
  {
   "cell_type": "markdown",
   "metadata": {},
   "source": [
    "## Best Time to Buy and Sell Stock II"
   ]
  },
  {
   "cell_type": "markdown",
   "metadata": {},
   "source": [
    "In this case, when to sell doesn't matter, just sell the stock whenever we see there's profit."
   ]
  },
  {
   "cell_type": "code",
   "execution_count": 105,
   "metadata": {},
   "outputs": [],
   "source": [
    "'''\n",
    "Design an algorithm to find the maximum profit. You may complete as \n",
    "many transactions as you like (i.e., buy one and sell one share of \n",
    "the stock multiple times). You may not engage in multiple transactions \n",
    "at the same time (i.e., you must sell the stock before you buy again).\n",
    "\n",
    "Input: [7,1,5,3,6,4]\n",
    "Output: 7\n",
    "Explanation: \n",
    "Buy on day 2 (price = 1) and sell on day 3 (price = 5), profit = 5-1 = 4.\n",
    "Then buy on day 4 (price = 3) and sell on day 5 (price = 6), profit = 6-3 = 3.\n",
    "'''\n",
    "class Solution:\n",
    "    def maxProfit(self, prices):\n",
    "        if not prices or len(prices) == 1:\n",
    "            return 0\n",
    "        \n",
    "        re = 0\n",
    "        for i in range(1, len(prices)):\n",
    "            if prices[i] > prices[i-1]:\n",
    "                re += (prices[i] - prices[i-1])\n",
    "        return re"
   ]
  },
  {
   "cell_type": "markdown",
   "metadata": {},
   "source": [
    "## Valid Palindrome"
   ]
  },
  {
   "cell_type": "markdown",
   "metadata": {},
   "source": [
    "A string manipulation problem. In this case we didn't create a clean string first, why? Because we don't want to create extra memory and we don't want to do an extra traverse for the string. The two pointer method below is quite efficient. BTW, .isalnum() is a useful method to tell if the characters is alphanumeric (letter or number).  "
   ]
  },
  {
   "cell_type": "code",
   "execution_count": 107,
   "metadata": {},
   "outputs": [],
   "source": [
    "'''\n",
    "Given a string, determine if it is a palindrome, considering only alphanumeric \n",
    "characters and ignoring cases. For the purpose of this problem, we define empty \n",
    "string as valid palindrome.\n",
    "\n",
    "Input: \"A man, a plan, a canal: Panama\"\n",
    "Output: true\n",
    "\n",
    "Input: \"race a car\"\n",
    "Output: false\n",
    "'''\n",
    "class Solution:\n",
    "    def isPalindrome(self, s):\n",
    "        if not s:\n",
    "            return True\n",
    "        \n",
    "        l, r = 0, len(s)-1\n",
    "        \n",
    "        while l < r:\n",
    "            if not s[l].isalnum():\n",
    "                l += 1\n",
    "            elif not s[r].isalnum():\n",
    "                r -= 1\n",
    "            else:\n",
    "                if s[l].lower() != s[r].lower():\n",
    "                    return False\n",
    "                l += 1\n",
    "                r -= 1\n",
    "        return True"
   ]
  },
  {
   "cell_type": "markdown",
   "metadata": {},
   "source": [
    "## Single Number"
   ]
  },
  {
   "cell_type": "markdown",
   "metadata": {},
   "source": [
    "Notice the different time and space compexity of each solution."
   ]
  },
  {
   "cell_type": "code",
   "execution_count": 109,
   "metadata": {},
   "outputs": [],
   "source": [
    "'''\n",
    "Given a non-empty array of integers, every element appears twice except for \n",
    "one. Find that single one. Your algorithm should have a linear runtime complexity. \n",
    "Could you implement it without using extra memory?\n",
    "\n",
    "Input: [2,2,1]\n",
    "Output: 1\n",
    "\n",
    "Input: [4,1,2,1,2]\n",
    "Output: 4\n",
    "'''\n",
    "# Solution 1, use a list to contain visited numbers\n",
    "class Solution:\n",
    "    def singleNumber(self, nums):\n",
    "        re = []\n",
    "        for i in nums:\n",
    "            if i in re:\n",
    "                re.remove(i)\n",
    "            else:\n",
    "                re.append(i)\n",
    "        return re[0]\n",
    "\n",
    "    \n",
    "# Solution 2, a smart way to calculate the single number\n",
    "def singleNumber(self, nums):\n",
    "    return 2*sum(set(nums))-sum(nums)\n",
    "\n",
    "\n",
    "# Solution 3, take advantage of XOR\n",
    "class Solution:\n",
    "    def singleNumber(self, nums):\n",
    "        # If we take XOR of zero and some bit, it will return that bit\n",
    "        # a XOR 0 = a, a XOR 0=a\n",
    "        # If we take XOR of two same bits, it will return 0\n",
    "        # a XOR a = 0 a XOR a=0\n",
    "        # a XOR b XOR a = (a XOR a) XOR b = 0 XOR b = b \n",
    "        # a⊕b⊕a=(a⊕a)⊕b=0⊕b=b\n",
    "        # So we can XOR all bits together to find the unique number.\n",
    "        \n",
    "        a = 0\n",
    "        for i in nums:\n",
    "            a ^= i\n",
    "        return a"
   ]
  },
  {
   "cell_type": "markdown",
   "metadata": {},
   "source": [
    "## Linked List Cycle"
   ]
  },
  {
   "cell_type": "markdown",
   "metadata": {},
   "source": [
    "This is a very classical linked list case. We define two pointers, one is slow and one is fast. If there is an cycle, eventually the fast pointer will catch up the slower one.  "
   ]
  },
  {
   "cell_type": "code",
   "execution_count": 110,
   "metadata": {},
   "outputs": [],
   "source": [
    "'''\n",
    "Given a linked list, determine if it has a cycle in it.\n",
    "\n",
    "Input: head = [3,2,0,-4], pos = 1\n",
    "Output: true\n",
    "Explanation: There is a cycle in the linked list, where tail connects to the second node.\n",
    "\n",
    "Input: head = [1], pos = -1\n",
    "Output: false\n",
    "Explanation: There is no cycle in the linked list.\n",
    "'''\n",
    "# Definition for singly-linked list.\n",
    "# class ListNode:\n",
    "#     def __init__(self, x):\n",
    "#         self.val = x\n",
    "#         self.next = None\n",
    "\n",
    "class Solution:\n",
    "    def hasCycle(self, head):\n",
    "        slow = fast = head\n",
    "        while fast and fast.next:\n",
    "            slow = slow.next\n",
    "            fast = fast.next.next\n",
    "            if slow == fast:\n",
    "                return True\n",
    "                \n",
    "        return False"
   ]
  },
  {
   "cell_type": "markdown",
   "metadata": {},
   "source": [
    "## Intersection of Two Linked Lists"
   ]
  },
  {
   "cell_type": "markdown",
   "metadata": {},
   "source": [
    "Again, this is a very classical case. In the below solution, for listA and listB, we create listA+listB and listB+listA. If they have an intersection, they will be same at some point, if they don't have an intersection, they will both be None at the end of the concat list. "
   ]
  },
  {
   "cell_type": "code",
   "execution_count": 111,
   "metadata": {},
   "outputs": [],
   "source": [
    "'''\n",
    "Write a program to find the node at which the intersection of two singly linked lists begins.\n",
    "\n",
    "Input: intersectVal = 8, listA = [4,1,8,4,5], listB = [5,6,1,8,4,5], skipA = 2, skipB = 3\n",
    "Output: Reference of the node with value = 8\n",
    "\n",
    "Input: intersectVal = 2, listA = [1,9,1,2,4], listB = [3,2,4], skipA = 3, skipB = 1\n",
    "Output: Reference of the node with value = 2\n",
    "'''\n",
    "# Definition for singly-linked list.\n",
    "# class ListNode:\n",
    "#     def __init__(self, x):\n",
    "#         self.val = x\n",
    "#         self.next = None\n",
    "\n",
    "class Solution:\n",
    "    def getIntersectionNode(self, headA, headB):\n",
    "        a, b = headA, headB\n",
    "        while a != b:\n",
    "            if not a:\n",
    "                a = headB\n",
    "            else:\n",
    "                a = a.next\n",
    "                \n",
    "            if not b:\n",
    "                b = headA\n",
    "            else:\n",
    "                b = b.next\n",
    "            \n",
    "        return a"
   ]
  },
  {
   "cell_type": "markdown",
   "metadata": {},
   "source": [
    "## Majority Element"
   ]
  },
  {
   "cell_type": "markdown",
   "metadata": {},
   "source": [
    "Find the majority element. There are many solutions, think about the time and space complexity of them."
   ]
  },
  {
   "cell_type": "code",
   "execution_count": 121,
   "metadata": {},
   "outputs": [],
   "source": [
    "'''\n",
    "Given an array of size n, find the majority element. The majority element \n",
    "is the element that appears more than ⌊ n/2 ⌋ times. You may assume that \n",
    "the array is non-empty and the majority element always exist in the array.\n",
    "\n",
    "Input: [3,2,3]\n",
    "Output: 3\n",
    "\n",
    "Input: [2,2,1,1,1,2,2]\n",
    "Output: 2\n",
    "'''\n",
    "# Solution 1, use a dictionary to record the element counts\n",
    "class Solution:\n",
    "    def majorityElement(self, nums):\n",
    "        dic = {}\n",
    "        for num in nums:\n",
    "            if num not in dic.keys():\n",
    "                dic[num] = 1\n",
    "            else:\n",
    "                dic[num] += 1\n",
    "                \n",
    "            if dic[num] > len(nums)//2:\n",
    "                return num\n",
    "\n",
    "# Solution 2, sorting the list first. It's a short solution but not quite efficient\n",
    "class Solution:\n",
    "    def majorityElement(self, nums):\n",
    "        return sorted(nums)[len(nums)//2]"
   ]
  },
  {
   "cell_type": "markdown",
   "metadata": {},
   "source": [
    "## Excel Sheet Column Number"
   ]
  },
  {
   "cell_type": "markdown",
   "metadata": {},
   "source": [
    "There's nothing tricky in this case, just remember ord() can return the unicode code of a character. "
   ]
  },
  {
   "cell_type": "code",
   "execution_count": 124,
   "metadata": {},
   "outputs": [],
   "source": [
    "'''\n",
    "Given a column title as appear in an Excel sheet, return its corresponding column number.\n",
    "\n",
    "Input: \"A\"\n",
    "Output: 1\n",
    "\n",
    "Input: \"AB\"\n",
    "Output: 28\n",
    "\n",
    "Input: \"ZY\"\n",
    "Output: 701\n",
    "'''\n",
    "class Solution:\n",
    "    def titleToNumber(self, s):\n",
    "        re = 0\n",
    "        for i in s:\n",
    "            re = re*26 + ord(i) - ord('A') + 1\n",
    "        return re"
   ]
  },
  {
   "cell_type": "markdown",
   "metadata": {},
   "source": [
    "## Factorial Trailing Zeroes"
   ]
  },
  {
   "cell_type": "markdown",
   "metadata": {},
   "source": [
    "Only 5 * 2 can create 0, there are enough 2, so the only point is to figure out how many 5 are there. #0 = floor(100/5) + floor(100/25) + ... = floor(100/5) + floor((100/5)/5) + ... "
   ]
  },
  {
   "cell_type": "code",
   "execution_count": 146,
   "metadata": {},
   "outputs": [],
   "source": [
    "'''\n",
    "Given an integer n, return the number of trailing zeroes in n!.\n",
    "\n",
    "Input: 3\n",
    "Output: 0\n",
    "Explanation: 3! = 6, no trailing zero.\n",
    "\n",
    "Input: 5\n",
    "Output: 1\n",
    "Explanation: 5! = 120, one trailing zero.\n",
    "'''\n",
    "class Solution:\n",
    "    def trailingZeroes(self, n):\n",
    "        re = 0\n",
    "        i = 1\n",
    "        while n >= 5**i:\n",
    "            re += n//(5**i)\n",
    "            i += 1\n",
    "        return re"
   ]
  },
  {
   "cell_type": "markdown",
   "metadata": {},
   "source": [
    "## Rotate Array"
   ]
  },
  {
   "cell_type": "markdown",
   "metadata": {},
   "source": [
    "This is a simple problem, but to minize the time and space complexity is difficult. The solution below has O(n) time complexity and O(1) space complexity. We are using a **Cyclic Replacements** method here. "
   ]
  },
  {
   "cell_type": "code",
   "execution_count": 152,
   "metadata": {},
   "outputs": [],
   "source": [
    "'''\n",
    "Given an array, rotate the array to the right by k steps, where k is non-negative.\n",
    "Could you do it in-place with O(1) extra space?\n",
    "\n",
    "Input: nums = [1,2,3,4,5,6,7], k = 3\n",
    "Output: [5,6,7,1,2,3,4]\n",
    "\n",
    "Input: nums = [-1,-100,3,99], k = 2\n",
    "Output: [3,99,-1,-100]\n",
    "'''\n",
    "class Solution:\n",
    "    def rotate(self, nums, k):\n",
    "        \"\"\"\n",
    "        Do not return anything, modify nums in-place instead.\n",
    "        \"\"\"\n",
    "        k %= len(nums)\n",
    "        \n",
    "        count = 0 # count the number of switches\n",
    "        start = 0 # start point of each inner loop\n",
    "        \n",
    "        while count < len(nums):\n",
    "            cur = start # intiate the inner loop starting point\n",
    "            pre_val = nums[cur]\n",
    "            \n",
    "            while True:\n",
    "                cur = (cur + k) % len(nums)\n",
    "                tmp = nums[cur]\n",
    "                nums[cur] = pre_val\n",
    "                pre_val = tmp\n",
    "                count += 1\n",
    "                if cur == start:\n",
    "                    break\n",
    "            start += 1"
   ]
  },
  {
   "cell_type": "markdown",
   "metadata": {},
   "source": [
    "## Reverse Bits"
   ]
  },
  {
   "cell_type": "markdown",
   "metadata": {},
   "source": [
    "Be familiar with the bits conversion."
   ]
  },
  {
   "cell_type": "code",
   "execution_count": 153,
   "metadata": {},
   "outputs": [],
   "source": [
    "'''\n",
    "Reverse bits of a given 32 bits unsigned integer.\n",
    "\n",
    "Input: 43261596\n",
    "Output: 964176192\n",
    "Explanation: The input binary string 00000010100101000001111010011100 represents \n",
    "the unsigned integer 43261596, so return 964176192 which its binary representation \n",
    "is 00111001011110000010100101000000.\n",
    "'''\n",
    "class Solution:\n",
    "    def reverseBits(self, n):\n",
    "        re = 0\n",
    "        for i in range(32):\n",
    "            re = re*2 + n%2\n",
    "            n //= 2\n",
    "        return re"
   ]
  },
  {
   "cell_type": "markdown",
   "metadata": {},
   "source": [
    "## Number of 1 Bits"
   ]
  },
  {
   "cell_type": "markdown",
   "metadata": {},
   "source": [
    "Nothing specific, just be familiar with bits conversion."
   ]
  },
  {
   "cell_type": "code",
   "execution_count": 154,
   "metadata": {},
   "outputs": [],
   "source": [
    "'''\n",
    "Write a function that takes an unsigned integer and return the number of '1' bits \n",
    "it has (also known as the Hamming weight).\n",
    "\n",
    "Input: 11\n",
    "Output: 3\n",
    "Explanation: The input binary string 00000000000000000000000000001011 has a total of three '1' bits.\n",
    "'''\n",
    "class Solution:\n",
    "    def hammingWeight(self, n):\n",
    "        cnt = 0\n",
    "        while n >= 1:\n",
    "            if n%2 == 1:\n",
    "                cnt += 1\n",
    "            n //= 2\n",
    "        return cnt"
   ]
  },
  {
   "cell_type": "markdown",
   "metadata": {},
   "source": [
    "## House Robber"
   ]
  },
  {
   "cell_type": "markdown",
   "metadata": {},
   "source": [
    "A very interesting dynamic programming problem. What information do we need to make a decition at step K? There are two case: \n",
    "* If we don't rob house K, our max money would be the max of rob (K-1) or not rob (K-1). \n",
    "* If we rob house K, our max money would be not rob (K-1) plus the money in house K. \n",
    "\n",
    "So at each step, we need to record two values: rob or not rob."
   ]
  },
  {
   "cell_type": "code",
   "execution_count": 155,
   "metadata": {},
   "outputs": [],
   "source": [
    "'''\n",
    "You are a professional robber planning to rob houses along a street. Each house \n",
    "has a certain amount of money stashed, the only constraint stopping you from robbing \n",
    "each of them is that adjacent houses have security system connected and it will \n",
    "automatically contact the police if two adjacent houses were broken into on the same \n",
    "night. Given a list of non-negative integers representing the amount of money of \n",
    "each house, determine the maximum amount of money you can rob tonight without \n",
    "alerting the police.\n",
    "\n",
    "Input: nums = [1,2,3,1]\n",
    "Output: 4\n",
    "Explanation: Rob house 1 (money = 1) and then rob house 3 (money = 3).\n",
    "\n",
    "Input: nums = [2,7,9,3,1]\n",
    "Output: 12\n",
    "Explanation: Rob house 1 (money = 2), rob house 3 (money = 9) and rob house 5 (money = 1).\n",
    "'''\n",
    "class Solution:\n",
    "    def rob(self, nums):\n",
    "        rob = no_rob = 0\n",
    "        for n in nums:\n",
    "            rob, no_rob = no_rob + n, max(rob, no_rob)\n",
    "        return max(rob, no_rob)"
   ]
  },
  {
   "cell_type": "code",
   "execution_count": null,
   "metadata": {},
   "outputs": [],
   "source": []
  }
 ],
 "metadata": {
  "kernelspec": {
   "display_name": "Python 3",
   "language": "python",
   "name": "python3"
  },
  "language_info": {
   "codemirror_mode": {
    "name": "ipython",
    "version": 3
   },
   "file_extension": ".py",
   "mimetype": "text/x-python",
   "name": "python",
   "nbconvert_exporter": "python",
   "pygments_lexer": "ipython3",
   "version": "3.6.8"
  }
 },
 "nbformat": 4,
 "nbformat_minor": 2
}
