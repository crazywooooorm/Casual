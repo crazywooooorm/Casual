{
 "cells": [
  {
   "cell_type": "markdown",
   "metadata": {},
   "source": [
    "# LeetCode Easy Popular"
   ]
  },
  {
   "cell_type": "markdown",
   "metadata": {},
   "source": [
    "## Reverse Integer"
   ]
  },
  {
   "cell_type": "code",
   "execution_count": 1,
   "metadata": {},
   "outputs": [],
   "source": [
    "'''\n",
    "Given a 32-bit signed integer, reverse digits of an integer.\n",
    "Assume we are dealing with an environment which could only store \n",
    "integers within the 32-bit signed integer range: [−231,  231 − 1]. \n",
    "For the purpose of this problem, assume that your function returns \n",
    "0 when the reversed integer overflows.\n",
    "\n",
    "Input: 123\n",
    "Output: 321\n",
    "\n",
    "Input: -123\n",
    "Output: -321\n",
    "\n",
    "Input: 120\n",
    "Output: 21\n",
    "'''\n",
    "class Solution:\n",
    "    def reverse(self, x: int) -> int:\n",
    "        if x < 0:\n",
    "            mark = -1\n",
    "        else:\n",
    "            mark = 1\n",
    "        \n",
    "        x_str = str(abs(x))\n",
    "        x_reverse = int(x_str[::-1]) * mark\n",
    "        \n",
    "        if -2**31 <= x_reverse <= 2**31 - 1:\n",
    "            return x_reverse\n",
    "        else:\n",
    "            return 0"
   ]
  },
  {
   "cell_type": "markdown",
   "metadata": {},
   "source": [
    "## Roman to Integer"
   ]
  },
  {
   "cell_type": "code",
   "execution_count": 2,
   "metadata": {},
   "outputs": [],
   "source": [
    "'''\n",
    "Convert Roman number to integer\n",
    "\n",
    "Input: \"LVIII\"\n",
    "Output: 58\n",
    "Explanation: L = 50, V= 5, III = 3.\n",
    "\n",
    "Input: \"MCMXCIV\"\n",
    "Output: 1994\n",
    "Explanation: M = 1000, CM = 900, XC = 90 and IV = 4.\n",
    "'''\n",
    "class Solution:\n",
    "    def romanToInt(self, s: str) -> int:\n",
    "        res = 0\n",
    "        local = 0\n",
    "        roman_dic = {'I':1, 'V':5, 'X':10, 'L':50, 'C':100, 'D':500, 'M':1000}\n",
    "        for i in s[::-1]:\n",
    "            if roman_dic[i] >= local:\n",
    "                res += roman_dic[i]\n",
    "                local = roman_dic[i]\n",
    "            else:\n",
    "                res -= roman_dic[i]\n",
    "        return res"
   ]
  },
  {
   "cell_type": "markdown",
   "metadata": {},
   "source": [
    "## Longest Common Prefix"
   ]
  },
  {
   "cell_type": "markdown",
   "metadata": {},
   "source": [
    "Use set to make sure all the letters from each string are same."
   ]
  },
  {
   "cell_type": "code",
   "execution_count": 44,
   "metadata": {},
   "outputs": [],
   "source": [
    "'''\n",
    "Write a function to find the longest common prefix string \n",
    "amongst an array of strings. If there is no common prefix, \n",
    "return an empty string \"\".\n",
    "\n",
    "Input: [\"flower\",\"flow\",\"flight\"]\n",
    "Output: \"fl\"\n",
    "\n",
    "Input: [\"dog\",\"racecar\",\"car\"]\n",
    "Output: \"\"\n",
    "'''\n",
    "class Solution:\n",
    "    def longestCommonPrefix(self, strs) -> str:\n",
    "        re = ''\n",
    "        if len(strs) == 0:\n",
    "            return re\n",
    "        \n",
    "        min_len = min([len(x) for x in strs])\n",
    "        for i in range(min_len):\n",
    "            if len(set([x[i] for x in strs])) == 1:\n",
    "                re += strs[0][i]\n",
    "            else:\n",
    "                break\n",
    "        return re"
   ]
  },
  {
   "cell_type": "markdown",
   "metadata": {},
   "source": [
    "## Merge Two Sorted Lists"
   ]
  },
  {
   "cell_type": "markdown",
   "metadata": {},
   "source": [
    "Notice re and cur is pointing to the same ListNode object, dummy is always at the initiated position, while cur is moving along the list (to update the next). "
   ]
  },
  {
   "cell_type": "code",
   "execution_count": 39,
   "metadata": {},
   "outputs": [],
   "source": [
    "'''\n",
    "Merge two sorted linked lists and return it as a new sorted list. \n",
    "The new list should be made by splicing together the nodes of \n",
    "the first two lists.\n",
    "\n",
    "Input: 1->2->4, 1->3->4\n",
    "Output: 1->1->2->3->4->4\n",
    "'''\n",
    "# Definition for singly-linked list.\n",
    "# class ListNode:\n",
    "#     def __init__(self, val=0, next=None):\n",
    "#         self.val = val\n",
    "#         self.next = next\n",
    "\n",
    "class Solution:\n",
    "    def mergeTwoLists(self, l1: ListNode, l2: ListNode) -> ListNode:\n",
    "        re = cur = ListNode(0)\n",
    "        while l1 and l2:\n",
    "            if l1.val <= l2.val:\n",
    "                cur.next = l1\n",
    "                l1 = l1.next\n",
    "            else:\n",
    "                cur.next = l2\n",
    "                l2 = l2.next\n",
    "            cur = cur.next\n",
    "        cur.next = l1 or l2\n",
    "        return re.next"
   ]
  },
  {
   "cell_type": "markdown",
   "metadata": {},
   "source": [
    "## Remove Duplicates from Sorted Array"
   ]
  },
  {
   "cell_type": "markdown",
   "metadata": {},
   "source": [
    "The point of this question is removing the duplicates **in-place**, as the input array is sorted, we can save the memory of a set, and tell if one element is duplicated by comparing it to its next element."
   ]
  },
  {
   "cell_type": "code",
   "execution_count": 48,
   "metadata": {},
   "outputs": [],
   "source": [
    "'''\n",
    "Given a sorted array nums, remove the duplicates in-place such that each \n",
    "element appear only once and return the new length. Do not allocate \n",
    "extra space for another array, you must do this by modifying the input \n",
    "array in-place with O(1) extra memory.\n",
    "\n",
    "Given nums = [1,1,2],\n",
    "Your function should return length = 2, with the first two elements of \n",
    "nums being 1 and 2 respectively.\n",
    "\n",
    "Given nums = [0,0,1,1,1,2,2,3,3,4],\n",
    "Your function should return length = 5, with the first five elements of \n",
    "nums being modified to 0, 1, 2, 3, and 4 respectively.\n",
    "'''\n",
    "# solution 1: use a set to tell if an element is duplicated\n",
    "class Solution:\n",
    "    def removeDuplicates(self, nums):\n",
    "        cur = set()\n",
    "        i = 0\n",
    "        while i < len(nums):\n",
    "            if nums[i] not in cur:\n",
    "                cur.add(nums[i])\n",
    "                i += 1\n",
    "            else:\n",
    "                nums.pop(i)\n",
    "        return len(nums)\n",
    "    \n",
    "# solution 2: as the array is sorted, we can tell if one element is \n",
    "# duplicated by comparing to its next element\n",
    "class Solution:\n",
    "    def removeDuplicates(self, nums):\n",
    "        i = 0\n",
    "        while i < len(nums):\n",
    "            if i == (len(nums) - 1):\n",
    "                return len(nums)\n",
    "            elif nums[i] < nums[i+1]:\n",
    "                i += 1\n",
    "            else:\n",
    "                nums.pop(i)"
   ]
  },
  {
   "cell_type": "markdown",
   "metadata": {},
   "source": [
    "## Implement strStr()"
   ]
  },
  {
   "cell_type": "markdown",
   "metadata": {},
   "source": [
    "Pay attention to edge cases."
   ]
  },
  {
   "cell_type": "code",
   "execution_count": 63,
   "metadata": {},
   "outputs": [],
   "source": [
    "'''\n",
    "Return the index of the first occurrence of needle in haystack, or -1 if \n",
    "needle is not part of haystack, return 0 when needle is an empty string.\n",
    "\n",
    "Input: haystack = \"hello\", needle = \"ll\"\n",
    "Output: 2\n",
    "\n",
    "Input: haystack = \"aaaaa\", needle = \"bba\"\n",
    "Output: -1\n",
    "'''\n",
    "class Solution:\n",
    "    def strStr(self, haystack, needle):\n",
    "        if not needle:\n",
    "            return 0\n",
    "        \n",
    "        if len(needle) > len(haystack):\n",
    "            return -1\n",
    "            \n",
    "        nl = len(needle)\n",
    "        for i in range(len(haystack)-nl+1):\n",
    "            if haystack[i:i+nl] == needle:\n",
    "                return i\n",
    "        return -1"
   ]
  },
  {
   "cell_type": "markdown",
   "metadata": {},
   "source": [
    "## Maximum Subarray"
   ]
  },
  {
   "cell_type": "markdown",
   "metadata": {},
   "source": [
    "This is a good application of dynamic programming. To think about the quesion, ask how to find the solution for k items when we already know the solution for (k-1) items: we can either add item k to the existing subarray from last item, or start a new subarray, depends on which is larger. So we create a list to record the largest solution for nums[0:k], and finally take the maximum value from that list. "
   ]
  },
  {
   "cell_type": "code",
   "execution_count": 64,
   "metadata": {},
   "outputs": [],
   "source": [
    "'''\n",
    "Given an integer array nums, find the contiguous subarray (containing at least \n",
    "one number) which has the largest sum and return its sum.\n",
    "\n",
    "Input: [-2,1,-3,4,-1,2,1,-5,4],\n",
    "Output: 6\n",
    "Explanation: [4,-1,2,1] has the largest sum = 6.\n",
    "'''\n",
    "class Solution:\n",
    "    def maxSubArray(self, nums):\n",
    "        re = [0] * len(nums)\n",
    "        \n",
    "        re[0] = nums[0]\n",
    "        for i in range(1, len(nums)):\n",
    "            re[i] = max(nums[i], re[i-1]+nums[i])\n",
    "        \n",
    "        return max(re)"
   ]
  },
  {
   "cell_type": "markdown",
   "metadata": {},
   "source": [
    "## Plus One"
   ]
  },
  {
   "cell_type": "markdown",
   "metadata": {},
   "source": [
    "Quite naive question, just remember the right way to use 'map' and .join."
   ]
  },
  {
   "cell_type": "code",
   "execution_count": 71,
   "metadata": {},
   "outputs": [],
   "source": [
    "'''\n",
    "Given a non-empty array of digits representing a non-negative integer, increment\n",
    "one to the integer. The digits are stored such that the most significant digit \n",
    "is at the head of the list, and each element in the array contains a single digit.\n",
    "\n",
    "Input: [1,2,3]\n",
    "Output: [1,2,4]\n",
    "Explanation: The array represents the integer 123.\n",
    "'''\n",
    "class Solution:\n",
    "    def plusOne(self, digits):\n",
    "        str_list = list(map(str, digits))\n",
    "        new_num = int(''.join(str_list)) + 1\n",
    "        return list(str(new_num))"
   ]
  },
  {
   "cell_type": "markdown",
   "metadata": {},
   "source": [
    "## Sqrt(x)"
   ]
  },
  {
   "cell_type": "markdown",
   "metadata": {},
   "source": [
    "This is a good application of binary search."
   ]
  },
  {
   "cell_type": "code",
   "execution_count": 73,
   "metadata": {},
   "outputs": [],
   "source": [
    "'''\n",
    "Implement int sqrt(int x). Compute and return the square root of \n",
    "x, where x is guaranteed to be a non-negative integer.\n",
    "\n",
    "Input: 8\n",
    "Output: 2\n",
    "Explanation: The square root of 8 is 2.82842..., and since \n",
    "the decimal part is truncated, 2 is returned.\n",
    "'''\n",
    "# Solution 1, naive way, loop from 0\n",
    "class Solution:\n",
    "    def mySqrt(self, x):\n",
    "        for i in range(x+1):\n",
    "            sq = i**2\n",
    "            if sq < x:\n",
    "                pass\n",
    "            elif sq == x:\n",
    "                return i\n",
    "            else:\n",
    "                return (i-1)\n",
    "            \n",
    "# Solution 2, binary search, O(logn)\n",
    "class Solution:\n",
    "    def mySqrt(self, x):\n",
    "        l = 0\n",
    "        r = x\n",
    "        while l <= r:\n",
    "            mid = l + (r - l)//2\n",
    "            if mid**2 <= x < (mid+1)**2:\n",
    "                return mid\n",
    "            elif x < mid**2:\n",
    "                r = mid\n",
    "            else:\n",
    "                l = mid+1"
   ]
  },
  {
   "cell_type": "markdown",
   "metadata": {},
   "source": [
    "## Climbing Stairs"
   ]
  },
  {
   "cell_type": "markdown",
   "metadata": {},
   "source": [
    "Very simple dynamic programming case."
   ]
  },
  {
   "cell_type": "code",
   "execution_count": 74,
   "metadata": {},
   "outputs": [],
   "source": [
    "'''\n",
    "You are climbing a stair case. It takes n steps to reach to the top.\n",
    "Each time you can either climb 1 or 2 steps. In how many distinct \n",
    "ways can you climb to the top?\n",
    "\n",
    "Input: 2\n",
    "Output: 2\n",
    "Explanation: There are two ways to climb to the top.\n",
    "\n",
    "Input: 3\n",
    "Output: 3\n",
    "Explanation: There are three ways to climb to the top.\n",
    "'''\n",
    "class Solution:\n",
    "    def climbStairs(self, n):\n",
    "        if n == 1:\n",
    "            return 1\n",
    "        if n == 2:\n",
    "            return 2\n",
    "        \n",
    "        t_1 = 1\n",
    "        t_2 = 2\n",
    "        for i in range(2, n):\n",
    "            t = t_1 + t_2\n",
    "            t_1 = t_2\n",
    "            t_2 = t\n",
    "            \n",
    "        return t"
   ]
  },
  {
   "cell_type": "markdown",
   "metadata": {},
   "source": [
    "## Merge Sorted Array"
   ]
  },
  {
   "cell_type": "markdown",
   "metadata": {},
   "source": [
    "Just a list manipulation, the difficult part is we need to do it in place. Think about what is the easiest direction to do it? from left to right or from right to left?"
   ]
  },
  {
   "cell_type": "code",
   "execution_count": 102,
   "metadata": {},
   "outputs": [],
   "source": [
    "'''\n",
    "Given two sorted integer arrays nums1 and nums2, merge nums2 into nums1 \n",
    "as one sorted array. The number of elements initialized in nums1 and \n",
    "nums2 are m and n respectively. You may assume that nums1 has enough space \n",
    "(size that is equal to m + n) to hold additional elements from nums2.\n",
    "\n",
    "Input:\n",
    "nums1 = [1,2,3,0,0,0], m = 3\n",
    "nums2 = [2,5,6],       n = 3\n",
    "\n",
    "Output: [1,2,2,3,5,6]\n",
    "'''\n",
    "# Solution 1, directly do it from left to right\n",
    "class Solution:\n",
    "    def merge(self, nums1, m, nums2, n):\n",
    "        \"\"\"\n",
    "        Do not return anything, modify nums1 in-place instead.\n",
    "        \"\"\"\n",
    "        i = 0\n",
    "        j = 0\n",
    "        while ((i - j) < m) and (j < n):\n",
    "            if nums1[i] <= nums2[j]:\n",
    "                i += 1\n",
    "            else:\n",
    "                nums1[i+1:(m+j+1)] = nums1[i:(m+j)]\n",
    "                nums1[i] = nums2[j]\n",
    "                i += 1\n",
    "                j += 1\n",
    "        \n",
    "        if (i-j) == m:\n",
    "            nums1[i:n+i-j] = nums2[j:n]\n",
    "\n",
    "# Solution 2, change the direction then we don't need to worry about moving elements\n",
    "class Solution(object):\n",
    "    def merge(self, nums1, m, nums2, n):\n",
    "        while m > 0 and n > 0:\n",
    "            if nums1[m - 1] > nums2[n - 1]:\n",
    "                nums1[m + n - 1] = nums1[m - 1]\n",
    "                m -= 1\n",
    "            else:\n",
    "                nums1[m + n - 1] = nums2[n - 1]\n",
    "                n -= 1\n",
    "        nums1[:n] = nums2[:n]"
   ]
  },
  {
   "cell_type": "markdown",
   "metadata": {},
   "source": [
    "## Convert Sorted Array to Binary Search Tree"
   ]
  },
  {
   "cell_type": "markdown",
   "metadata": {},
   "source": [
    "Understand the BST structure and be familiar with the typical way (recursion) to build it."
   ]
  },
  {
   "cell_type": "code",
   "execution_count": 103,
   "metadata": {},
   "outputs": [],
   "source": [
    "'''\n",
    "Given an array where elements are sorted in ascending order, convert it to a height balanced BST.\n",
    "\n",
    "Given the sorted array: [-10,-3,0,5,9]:\n",
    "One possible answer is: [0,-3,9,-10,null,5], which represents the following height balanced BST:\n",
    "\n",
    "      0\n",
    "     / \\\n",
    "   -3   9\n",
    "   /   /\n",
    " -10  5\n",
    "'''\n",
    "# Definition for a binary tree node.\n",
    "# class TreeNode:\n",
    "#     def __init__(self, val=0, left=None, right=None):\n",
    "#         self.val = val\n",
    "#         self.left = left\n",
    "#         self.right = right\n",
    "class Solution:\n",
    "    def sortedArrayToBST(self, nums):\n",
    "        if not nums:\n",
    "            return None\n",
    "        \n",
    "        mid = len(nums)//2\n",
    "        \n",
    "        re = TreeNode(nums[mid])\n",
    "        re.left = self.sortedArrayToBST(nums[:mid])\n",
    "        re.right = self.sortedArrayToBST(nums[mid+1:])\n",
    "        \n",
    "        return re"
   ]
  },
  {
   "cell_type": "markdown",
   "metadata": {},
   "source": [
    "## Best Time to Buy and Sell Stock"
   ]
  },
  {
   "cell_type": "markdown",
   "metadata": {},
   "source": [
    "We can treat this a dynamic programming prolem: what information do we need from previous (n-1) steps to make decision at step n?"
   ]
  },
  {
   "cell_type": "code",
   "execution_count": 104,
   "metadata": {},
   "outputs": [],
   "source": [
    "'''\n",
    "Say you have an array for which the ith element is the price \n",
    "of a given stock on day i. If you were only permitted to \n",
    "complete at most one transaction (i.e., buy one and sell one \n",
    "share of the stock), design an algorithm to find the maximum \n",
    "profit. Note that you cannot sell a stock before you buy one.\n",
    "\n",
    "Input: [7,1,5,3,6,4]\n",
    "Output: 5\n",
    "Explanation: \n",
    "Buy on day 2 (price = 1) and sell on day 5 (price = 6), profit = 6-1 = 5.\n",
    "Not 7-1 = 6, as selling price needs to be larger than buying price.\n",
    "'''\n",
    "class Solution:\n",
    "    def maxProfit(self, prices):\n",
    "        if not prices:\n",
    "            return 0\n",
    "        \n",
    "        re = [0]*len(prices)\n",
    "        min_price = prices[0]\n",
    "        \n",
    "        for i in range(len(prices)):\n",
    "            re[i] = max(0, prices[i] - min_price)\n",
    "            min_price = min(min_price, prices[i])\n",
    "        \n",
    "        return max(re)"
   ]
  },
  {
   "cell_type": "code",
   "execution_count": null,
   "metadata": {},
   "outputs": [],
   "source": []
  }
 ],
 "metadata": {
  "kernelspec": {
   "display_name": "Python 3",
   "language": "python",
   "name": "python3"
  },
  "language_info": {
   "codemirror_mode": {
    "name": "ipython",
    "version": 3
   },
   "file_extension": ".py",
   "mimetype": "text/x-python",
   "name": "python",
   "nbconvert_exporter": "python",
   "pygments_lexer": "ipython3",
   "version": "3.6.8"
  }
 },
 "nbformat": 4,
 "nbformat_minor": 2
}
