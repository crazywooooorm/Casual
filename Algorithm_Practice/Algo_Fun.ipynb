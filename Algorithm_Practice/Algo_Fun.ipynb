{
 "cells": [
  {
   "cell_type": "markdown",
   "metadata": {},
   "source": [
    "## Google Challenge"
   ]
  },
  {
   "cell_type": "markdown",
   "metadata": {},
   "source": [
    "### Generate prime numbers"
   ]
  },
  {
   "cell_type": "code",
   "execution_count": 1,
   "metadata": {},
   "outputs": [],
   "source": [
    "def solution(i):\n",
    "    '''\n",
    "    Question: A string is built by prime numbers: '23571113171923...', given index i, return the 5 digit number\n",
    "    Input: integer i\n",
    "    Output: 5 digit number strating from index i\n",
    "    \n",
    "    >> solution(0)\n",
    "    23571\n",
    "    \n",
    "    >> solution(3)\n",
    "    71113\n",
    "    '''\n",
    "    from math import sqrt\n",
    "    p = [2]\n",
    "    n = 3\n",
    "    while True:\n",
    "        isprime = True\n",
    "        for j in range(2, int(sqrt(n) + 1)):\n",
    "            if n%j == 0:\n",
    "                isprime = False\n",
    "                break\n",
    "        if isprime:\n",
    "            p.append(n)\n",
    "        n += 1\n",
    "        \n",
    "        if len(p) >= 5000:\n",
    "            break\n",
    "    \n",
    "    final_list = ''.join(str(x) for x in p)\n",
    "    return int(final_list[i:(i+5)])"
   ]
  },
  {
   "cell_type": "markdown",
   "metadata": {},
   "source": [
    "### Divisible problem"
   ]
  },
  {
   "cell_type": "code",
   "execution_count": 2,
   "metadata": {},
   "outputs": [],
   "source": [
    "def solution(l):\n",
    "    '''\n",
    "    Question: Given a list of digits (0-9), build the largest numbers that is divisible by 3\n",
    "    Input: list of digits\n",
    "    Output: largest number divisible by 3, if no match, return 0\n",
    "    \n",
    "    >> solution([2,1,3,4])\n",
    "    432\n",
    "    \n",
    "    >> solution([3,1,1,4,5])\n",
    "    4311\n",
    "    '''\n",
    "    def max_num(t):\n",
    "        if len(t) == 0:\n",
    "            return 0\n",
    "        t.sort(reverse = True)\n",
    "        max_t = ''.join(str(x) for x in t)\n",
    "        return int(max_t)\n",
    "        \n",
    "    re = sum(l)%3\n",
    "    \n",
    "    if re == 0:\n",
    "        return max_num(l)\n",
    "    \n",
    "    l_0 = [x for x in l if x%3 == 0]\n",
    "    l_0.sort()\n",
    "    \n",
    "    l_1 = [x for x in l if x%3 == 1]\n",
    "    l_1.sort()\n",
    "    \n",
    "    l_2 = [x for x in l if x%3 == 2]\n",
    "    l_2.sort()\n",
    "    \n",
    "    if re == 1:\n",
    "        if len(l_1) != 0:\n",
    "            l_1.pop(0)\n",
    "            return max_num((l_0 + l_1 + l_2))\n",
    "        elif len(l_2) >= 2:\n",
    "            l_2.pop(0)\n",
    "            l_2.pop(0)\n",
    "            return max_num((l_0 + l_1 + l_2))\n",
    "        else:\n",
    "            return 0\n",
    "    \n",
    "    if re == 2:\n",
    "        if len(l_2) != 0:\n",
    "            l_2.pop(0)\n",
    "            return max_num((l_0 + l_1 + l_2))\n",
    "        elif len(l_1) >= 2:\n",
    "            l_1.pop(0)\n",
    "            l_1.pop(0)\n",
    "            return max_num((l_0 + l_1 + l_2))\n",
    "        else:\n",
    "            return 0"
   ]
  },
  {
   "cell_type": "markdown",
   "metadata": {},
   "source": [
    "### XOR checksum"
   ]
  },
  {
   "cell_type": "code",
   "execution_count": null,
   "metadata": {},
   "outputs": [],
   "source": [
    "'''\n",
    "you'll need to write a program to return the same security checksum \n",
    "that the guards would have after they would have checked all the \n",
    "workers through. Fortunately, Commander Lambda's desire for \n",
    "efficiency won't allow for hours-long lines, so the checkpoint \n",
    "guards have found ways to quicken the pass-through rate. Instead of \n",
    "checking each and every worker coming through, the guards instead \n",
    "go over everyone in line while noting their security IDs, then allow \n",
    "the line to fill back up. Once they've done that they go over the \n",
    "line again, this time leaving off the last worker. They continue \n",
    "doing this, leaving off one more worker from the line each time but \n",
    "recording the security IDs of those they do check, until they skip \n",
    "the entire line, at which point they XOR the IDs of all the workers \n",
    "they noted into a checksum and then take off for lunch. Fortunately, \n",
    "the workers' orderly nature causes them to always line up in \n",
    "numerical order without any gaps.\n",
    "\n",
    "For example, if the first worker in line has ID 0 and the security \n",
    "checkpoint line holds three workers, the process would look like this:\n",
    "0 1 2 /\n",
    "3 4 / 5\n",
    "6 / 7 8\n",
    "where the guards' XOR (^) checksum is 0^1^2^3^4^6 == 2.\n",
    "\n",
    "Likewise, if the first worker has ID 17 and the checkpoint holds \n",
    "four workers, the process would look like:\n",
    "17 18 19 20 /\n",
    "21 22 23 / 24\n",
    "25 26 / 27 28\n",
    "29 / 30 31 32\n",
    "which produces the checksum 17^18^19^20^21^22^23^25^26^29 == 14.\n",
    "\n",
    "All worker IDs (including the first worker) are between 0 and \n",
    "2000000000 inclusive, and the checkpoint line will always be at \n",
    "least 1 worker long.\n",
    "\n",
    ">> solution(0, 3)\n",
    "2\n",
    "\n",
    ">> solution(17, 4)\n",
    "14\n",
    "'''"
   ]
  },
  {
   "cell_type": "code",
   "execution_count": 32,
   "metadata": {},
   "outputs": [],
   "source": [
    "# Naive version\n",
    "# Easy logic, but taking long time to run\n",
    "def solution(start, length):\n",
    "    cs = 'None'\n",
    "    for i in range(length):\n",
    "        for j in range((length - i)):\n",
    "            if cs != 'None':\n",
    "                cs ^= (start + i*length + j)\n",
    "            else:\n",
    "                cs = start\n",
    "    return cs"
   ]
  },
  {
   "cell_type": "code",
   "execution_count": 33,
   "metadata": {},
   "outputs": [],
   "source": [
    "# Using the property of XOR to reduce computation\n",
    "def solution(start, length):\n",
    "    def simpleXOR(n):\n",
    "        val = n % 4\n",
    "        if val == 0:\n",
    "            return n\n",
    "        if val == 1:\n",
    "            return 1\n",
    "        if val == 2:\n",
    "            return n + 1\n",
    "        return 0\n",
    "    \n",
    "    if length == 1:\n",
    "        return start\n",
    "    val = simpleXOR(start + 2*(length-1))\n",
    "    if start > 1:\n",
    "        val ^= simpleXOR(start - 1)\n",
    "    for i in range(length-2):\n",
    "        elems = length - 2 - i\n",
    "        init = start + length*(2 + i) - 1\n",
    "        val = val ^ simpleXOR(init + elems) ^ simpleXOR(init)\n",
    "    return val"
   ]
  },
  {
   "cell_type": "code",
   "execution_count": null,
   "metadata": {},
   "outputs": [],
   "source": []
  }
 ],
 "metadata": {
  "kernelspec": {
   "display_name": "Python 3",
   "language": "python",
   "name": "python3"
  },
  "language_info": {
   "codemirror_mode": {
    "name": "ipython",
    "version": 3
   },
   "file_extension": ".py",
   "mimetype": "text/x-python",
   "name": "python",
   "nbconvert_exporter": "python",
   "pygments_lexer": "ipython3",
   "version": "3.6.8"
  }
 },
 "nbformat": 4,
 "nbformat_minor": 2
}
