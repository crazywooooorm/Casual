{
 "cells": [
  {
   "cell_type": "markdown",
   "metadata": {},
   "source": [
    "## Google Challenge"
   ]
  },
  {
   "cell_type": "markdown",
   "metadata": {},
   "source": [
    "### Generate prime numbers"
   ]
  },
  {
   "cell_type": "code",
   "execution_count": 1,
   "metadata": {},
   "outputs": [],
   "source": [
    "def solution(i):\n",
    "    '''\n",
    "    Question: A string is built by prime numbers: '23571113171923...', given index i, return the 5 digit number\n",
    "    Input: integer i\n",
    "    Output: 5 digit number strating from index i\n",
    "    \n",
    "    >> solution(0)\n",
    "    23571\n",
    "    \n",
    "    >> solution(3)\n",
    "    71113\n",
    "    '''\n",
    "    from math import sqrt\n",
    "    p = [2]\n",
    "    n = 3\n",
    "    while True:\n",
    "        isprime = True\n",
    "        for j in range(2, int(sqrt(n) + 1)):\n",
    "            if n%j == 0:\n",
    "                isprime = False\n",
    "                break\n",
    "        if isprime:\n",
    "            p.append(n)\n",
    "        n += 1\n",
    "        \n",
    "        if len(p) >= 5000:\n",
    "            break\n",
    "    \n",
    "    final_list = ''.join(str(x) for x in p)\n",
    "    return int(final_list[i:(i+5)])"
   ]
  },
  {
   "cell_type": "markdown",
   "metadata": {},
   "source": [
    "### Divisible problem"
   ]
  },
  {
   "cell_type": "code",
   "execution_count": 2,
   "metadata": {},
   "outputs": [],
   "source": [
    "def solution(l):\n",
    "    '''\n",
    "    Question: Given a list of digits (0-9), build the largest numbers that is divisible by 3\n",
    "    Input: list of digits\n",
    "    Output: largest number divisible by 3, if no match, return 0\n",
    "    \n",
    "    >> solution([2,1,3,4])\n",
    "    432\n",
    "    \n",
    "    >> solution([3,1,1,4,5])\n",
    "    4311\n",
    "    '''\n",
    "    def max_num(t):\n",
    "        if len(t) == 0:\n",
    "            return 0\n",
    "        t.sort(reverse = True)\n",
    "        max_t = ''.join(str(x) for x in t)\n",
    "        return int(max_t)\n",
    "        \n",
    "    re = sum(l)%3\n",
    "    \n",
    "    if re == 0:\n",
    "        return max_num(l)\n",
    "    \n",
    "    l_0 = [x for x in l if x%3 == 0]\n",
    "    l_0.sort()\n",
    "    \n",
    "    l_1 = [x for x in l if x%3 == 1]\n",
    "    l_1.sort()\n",
    "    \n",
    "    l_2 = [x for x in l if x%3 == 2]\n",
    "    l_2.sort()\n",
    "    \n",
    "    if re == 1:\n",
    "        if len(l_1) != 0:\n",
    "            l_1.pop(0)\n",
    "            return max_num((l_0 + l_1 + l_2))\n",
    "        elif len(l_2) >= 2:\n",
    "            l_2.pop(0)\n",
    "            l_2.pop(0)\n",
    "            return max_num((l_0 + l_1 + l_2))\n",
    "        else:\n",
    "            return 0\n",
    "    \n",
    "    if re == 2:\n",
    "        if len(l_2) != 0:\n",
    "            l_2.pop(0)\n",
    "            return max_num((l_0 + l_1 + l_2))\n",
    "        elif len(l_1) >= 2:\n",
    "            l_1.pop(0)\n",
    "            l_1.pop(0)\n",
    "            return max_num((l_0 + l_1 + l_2))\n",
    "        else:\n",
    "            return 0"
   ]
  },
  {
   "cell_type": "code",
   "execution_count": null,
   "metadata": {},
   "outputs": [],
   "source": []
  }
 ],
 "metadata": {
  "kernelspec": {
   "display_name": "Python 3",
   "language": "python",
   "name": "python3"
  },
  "language_info": {
   "codemirror_mode": {
    "name": "ipython",
    "version": 3
   },
   "file_extension": ".py",
   "mimetype": "text/x-python",
   "name": "python",
   "nbconvert_exporter": "python",
   "pygments_lexer": "ipython3",
   "version": "3.6.8"
  }
 },
 "nbformat": 4,
 "nbformat_minor": 2
}
