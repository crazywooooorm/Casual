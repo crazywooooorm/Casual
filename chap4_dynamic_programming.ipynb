{
 "cells": [
  {
   "cell_type": "markdown",
   "metadata": {},
   "source": [
    "# Dynamic Programming"
   ]
  },
  {
   "cell_type": "code",
   "execution_count": 1,
   "metadata": {
    "scrolled": true
   },
   "outputs": [
    {
     "data": {
      "text/plain": [
       "(4, [1, 3, 9, 10, 11])"
      ]
     },
     "execution_count": 1,
     "metadata": {},
     "output_type": "execute_result"
    }
   ],
   "source": [
    "import numpy as np\n",
    "\n",
    "\"\"\"\n",
    "Given a primitive calculator that can perform the following three operations \\\n",
    "with the current number x: multiply x by 2, multiply x by 3, or add 1 to x. \\\n",
    "Your goal is given a positive integer n, find the minimum number of operations \\\n",
    "needed to obtain the number n starting from the number 1.\n",
    "Args:\n",
    "    target: The number needs to be splitted\n",
    "Returns:\n",
    "    The minimum number of operations and the calculation process.\n",
    "\"\"\"\n",
    "def PrimSplit(target):\n",
    "    if target <= 0:\n",
    "        raise ValueError(\"Input must be positive integers.\")\n",
    "    elif target == 1:\n",
    "        return 0, [1]\n",
    "    \n",
    "    if target%3 == 0:\n",
    "        operation3 = PrimSplit(target//3)\n",
    "    else:\n",
    "        operation3 = (np.nan, None)\n",
    "        \n",
    "    if target%2 == 0:\n",
    "        operation2 = PrimSplit(target//2)\n",
    "    else:\n",
    "        operation2 = (np.nan, None)\n",
    "    \n",
    "    operation1 = PrimSplit(target-1)\n",
    "    \n",
    "    min_operation = np.nanmin([operation1[0], operation2[0], operation3[0]])\n",
    "    if operation3[0] == min_operation:\n",
    "        operation_num = operation3[0]+1 \n",
    "        operation_process = operation3[1]\n",
    "    elif operation2[0] == min_operation:\n",
    "        operation_num = operation2[0]+1 \n",
    "        operation_process = operation2[1]        \n",
    "    else:\n",
    "        operation_num = operation1[0]+1 \n",
    "        operation_process = operation1[1]\n",
    "        \n",
    "    operation_process.append(target)\n",
    "    return operation_num, operation_process\n",
    "\n",
    "PrimSplit(11)"
   ]
  },
  {
   "cell_type": "code",
   "execution_count": 2,
   "metadata": {
    "scrolled": true
   },
   "outputs": [
    {
     "data": {
      "text/plain": [
       "9"
      ]
     },
     "execution_count": 2,
     "metadata": {},
     "output_type": "execute_result"
    }
   ],
   "source": [
    "\"\"\"\n",
    "Find the best plan to take the gold with the pack number and weight restrictions.\n",
    "Args:\n",
    "    restrictions: The first element is weight, the second is pack number\n",
    "    gold: The list of the gold with different weight\n",
    "Returns:\n",
    "    The best value we can get given the restrictions\n",
    "\"\"\"\n",
    "def TakeGold(restrictions, gold_list):\n",
    "    pack_limit = restrictions[0]\n",
    "    weight_limit = restrictions[1]\n",
    "    \n",
    "    if (pack_limit <= 0) or (len(gold_list) == 0) or (weight_limit-gold_list[0] < 0):\n",
    "        return 0\n",
    "    else:\n",
    "        gold_list_new = gold_list.copy()\n",
    "        new = gold_list_new.pop(0)\n",
    "        plan_exclude = TakeGold([pack_limit, weight_limit], gold_list_new)\n",
    "        plan_include = TakeGold([pack_limit-1, weight_limit-new], gold_list_new) + new\n",
    "        max_value = max(plan_exclude, plan_include)\n",
    "        \n",
    "    return max_value\n",
    "\n",
    "\n",
    "def BestValue(restrictions, gold):\n",
    "    gold_list = sorted(gold)\n",
    "    return TakeGold(restrictions, gold_list)\n",
    "\n",
    "BestValue([3, 10], [1,4,8])"
   ]
  },
  {
   "cell_type": "code",
   "execution_count": 3,
   "metadata": {},
   "outputs": [
    {
     "data": {
      "text/plain": [
       "5"
      ]
     },
     "execution_count": 3,
     "metadata": {},
     "output_type": "execute_result"
    }
   ],
   "source": [
    "# Editing Distance Naive Method\n",
    "# Start the recursion from the last element, and many subgroups are calculated repeatedly\n",
    "# The worst complicity can be O(2^n)\n",
    "\"\"\"\n",
    "Calculate the edit distance between two strings (fewest steps to make two strings same \\\n",
    "by removing, inserting and replacing)\n",
    "Args:\n",
    "    string1: The first string\n",
    "    string2: The second string\n",
    "    m: The index of first string, used to work on the subset\n",
    "    n: The index of the second string, used to work on the subset\n",
    "Returns:\n",
    "    The fewest steps to make those two strings same\n",
    "\"\"\"\n",
    "def EditDistance_naive(string1, string2, m=None, n=None):\n",
    "    if m == None:\n",
    "        m = len(string1)\n",
    "    if n == None:\n",
    "        n = len(string2)\n",
    "    \n",
    "    if m == 0:\n",
    "        return n\n",
    "    if n == 0:\n",
    "        return m\n",
    "    \n",
    "    insert_step = EditDistance_naive(string1, string2, m-1, n) + 1\n",
    "    remove_step = EditDistance_naive(string1, string2, m, n-1) + 1\n",
    "    \n",
    "    if string1[m-1] == string2[n-1]:\n",
    "        replace_step = EditDistance_naive(string1, string2, m-1, n-1)\n",
    "    else:\n",
    "        replace_step = EditDistance_naive(string1, string2, m-1, n-1) + 1\n",
    "    \n",
    "    return min(insert_step, remove_step, replace_step)\n",
    "\n",
    "EditDistance_naive(\"editing\", \"distance\")"
   ]
  },
  {
   "cell_type": "code",
   "execution_count": 6,
   "metadata": {},
   "outputs": [
    {
     "ename": "TypeError",
     "evalue": "'<' not supported between instances of 'NoneType' and 'NoneType'",
     "output_type": "error",
     "traceback": [
      "\u001b[1;31m---------------------------------------------------------------------------\u001b[0m",
      "\u001b[1;31mTypeError\u001b[0m                                 Traceback (most recent call last)",
      "\u001b[1;32m<ipython-input-6-4730696fece5>\u001b[0m in \u001b[0;36m<module>\u001b[1;34m()\u001b[0m\n\u001b[0;32m     31\u001b[0m     \u001b[1;32mreturn\u001b[0m \u001b[0mresult\u001b[0m\u001b[1;33m[\u001b[0m\u001b[0mm\u001b[0m\u001b[1;33m]\u001b[0m\u001b[1;33m[\u001b[0m\u001b[0mn\u001b[0m\u001b[1;33m]\u001b[0m\u001b[1;33m\u001b[0m\u001b[0m\n\u001b[0;32m     32\u001b[0m \u001b[1;33m\u001b[0m\u001b[0m\n\u001b[1;32m---> 33\u001b[1;33m \u001b[0mEditDistance_matrix\u001b[0m\u001b[1;33m(\u001b[0m\u001b[1;34m\"editing\"\u001b[0m\u001b[1;33m,\u001b[0m \u001b[1;34m\"distance\"\u001b[0m\u001b[1;33m)\u001b[0m\u001b[1;33m\u001b[0m\u001b[0m\n\u001b[0m",
      "\u001b[1;32m<ipython-input-6-4730696fece5>\u001b[0m in \u001b[0;36mEditDistance_matrix\u001b[1;34m(string1, string2)\u001b[0m\n\u001b[0;32m     28\u001b[0m                 result[i][j] = 1 + min(result[i-1][j],\n\u001b[0;32m     29\u001b[0m                                        \u001b[0mresult\u001b[0m\u001b[1;33m[\u001b[0m\u001b[0mi\u001b[0m\u001b[1;33m]\u001b[0m\u001b[1;33m[\u001b[0m\u001b[0mj\u001b[0m\u001b[1;33m+\u001b[0m\u001b[1;36m1\u001b[0m\u001b[1;33m]\u001b[0m\u001b[1;33m,\u001b[0m\u001b[1;33m\u001b[0m\u001b[0m\n\u001b[1;32m---> 30\u001b[1;33m                                        result[i-1][j-1])\n\u001b[0m\u001b[0;32m     31\u001b[0m     \u001b[1;32mreturn\u001b[0m \u001b[0mresult\u001b[0m\u001b[1;33m[\u001b[0m\u001b[0mm\u001b[0m\u001b[1;33m]\u001b[0m\u001b[1;33m[\u001b[0m\u001b[0mn\u001b[0m\u001b[1;33m]\u001b[0m\u001b[1;33m\u001b[0m\u001b[0m\n\u001b[0;32m     32\u001b[0m \u001b[1;33m\u001b[0m\u001b[0m\n",
      "\u001b[1;31mTypeError\u001b[0m: '<' not supported between instances of 'NoneType' and 'NoneType'"
     ]
    }
   ],
   "source": [
    "# Editing Distance Matrix Method \n",
    "# Start the loop from the first element, results of subgroups are stored so they won't be calculated repeatedly\n",
    "# The complicity is O(len1*len2)\n",
    "\"\"\"\n",
    "Calculate the edit distance between two strings (fewest steps to make two strings same \\\n",
    "by removing, inserting and replacing)\n",
    "Args:\n",
    "    string1: The first string\n",
    "    string2: The second string\n",
    "Returns:\n",
    "    The fewest steps to make those two strings same\n",
    "\"\"\"\n",
    "def EditDistance_matrix(string1, string2):\n",
    "    m = len(string1)\n",
    "    n = len(string2)\n",
    "    \n",
    "    result = [[None]*(n+1) for i in range(m+1)]\n",
    "    \n",
    "    for i in range(m+1):\n",
    "        for j in range(n+1):\n",
    "            if i == 0:\n",
    "                result[i][j] = j\n",
    "            if j == 0:\n",
    "                result[i][j] = i\n",
    "            if string1[i-1] == string2[j-1]:\n",
    "                result[i][j] = result[i-1][j-1]\n",
    "            else:\n",
    "                result[i][j] = 1 + min(result[i-1][j],\n",
    "                                       result[i][j+1],\n",
    "                                       result[i-1][j-1])\n",
    "    return result[m][n]    \n",
    "\n",
    "EditDistance_matrix(\"editing\", \"distance\")"
   ]
  }
 ],
 "metadata": {
  "kernelspec": {
   "display_name": "Python 3",
   "language": "python",
   "name": "python3"
  },
  "language_info": {
   "codemirror_mode": {
    "name": "ipython",
    "version": 3
   },
   "file_extension": ".py",
   "mimetype": "text/x-python",
   "name": "python",
   "nbconvert_exporter": "python",
   "pygments_lexer": "ipython3",
   "version": "3.6.5"
  }
 },
 "nbformat": 4,
 "nbformat_minor": 2
}
