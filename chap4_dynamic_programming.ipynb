{
 "cells": [
  {
   "cell_type": "markdown",
   "metadata": {},
   "source": [
    "# Dynamic Programming"
   ]
  },
  {
   "cell_type": "code",
   "execution_count": 1,
   "metadata": {
    "scrolled": true
   },
   "outputs": [
    {
     "data": {
      "text/plain": [
       "(4, [1, 3, 9, 10, 11])"
      ]
     },
     "execution_count": 1,
     "metadata": {},
     "output_type": "execute_result"
    }
   ],
   "source": [
    "import numpy as np\n",
    "\n",
    "\"\"\"\n",
    "Given a primitive calculator that can perform the following three operations \\\n",
    "with the current number x: multiply x by 2, multiply x by 3, or add 1 to x. \\\n",
    "Your goal is given a positive integer n, find the minimum number of operations \\\n",
    "needed to obtain the number n starting from the number 1.\n",
    "Args:\n",
    "    target: The number needs to be splitted\n",
    "Returns:\n",
    "    The minimum number of operations and the calculation process.\n",
    "\"\"\"\n",
    "def PrimSplit(target):\n",
    "    if target <= 0:\n",
    "        raise ValueError(\"Input must be positive integers.\")\n",
    "    elif target == 1:\n",
    "        return 0, [1]\n",
    "    \n",
    "    if target%3 == 0:\n",
    "        operation3 = PrimSplit(target//3)\n",
    "    else:\n",
    "        operation3 = (np.nan, None)\n",
    "        \n",
    "    if target%2 == 0:\n",
    "        operation2 = PrimSplit(target//2)\n",
    "    else:\n",
    "        operation2 = (np.nan, None)\n",
    "    \n",
    "    operation1 = PrimSplit(target-1)\n",
    "    \n",
    "    min_operation = np.nanmin([operation1[0], operation2[0], operation3[0]])\n",
    "    if operation3[0] == min_operation:\n",
    "        operation_num = operation3[0]+1 \n",
    "        operation_process = operation3[1]\n",
    "    elif operation2[0] == min_operation:\n",
    "        operation_num = operation2[0]+1 \n",
    "        operation_process = operation2[1]        \n",
    "    else:\n",
    "        operation_num = operation1[0]+1 \n",
    "        operation_process = operation1[1]\n",
    "        \n",
    "    operation_process.append(target)\n",
    "    return operation_num, operation_process\n",
    "\n",
    "PrimSplit(11)"
   ]
  },
  {
   "cell_type": "code",
   "execution_count": 2,
   "metadata": {
    "scrolled": true
   },
   "outputs": [
    {
     "data": {
      "text/plain": [
       "9"
      ]
     },
     "execution_count": 2,
     "metadata": {},
     "output_type": "execute_result"
    }
   ],
   "source": [
    "\"\"\"\n",
    "Find the best plan to take the gold with the pack number and weight restrictions.\n",
    "Args:\n",
    "    restrictions: The first element is weight, the second is pack number\n",
    "    gold: The list of the gold with different weight\n",
    "Returns:\n",
    "    The best value we can get given the restrictions\n",
    "\"\"\"\n",
    "def TakeGold(restrictions, gold_list):\n",
    "    pack_limit = restrictions[0]\n",
    "    weight_limit = restrictions[1]\n",
    "    \n",
    "    if (pack_limit <= 0) or (len(gold_list) == 0) or (weight_limit-gold_list[0] < 0):\n",
    "        return 0\n",
    "    else:\n",
    "        gold_list_new = gold_list.copy()\n",
    "        new = gold_list_new.pop(0)\n",
    "        plan_exclude = TakeGold([pack_limit, weight_limit], gold_list_new)\n",
    "        plan_include = TakeGold([pack_limit-1, weight_limit-new], gold_list_new) + new\n",
    "        max_value = max(plan_exclude, plan_include)\n",
    "        \n",
    "    return max_value\n",
    "\n",
    "\n",
    "def BestValue(restrictions, gold):\n",
    "    gold_list = sorted(gold)\n",
    "    return TakeGold(restrictions, gold_list)\n",
    "\n",
    "BestValue([3, 10], [1,4,8])"
   ]
  },
  {
   "cell_type": "code",
   "execution_count": 11,
   "metadata": {},
   "outputs": [
    {
     "data": {
      "text/plain": [
       "5"
      ]
     },
     "execution_count": 11,
     "metadata": {},
     "output_type": "execute_result"
    }
   ],
   "source": [
    "# Editing Distance Naive Method\n",
    "# Start the recursion from the last element, and many subgroups are calculated repeatedly\n",
    "# The worst complicity can be O(2^n)\n",
    "\"\"\"\n",
    "Calculate the edit distance between two strings (fewest steps to make two strings same \\\n",
    "by removing, inserting and replacing)\n",
    "Args:\n",
    "    string1: The first string\n",
    "    string2: The second string\n",
    "    m: The index of first string, used to work on the subset\n",
    "    n: The index of the second string, used to work on the subset\n",
    "Returns:\n",
    "    The fewest steps to make those two strings same\n",
    "\"\"\"\n",
    "def EditDistance_naive(string1, string2, m=None, n=None):\n",
    "    if m == None:\n",
    "        m = len(string1)\n",
    "    if n == None:\n",
    "        n = len(string2)\n",
    "    \n",
    "    if m == 0:\n",
    "        return n\n",
    "    if n == 0:\n",
    "        return m\n",
    "    \n",
    "    insert_step = EditDistance_naive(string1, string2, m-1, n) + 1\n",
    "    remove_step = EditDistance_naive(string1, string2, m, n-1) + 1\n",
    "    \n",
    "    if string1[m-1] == string2[n-1]:\n",
    "        replace_step = EditDistance_naive(string1, string2, m-1, n-1)\n",
    "    else:\n",
    "        replace_step = EditDistance_naive(string1, string2, m-1, n-1) + 1\n",
    "    \n",
    "    return min(insert_step, remove_step, replace_step)\n",
    "\n",
    "EditDistance_naive(\"editing\", \"distance\")"
   ]
  },
  {
   "cell_type": "code",
   "execution_count": 12,
   "metadata": {},
   "outputs": [
    {
     "data": {
      "text/plain": [
       "5"
      ]
     },
     "execution_count": 12,
     "metadata": {},
     "output_type": "execute_result"
    }
   ],
   "source": [
    "# Editing Distance Matrix Method \n",
    "# Start the loop from the first element, results of subgroups are stored so they won't be calculated repeatedly\n",
    "# The complicity is O(len1*len2)\n",
    "\"\"\"\n",
    "Calculate the edit distance between two strings (fewest steps to make two strings same \\\n",
    "by removing, inserting and replacing)\n",
    "Args:\n",
    "    string1: The first string\n",
    "    string2: The second string\n",
    "Returns:\n",
    "    The fewest steps to make those two strings same\n",
    "\"\"\"\n",
    "def EditDistance_matrix(string1, string2):\n",
    "    m = len(string1)\n",
    "    n = len(string2)\n",
    "    \n",
    "    result = [[None]*(n+1) for i in range(m+1)]\n",
    "    \n",
    "    for i in range(m+1):\n",
    "        for j in range(n+1):\n",
    "            if i == 0:\n",
    "                result[i][j] = j\n",
    "            elif j == 0:\n",
    "                result[i][j] = i\n",
    "            elif string1[i-1] == string2[j-1]:\n",
    "                result[i][j] = result[i-1][j-1]\n",
    "            else:\n",
    "                result[i][j] = 1 + min(result[i-1][j],\n",
    "                                       result[i][j-1],\n",
    "                                       result[i-1][j-1])\n",
    "    return result[m][n]    \n",
    "\n",
    "EditDistance_matrix(\"editing\", \"distance\")"
   ]
  },
  {
   "cell_type": "code",
   "execution_count": 25,
   "metadata": {},
   "outputs": [
    {
     "data": {
      "text/plain": [
       "200"
      ]
     },
     "execution_count": 25,
     "metadata": {},
     "output_type": "execute_result"
    }
   ],
   "source": [
    "# Maximum an arithmetic expression\n",
    "\"\"\"\n",
    "Operation Fun\n",
    "\"\"\"\n",
    "def calc(a, b, op):\n",
    "    if op == \"+\":\n",
    "        return a + b\n",
    "    elif op == \"-\":\n",
    "        return a - b\n",
    "    elif op == \"*\":\n",
    "        return a * b\n",
    "    else:\n",
    "        assert False\n",
    "\n",
    "\"\"\"\n",
    "Find the minimum and the maximum value for specific area in matrix\n",
    "Args:\n",
    "    i: Starting point\n",
    "    j: Ending point\n",
    "    op: Operation list\n",
    "    m: Minimum value matrix\n",
    "    M: Maximum value matrix\n",
    "Returns:\n",
    "    The maximum value and the minimum value\n",
    "\"\"\"\n",
    "def MinMax(i, j, op, m, M):\n",
    "    mmin = float(\"Inf\")\n",
    "    Mmax = float(\"-Inf\")\n",
    "    for k in range(i, j):\n",
    "        a = calc(m[i][k], m[k+1][j], op[k])\n",
    "        b = calc(m[i][k], M[k+1][j], op[k])\n",
    "        c = calc(M[i][k], m[k+1][j], op[k])\n",
    "        d = calc(M[i][k], M[k+1][j], op[k])\n",
    "        mmin = min(mmin, a, b, c, d)\n",
    "        Mmax = max(Mmax, a, b, c, d)\n",
    "    return mmin, Mmax\n",
    "\n",
    "\"\"\"\n",
    "Maximum the value of an arithmetic expression\n",
    "Args:\n",
    "    expression: The expression to be splitted\n",
    "Returns:\n",
    "    The maximum value of the expression \n",
    "\"\"\"\n",
    "def MaxExpr(expression):\n",
    "    digit = [int(expression[i]) for i in range(0,len(expression),2)]\n",
    "    op = expression[1:len(expression):2]\n",
    "    \n",
    "    n = len(digit)\n",
    "    m = [[None]*n for i in range(n)]\n",
    "    M = [[None]*n for i in range(n)]\n",
    "    \n",
    "    # when length of parenthesis is 0, value is itself\n",
    "    for i in range(n):\n",
    "        m[i][i] = digit[i]\n",
    "        M[i][i] = digit[i]\n",
    "    \n",
    "    # loop for each length>0\n",
    "    for l in range(1, n):\n",
    "        for i in range(n-l):\n",
    "            j = i + l\n",
    "            m[i][j], M[i][j] = MinMax(i, j, op, m, M)\n",
    "    return M[0][n-1]\n",
    "\n",
    "MaxExpr(\"5-8+7*4-8+9\")"
   ]
  },
  {
   "cell_type": "code",
   "execution_count": 17,
   "metadata": {},
   "outputs": [
    {
     "data": {
      "text/plain": [
       "4"
      ]
     },
     "execution_count": 17,
     "metadata": {},
     "output_type": "execute_result"
    }
   ],
   "source": [
    "# Common substring of two strings\n",
    "\"\"\"\n",
    "Calculate the length of common substring of two strings\n",
    "Args:\n",
    "    string1: The first string\n",
    "    string2: The second string\n",
    "Returns:\n",
    "    Length of the common substring\n",
    "\"\"\"\n",
    "def SubString(string1, string2):\n",
    "    m = len(string1)\n",
    "    n = len(string2)\n",
    "    \n",
    "    result = [[None]*(n+1) for i in range(m+1)]\n",
    "    \n",
    "    for i in range(m+1):\n",
    "        for j in range(n+1):\n",
    "            if i == 0 or j == 0:\n",
    "                result[i][j] = 0\n",
    "            elif string1[i-1] == string2[j-1]:\n",
    "                result[i][j] = result[i-1][j-1] + 1\n",
    "            else:\n",
    "                result[i][j] = max(result[i-1][j],\n",
    "                                   result[i][j-1])\n",
    "    return result[m][n]\n",
    "\n",
    "SubString(\"AGGTAB\", \"GXTXAYB\")"
   ]
  },
  {
   "cell_type": "code",
   "execution_count": 37,
   "metadata": {},
   "outputs": [
    {
     "data": {
      "text/plain": [
       "3"
      ]
     },
     "execution_count": 37,
     "metadata": {},
     "output_type": "execute_result"
    }
   ],
   "source": [
    "# Common substring of three strings\n",
    "\"\"\"\n",
    "Calculate the length of common substring of three strings\n",
    "Args:\n",
    "    string1: The first string\n",
    "    string2: The second string\n",
    "    string3: The third string\n",
    "Returns:\n",
    "    Length of the common substring\n",
    "\"\"\"\n",
    "def SubString(string1, string2, string3):\n",
    "    m = len(string1)\n",
    "    n = len(string2)\n",
    "    l = len(string3)\n",
    "    \n",
    "    result = [[[None]*(l+1) for i in range(n+1)] for j in range(m+1)]\n",
    "    \n",
    "    for i in range(m+1):\n",
    "        for j in range(n+1):\n",
    "            for k in range(l+1):\n",
    "                if i == 0 or j == 0 or k == 0:\n",
    "                    result[i][j][k] = 0\n",
    "                elif string1[i-1] == string2[j-1] == string3[k-1]:\n",
    "                    result[i][j][k] = result[i-1][j-1][k-1] + 1\n",
    "                else:\n",
    "                    result[i][j][k] = max(result[i-1][j][k],\n",
    "                                       result[i][j-1][k],\n",
    "                                       result[i][j][k-1])\n",
    "    return result[m][n][l]\n",
    "\n",
    "SubString(\"83217\", \"8213897\", \"683147\")"
   ]
  }
 ],
 "metadata": {
  "kernelspec": {
   "display_name": "Python 3",
   "language": "python",
   "name": "python3"
  },
  "language_info": {
   "codemirror_mode": {
    "name": "ipython",
    "version": 3
   },
   "file_extension": ".py",
   "mimetype": "text/x-python",
   "name": "python",
   "nbconvert_exporter": "python",
   "pygments_lexer": "ipython3",
   "version": "3.6.5"
  }
 },
 "nbformat": 4,
 "nbformat_minor": 2
}
